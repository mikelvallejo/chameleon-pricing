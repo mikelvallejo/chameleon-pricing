{
 "metadata": {
  "language_info": {
   "codemirror_mode": {
    "name": "ipython",
    "version": 3
   },
   "file_extension": ".py",
   "mimetype": "text/x-python",
   "name": "python",
   "nbconvert_exporter": "python",
   "pygments_lexer": "ipython3",
   "version": "3.8.5"
  },
  "orig_nbformat": 4,
  "kernelspec": {
   "name": "python3",
   "display_name": "Python 3.8.5 64-bit ('base': conda)"
  },
  "interpreter": {
   "hash": "e134e05457d34029b6460cd73bbf1ed73f339b5b6d98c95be70b69eba114fe95"
  }
 },
 "nbformat": 4,
 "nbformat_minor": 2,
 "cells": [
  {
   "cell_type": "code",
   "execution_count": 1,
   "metadata": {},
   "outputs": [],
   "source": [
    "import pandas as pd"
   ]
  },
  {
   "source": [
    "# Data Source 1: OECD"
   ],
   "cell_type": "markdown",
   "metadata": {}
  },
  {
   "cell_type": "code",
   "execution_count": 2,
   "metadata": {},
   "outputs": [],
   "source": [
    "oecd_data=pd.read_csv('/Users/mikel/Documents/Projects/chameleon-pricing/oecd_data.csv')"
   ]
  },
  {
   "cell_type": "code",
   "execution_count": 3,
   "metadata": {},
   "outputs": [
    {
     "output_type": "execute_result",
     "data": {
      "text/plain": [
       "  LOCATION INDICATOR SUBJECT MEASURE FREQUENCY  TIME     Value  Flag Codes\n",
       "0      AUS       PPP     TOT  NATUSD         A  1960  0.700946         NaN\n",
       "1      AUS       PPP     TOT  NATUSD         A  1961  0.701324         NaN\n",
       "2      AUS       PPP     TOT  NATUSD         A  1962  0.687990         NaN\n",
       "3      AUS       PPP     TOT  NATUSD         A  1963  0.698321         NaN\n",
       "4      AUS       PPP     TOT  NATUSD         A  1964  0.708346         NaN"
      ],
      "text/html": "<div>\n<style scoped>\n    .dataframe tbody tr th:only-of-type {\n        vertical-align: middle;\n    }\n\n    .dataframe tbody tr th {\n        vertical-align: top;\n    }\n\n    .dataframe thead th {\n        text-align: right;\n    }\n</style>\n<table border=\"1\" class=\"dataframe\">\n  <thead>\n    <tr style=\"text-align: right;\">\n      <th></th>\n      <th>LOCATION</th>\n      <th>INDICATOR</th>\n      <th>SUBJECT</th>\n      <th>MEASURE</th>\n      <th>FREQUENCY</th>\n      <th>TIME</th>\n      <th>Value</th>\n      <th>Flag Codes</th>\n    </tr>\n  </thead>\n  <tbody>\n    <tr>\n      <th>0</th>\n      <td>AUS</td>\n      <td>PPP</td>\n      <td>TOT</td>\n      <td>NATUSD</td>\n      <td>A</td>\n      <td>1960</td>\n      <td>0.700946</td>\n      <td>NaN</td>\n    </tr>\n    <tr>\n      <th>1</th>\n      <td>AUS</td>\n      <td>PPP</td>\n      <td>TOT</td>\n      <td>NATUSD</td>\n      <td>A</td>\n      <td>1961</td>\n      <td>0.701324</td>\n      <td>NaN</td>\n    </tr>\n    <tr>\n      <th>2</th>\n      <td>AUS</td>\n      <td>PPP</td>\n      <td>TOT</td>\n      <td>NATUSD</td>\n      <td>A</td>\n      <td>1962</td>\n      <td>0.687990</td>\n      <td>NaN</td>\n    </tr>\n    <tr>\n      <th>3</th>\n      <td>AUS</td>\n      <td>PPP</td>\n      <td>TOT</td>\n      <td>NATUSD</td>\n      <td>A</td>\n      <td>1963</td>\n      <td>0.698321</td>\n      <td>NaN</td>\n    </tr>\n    <tr>\n      <th>4</th>\n      <td>AUS</td>\n      <td>PPP</td>\n      <td>TOT</td>\n      <td>NATUSD</td>\n      <td>A</td>\n      <td>1964</td>\n      <td>0.708346</td>\n      <td>NaN</td>\n    </tr>\n  </tbody>\n</table>\n</div>"
     },
     "metadata": {},
     "execution_count": 3
    }
   ],
   "source": [
    "oecd_data.head()"
   ]
  },
  {
   "cell_type": "code",
   "execution_count": 4,
   "metadata": {},
   "outputs": [
    {
     "output_type": "execute_result",
     "data": {
      "text/plain": [
       "(2705, 8)"
      ]
     },
     "metadata": {},
     "execution_count": 4
    }
   ],
   "source": [
    "oecd_data.shape"
   ]
  },
  {
   "cell_type": "code",
   "execution_count": 5,
   "metadata": {},
   "outputs": [
    {
     "output_type": "execute_result",
     "data": {
      "text/plain": [
       "Flag Codes    2705\n",
       "dtype: int64"
      ]
     },
     "metadata": {},
     "execution_count": 5
    }
   ],
   "source": [
    "nan_cols=oecd_data.isna().sum()\n",
    "\n",
    "nan_cols[nan_cols>0]"
   ]
  },
  {
   "cell_type": "code",
   "execution_count": 6,
   "metadata": {},
   "outputs": [],
   "source": [
    "oecd_data=oecd_data.dropna(axis=1)\n",
    "oecd_data=oecd_data.drop(columns=['SUBJECT', 'MEASURE', 'FREQUENCY', 'INDICATOR'])"
   ]
  },
  {
   "cell_type": "code",
   "execution_count": 7,
   "metadata": {},
   "outputs": [
    {
     "output_type": "execute_result",
     "data": {
      "text/plain": [
       "  LOCATION  TIME     Value\n",
       "0      AUS  1960  0.700946\n",
       "1      AUS  1961  0.701324\n",
       "2      AUS  1962  0.687990\n",
       "3      AUS  1963  0.698321\n",
       "4      AUS  1964  0.708346"
      ],
      "text/html": "<div>\n<style scoped>\n    .dataframe tbody tr th:only-of-type {\n        vertical-align: middle;\n    }\n\n    .dataframe tbody tr th {\n        vertical-align: top;\n    }\n\n    .dataframe thead th {\n        text-align: right;\n    }\n</style>\n<table border=\"1\" class=\"dataframe\">\n  <thead>\n    <tr style=\"text-align: right;\">\n      <th></th>\n      <th>LOCATION</th>\n      <th>TIME</th>\n      <th>Value</th>\n    </tr>\n  </thead>\n  <tbody>\n    <tr>\n      <th>0</th>\n      <td>AUS</td>\n      <td>1960</td>\n      <td>0.700946</td>\n    </tr>\n    <tr>\n      <th>1</th>\n      <td>AUS</td>\n      <td>1961</td>\n      <td>0.701324</td>\n    </tr>\n    <tr>\n      <th>2</th>\n      <td>AUS</td>\n      <td>1962</td>\n      <td>0.687990</td>\n    </tr>\n    <tr>\n      <th>3</th>\n      <td>AUS</td>\n      <td>1963</td>\n      <td>0.698321</td>\n    </tr>\n    <tr>\n      <th>4</th>\n      <td>AUS</td>\n      <td>1964</td>\n      <td>0.708346</td>\n    </tr>\n  </tbody>\n</table>\n</div>"
     },
     "metadata": {},
     "execution_count": 7
    }
   ],
   "source": [
    "oecd_data.head()"
   ]
  },
  {
   "cell_type": "code",
   "execution_count": 23,
   "metadata": {},
   "outputs": [
    {
     "output_type": "execute_result",
     "data": {
      "text/plain": [
       "<pandas.core.groupby.generic.DataFrameGroupBy object at 0x7ff28103f850>"
      ]
     },
     "metadata": {},
     "execution_count": 23
    }
   ],
   "source": [
    "oecd_data.groupby('LOCATION')"
   ]
  },
  {
   "source": [
    "# Data Source 2: The World Bank"
   ],
   "cell_type": "markdown",
   "metadata": {}
  },
  {
   "cell_type": "code",
   "execution_count": 15,
   "metadata": {},
   "outputs": [],
   "source": [
    "twb_data = pd.read_csv('/Users/mikel/Documents/Projects/chameleon-pricing/twb_data.csv', sep=\",\", skiprows=3)"
   ]
  },
  {
   "cell_type": "code",
   "execution_count": 16,
   "metadata": {},
   "outputs": [
    {
     "output_type": "execute_result",
     "data": {
      "text/plain": [
       "  Country Name Country Code  \\\n",
       "0        Aruba          ABW   \n",
       "1  Afghanistan          AFG   \n",
       "2       Angola          AGO   \n",
       "3      Albania          ALB   \n",
       "4      Andorra          AND   \n",
       "\n",
       "                                      Indicator Name Indicator Code  1960  \\\n",
       "0  PPP conversion factor, GDP (LCU per internatio...     PA.NUS.PPP   NaN   \n",
       "1  PPP conversion factor, GDP (LCU per internatio...     PA.NUS.PPP   NaN   \n",
       "2  PPP conversion factor, GDP (LCU per internatio...     PA.NUS.PPP   NaN   \n",
       "3  PPP conversion factor, GDP (LCU per internatio...     PA.NUS.PPP   NaN   \n",
       "4  PPP conversion factor, GDP (LCU per internatio...     PA.NUS.PPP   NaN   \n",
       "\n",
       "   1961  1962  1963  1964  1965  ...       2012       2013       2014  \\\n",
       "0   NaN   NaN   NaN   NaN   NaN  ...   1.317801   1.285141   1.308843   \n",
       "1   NaN   NaN   NaN   NaN   NaN  ...  17.242264  17.509419  17.035878   \n",
       "2   NaN   NaN   NaN   NaN   NaN  ...  65.681671  66.019371  65.000671   \n",
       "3   NaN   NaN   NaN   NaN   NaN  ...  43.655000  44.113709  42.893807   \n",
       "4   NaN   NaN   NaN   NaN   NaN  ...        NaN        NaN        NaN   \n",
       "\n",
       "        2015       2016       2017        2018        2019  2020  Unnamed: 65  \n",
       "0   1.362318   1.355045   1.350690         NaN         NaN   NaN          NaN  \n",
       "1  17.022520  17.445828  17.205558   17.144309   17.914483   NaN          NaN  \n",
       "2  68.182045  80.778969  92.951721  117.116076  146.167168   NaN          NaN  \n",
       "3  42.705831  42.385879  42.255535   42.125796   41.342391   NaN          NaN  \n",
       "4        NaN        NaN        NaN         NaN         NaN   NaN          NaN  \n",
       "\n",
       "[5 rows x 66 columns]"
      ],
      "text/html": "<div>\n<style scoped>\n    .dataframe tbody tr th:only-of-type {\n        vertical-align: middle;\n    }\n\n    .dataframe tbody tr th {\n        vertical-align: top;\n    }\n\n    .dataframe thead th {\n        text-align: right;\n    }\n</style>\n<table border=\"1\" class=\"dataframe\">\n  <thead>\n    <tr style=\"text-align: right;\">\n      <th></th>\n      <th>Country Name</th>\n      <th>Country Code</th>\n      <th>Indicator Name</th>\n      <th>Indicator Code</th>\n      <th>1960</th>\n      <th>1961</th>\n      <th>1962</th>\n      <th>1963</th>\n      <th>1964</th>\n      <th>1965</th>\n      <th>...</th>\n      <th>2012</th>\n      <th>2013</th>\n      <th>2014</th>\n      <th>2015</th>\n      <th>2016</th>\n      <th>2017</th>\n      <th>2018</th>\n      <th>2019</th>\n      <th>2020</th>\n      <th>Unnamed: 65</th>\n    </tr>\n  </thead>\n  <tbody>\n    <tr>\n      <th>0</th>\n      <td>Aruba</td>\n      <td>ABW</td>\n      <td>PPP conversion factor, GDP (LCU per internatio...</td>\n      <td>PA.NUS.PPP</td>\n      <td>NaN</td>\n      <td>NaN</td>\n      <td>NaN</td>\n      <td>NaN</td>\n      <td>NaN</td>\n      <td>NaN</td>\n      <td>...</td>\n      <td>1.317801</td>\n      <td>1.285141</td>\n      <td>1.308843</td>\n      <td>1.362318</td>\n      <td>1.355045</td>\n      <td>1.350690</td>\n      <td>NaN</td>\n      <td>NaN</td>\n      <td>NaN</td>\n      <td>NaN</td>\n    </tr>\n    <tr>\n      <th>1</th>\n      <td>Afghanistan</td>\n      <td>AFG</td>\n      <td>PPP conversion factor, GDP (LCU per internatio...</td>\n      <td>PA.NUS.PPP</td>\n      <td>NaN</td>\n      <td>NaN</td>\n      <td>NaN</td>\n      <td>NaN</td>\n      <td>NaN</td>\n      <td>NaN</td>\n      <td>...</td>\n      <td>17.242264</td>\n      <td>17.509419</td>\n      <td>17.035878</td>\n      <td>17.022520</td>\n      <td>17.445828</td>\n      <td>17.205558</td>\n      <td>17.144309</td>\n      <td>17.914483</td>\n      <td>NaN</td>\n      <td>NaN</td>\n    </tr>\n    <tr>\n      <th>2</th>\n      <td>Angola</td>\n      <td>AGO</td>\n      <td>PPP conversion factor, GDP (LCU per internatio...</td>\n      <td>PA.NUS.PPP</td>\n      <td>NaN</td>\n      <td>NaN</td>\n      <td>NaN</td>\n      <td>NaN</td>\n      <td>NaN</td>\n      <td>NaN</td>\n      <td>...</td>\n      <td>65.681671</td>\n      <td>66.019371</td>\n      <td>65.000671</td>\n      <td>68.182045</td>\n      <td>80.778969</td>\n      <td>92.951721</td>\n      <td>117.116076</td>\n      <td>146.167168</td>\n      <td>NaN</td>\n      <td>NaN</td>\n    </tr>\n    <tr>\n      <th>3</th>\n      <td>Albania</td>\n      <td>ALB</td>\n      <td>PPP conversion factor, GDP (LCU per internatio...</td>\n      <td>PA.NUS.PPP</td>\n      <td>NaN</td>\n      <td>NaN</td>\n      <td>NaN</td>\n      <td>NaN</td>\n      <td>NaN</td>\n      <td>NaN</td>\n      <td>...</td>\n      <td>43.655000</td>\n      <td>44.113709</td>\n      <td>42.893807</td>\n      <td>42.705831</td>\n      <td>42.385879</td>\n      <td>42.255535</td>\n      <td>42.125796</td>\n      <td>41.342391</td>\n      <td>NaN</td>\n      <td>NaN</td>\n    </tr>\n    <tr>\n      <th>4</th>\n      <td>Andorra</td>\n      <td>AND</td>\n      <td>PPP conversion factor, GDP (LCU per internatio...</td>\n      <td>PA.NUS.PPP</td>\n      <td>NaN</td>\n      <td>NaN</td>\n      <td>NaN</td>\n      <td>NaN</td>\n      <td>NaN</td>\n      <td>NaN</td>\n      <td>...</td>\n      <td>NaN</td>\n      <td>NaN</td>\n      <td>NaN</td>\n      <td>NaN</td>\n      <td>NaN</td>\n      <td>NaN</td>\n      <td>NaN</td>\n      <td>NaN</td>\n      <td>NaN</td>\n      <td>NaN</td>\n    </tr>\n  </tbody>\n</table>\n<p>5 rows × 66 columns</p>\n</div>"
     },
     "metadata": {},
     "execution_count": 16
    }
   ],
   "source": [
    "twb_data.head()"
   ]
  },
  {
   "cell_type": "code",
   "execution_count": 17,
   "metadata": {},
   "outputs": [
    {
     "output_type": "execute_result",
     "data": {
      "text/plain": [
       "Index(['Country Name', 'Country Code', 'Indicator Name', 'Indicator Code',\n",
       "       '1960', '1961', '1962', '1963', '1964', '1965', '1966', '1967', '1968',\n",
       "       '1969', '1970', '1971', '1972', '1973', '1974', '1975', '1976', '1977',\n",
       "       '1978', '1979', '1980', '1981', '1982', '1983', '1984', '1985', '1986',\n",
       "       '1987', '1988', '1989', '1990', '1991', '1992', '1993', '1994', '1995',\n",
       "       '1996', '1997', '1998', '1999', '2000', '2001', '2002', '2003', '2004',\n",
       "       '2005', '2006', '2007', '2008', '2009', '2010', '2011', '2012', '2013',\n",
       "       '2014', '2015', '2016', '2017', '2018', '2019', '2020', 'Unnamed: 65'],\n",
       "      dtype='object')"
      ]
     },
     "metadata": {},
     "execution_count": 17
    }
   ],
   "source": [
    "twb_data.columns"
   ]
  },
  {
   "cell_type": "code",
   "execution_count": 18,
   "metadata": {},
   "outputs": [],
   "source": [
    "twb_data=twb_data.drop(columns=['Unnamed: 65', 'Indicator Name', 'Indicator Code'])"
   ]
  },
  {
   "cell_type": "code",
   "execution_count": 19,
   "metadata": {},
   "outputs": [
    {
     "output_type": "execute_result",
     "data": {
      "text/plain": [
       "  Country Name Country Code  1960  1961  1962  1963  1964  1965  1966  1967  \\\n",
       "0        Aruba          ABW   NaN   NaN   NaN   NaN   NaN   NaN   NaN   NaN   \n",
       "1  Afghanistan          AFG   NaN   NaN   NaN   NaN   NaN   NaN   NaN   NaN   \n",
       "2       Angola          AGO   NaN   NaN   NaN   NaN   NaN   NaN   NaN   NaN   \n",
       "3      Albania          ALB   NaN   NaN   NaN   NaN   NaN   NaN   NaN   NaN   \n",
       "4      Andorra          AND   NaN   NaN   NaN   NaN   NaN   NaN   NaN   NaN   \n",
       "\n",
       "   ...       2011       2012       2013       2014       2015       2016  \\\n",
       "0  ...   1.302941   1.317801   1.285141   1.308843   1.362318   1.355045   \n",
       "1  ...  16.613478  17.242264  17.509419  17.035878  17.022520  17.445828   \n",
       "2  ...  64.605751  65.681671  66.019371  65.000671  68.182045  80.778969   \n",
       "3  ...  43.857834  43.655000  44.113709  42.893807  42.705831  42.385879   \n",
       "4  ...        NaN        NaN        NaN        NaN        NaN        NaN   \n",
       "\n",
       "        2017        2018        2019  2020  \n",
       "0   1.350690         NaN         NaN   NaN  \n",
       "1  17.205558   17.144309   17.914483   NaN  \n",
       "2  92.951721  117.116076  146.167168   NaN  \n",
       "3  42.255535   42.125796   41.342391   NaN  \n",
       "4        NaN         NaN         NaN   NaN  \n",
       "\n",
       "[5 rows x 63 columns]"
      ],
      "text/html": "<div>\n<style scoped>\n    .dataframe tbody tr th:only-of-type {\n        vertical-align: middle;\n    }\n\n    .dataframe tbody tr th {\n        vertical-align: top;\n    }\n\n    .dataframe thead th {\n        text-align: right;\n    }\n</style>\n<table border=\"1\" class=\"dataframe\">\n  <thead>\n    <tr style=\"text-align: right;\">\n      <th></th>\n      <th>Country Name</th>\n      <th>Country Code</th>\n      <th>1960</th>\n      <th>1961</th>\n      <th>1962</th>\n      <th>1963</th>\n      <th>1964</th>\n      <th>1965</th>\n      <th>1966</th>\n      <th>1967</th>\n      <th>...</th>\n      <th>2011</th>\n      <th>2012</th>\n      <th>2013</th>\n      <th>2014</th>\n      <th>2015</th>\n      <th>2016</th>\n      <th>2017</th>\n      <th>2018</th>\n      <th>2019</th>\n      <th>2020</th>\n    </tr>\n  </thead>\n  <tbody>\n    <tr>\n      <th>0</th>\n      <td>Aruba</td>\n      <td>ABW</td>\n      <td>NaN</td>\n      <td>NaN</td>\n      <td>NaN</td>\n      <td>NaN</td>\n      <td>NaN</td>\n      <td>NaN</td>\n      <td>NaN</td>\n      <td>NaN</td>\n      <td>...</td>\n      <td>1.302941</td>\n      <td>1.317801</td>\n      <td>1.285141</td>\n      <td>1.308843</td>\n      <td>1.362318</td>\n      <td>1.355045</td>\n      <td>1.350690</td>\n      <td>NaN</td>\n      <td>NaN</td>\n      <td>NaN</td>\n    </tr>\n    <tr>\n      <th>1</th>\n      <td>Afghanistan</td>\n      <td>AFG</td>\n      <td>NaN</td>\n      <td>NaN</td>\n      <td>NaN</td>\n      <td>NaN</td>\n      <td>NaN</td>\n      <td>NaN</td>\n      <td>NaN</td>\n      <td>NaN</td>\n      <td>...</td>\n      <td>16.613478</td>\n      <td>17.242264</td>\n      <td>17.509419</td>\n      <td>17.035878</td>\n      <td>17.022520</td>\n      <td>17.445828</td>\n      <td>17.205558</td>\n      <td>17.144309</td>\n      <td>17.914483</td>\n      <td>NaN</td>\n    </tr>\n    <tr>\n      <th>2</th>\n      <td>Angola</td>\n      <td>AGO</td>\n      <td>NaN</td>\n      <td>NaN</td>\n      <td>NaN</td>\n      <td>NaN</td>\n      <td>NaN</td>\n      <td>NaN</td>\n      <td>NaN</td>\n      <td>NaN</td>\n      <td>...</td>\n      <td>64.605751</td>\n      <td>65.681671</td>\n      <td>66.019371</td>\n      <td>65.000671</td>\n      <td>68.182045</td>\n      <td>80.778969</td>\n      <td>92.951721</td>\n      <td>117.116076</td>\n      <td>146.167168</td>\n      <td>NaN</td>\n    </tr>\n    <tr>\n      <th>3</th>\n      <td>Albania</td>\n      <td>ALB</td>\n      <td>NaN</td>\n      <td>NaN</td>\n      <td>NaN</td>\n      <td>NaN</td>\n      <td>NaN</td>\n      <td>NaN</td>\n      <td>NaN</td>\n      <td>NaN</td>\n      <td>...</td>\n      <td>43.857834</td>\n      <td>43.655000</td>\n      <td>44.113709</td>\n      <td>42.893807</td>\n      <td>42.705831</td>\n      <td>42.385879</td>\n      <td>42.255535</td>\n      <td>42.125796</td>\n      <td>41.342391</td>\n      <td>NaN</td>\n    </tr>\n    <tr>\n      <th>4</th>\n      <td>Andorra</td>\n      <td>AND</td>\n      <td>NaN</td>\n      <td>NaN</td>\n      <td>NaN</td>\n      <td>NaN</td>\n      <td>NaN</td>\n      <td>NaN</td>\n      <td>NaN</td>\n      <td>NaN</td>\n      <td>...</td>\n      <td>NaN</td>\n      <td>NaN</td>\n      <td>NaN</td>\n      <td>NaN</td>\n      <td>NaN</td>\n      <td>NaN</td>\n      <td>NaN</td>\n      <td>NaN</td>\n      <td>NaN</td>\n      <td>NaN</td>\n    </tr>\n  </tbody>\n</table>\n<p>5 rows × 63 columns</p>\n</div>"
     },
     "metadata": {},
     "execution_count": 19
    }
   ],
   "source": [
    "twb_data.head()"
   ]
  },
  {
   "source": [
    "# Data Source 3: Exportator"
   ],
   "cell_type": "markdown",
   "metadata": {}
  },
  {
   "cell_type": "code",
   "execution_count": 20,
   "metadata": {},
   "outputs": [],
   "source": [
    "exportator_data=pd.read_html('https://www.exportator.com/purchasing-power-parity-pricing-calculator')"
   ]
  },
  {
   "cell_type": "code",
   "execution_count": 21,
   "metadata": {},
   "outputs": [],
   "source": [
    "exportator_data=exportator_data[0]"
   ]
  },
  {
   "cell_type": "code",
   "execution_count": 22,
   "metadata": {},
   "outputs": [
    {
     "output_type": "execute_result",
     "data": {
      "text/plain": [
       "                Country  PPP Index Parity Pricing Discount Price (USD)\n",
       "0            Albania 🇦🇱      43.36                    -59%          $0\n",
       "1            Algeria 🇩🇿      32.60                    -76%          $0\n",
       "2  Antigua & Barbuda 🇦🇬       1.70                    -37%          $0\n",
       "3            Andorra 🇦🇩       0.00             No discount          $0\n",
       "4          Argentina 🇦🇷      26.53                    -71%          $0"
      ],
      "text/html": "<div>\n<style scoped>\n    .dataframe tbody tr th:only-of-type {\n        vertical-align: middle;\n    }\n\n    .dataframe tbody tr th {\n        vertical-align: top;\n    }\n\n    .dataframe thead th {\n        text-align: right;\n    }\n</style>\n<table border=\"1\" class=\"dataframe\">\n  <thead>\n    <tr style=\"text-align: right;\">\n      <th></th>\n      <th>Country</th>\n      <th>PPP Index</th>\n      <th>Parity Pricing Discount</th>\n      <th>Price (USD)</th>\n    </tr>\n  </thead>\n  <tbody>\n    <tr>\n      <th>0</th>\n      <td>Albania 🇦🇱</td>\n      <td>43.36</td>\n      <td>-59%</td>\n      <td>$0</td>\n    </tr>\n    <tr>\n      <th>1</th>\n      <td>Algeria 🇩🇿</td>\n      <td>32.60</td>\n      <td>-76%</td>\n      <td>$0</td>\n    </tr>\n    <tr>\n      <th>2</th>\n      <td>Antigua &amp; Barbuda 🇦🇬</td>\n      <td>1.70</td>\n      <td>-37%</td>\n      <td>$0</td>\n    </tr>\n    <tr>\n      <th>3</th>\n      <td>Andorra 🇦🇩</td>\n      <td>0.00</td>\n      <td>No discount</td>\n      <td>$0</td>\n    </tr>\n    <tr>\n      <th>4</th>\n      <td>Argentina 🇦🇷</td>\n      <td>26.53</td>\n      <td>-71%</td>\n      <td>$0</td>\n    </tr>\n  </tbody>\n</table>\n</div>"
     },
     "metadata": {},
     "execution_count": 22
    }
   ],
   "source": [
    "exportator_data.head()"
   ]
  },
  {
   "cell_type": "code",
   "execution_count": null,
   "metadata": {},
   "outputs": [],
   "source": []
  },
  {
   "source": [
    "# Data evaluation"
   ],
   "cell_type": "markdown",
   "metadata": {}
  },
  {
   "cell_type": "code",
   "execution_count": 31,
   "metadata": {},
   "outputs": [
    {
     "output_type": "execute_result",
     "data": {
      "text/plain": [
       "array(['ABW', 'AFG', 'AGO', 'ALB', 'AND', 'ARB', 'ARE', 'ARG', 'ARM',\n",
       "       'ASM', 'ATG', 'AUS', 'AUT', 'AZE', 'BDI', 'BEL', 'BEN', 'BFA',\n",
       "       'BGD', 'BGR', 'BHR', 'BHS', 'BIH', 'BLR', 'BLZ', 'BMU', 'BOL',\n",
       "       'BRA', 'BRB', 'BRN', 'BTN', 'BWA', 'CAF', 'CAN', 'CEB', 'CHE',\n",
       "       'CHI', 'CHL', 'CHN', 'CIV', 'CMR', 'COD', 'COG', 'COL', 'COM',\n",
       "       'CPV', 'CRI', 'CSS', 'CUB', 'CUW', 'CYM', 'CYP', 'CZE', 'DEU',\n",
       "       'DJI', 'DMA', 'DNK', 'DOM', 'DZA', 'EAP', 'EAR', 'EAS', 'ECA',\n",
       "       'ECS', 'ECU', 'EGY', 'EMU', 'ERI', 'ESP', 'EST', 'ETH', 'EUU',\n",
       "       'FCS', 'FIN', 'FJI', 'FRA', 'FRO', 'FSM', 'GAB', 'GBR', 'GEO',\n",
       "       'GHA', 'GIB', 'GIN', 'GMB', 'GNB', 'GNQ', 'GRC', 'GRD', 'GRL',\n",
       "       'GTM', 'GUM', 'GUY', 'HIC', 'HKG', 'HND', 'HPC', 'HRV', 'HTI',\n",
       "       'HUN', 'IBD', 'IBT', 'IDA', 'IDB', 'IDN', 'IDX', 'IMN', 'IND',\n",
       "       'INX', 'IRL', 'IRN', 'IRQ', 'ISL', 'ISR', 'ITA', 'JAM', 'JOR',\n",
       "       'JPN', 'KAZ', 'KEN', 'KGZ', 'KHM', 'KIR', 'KNA', 'KOR', 'KWT',\n",
       "       'LAC', 'LAO', 'LBN', 'LBR', 'LBY', 'LCA', 'LCN', 'LDC', 'LIC',\n",
       "       'LIE', 'LKA', 'LMC', 'LMY', 'LSO', 'LTE', 'LTU', 'LUX', 'LVA',\n",
       "       'MAC', 'MAF', 'MAR', 'MCO', 'MDA', 'MDG', 'MDV', 'MEA', 'MEX',\n",
       "       'MHL', 'MIC', 'MKD', 'MLI', 'MLT', 'MMR', 'MNA', 'MNE', 'MNG',\n",
       "       'MNP', 'MOZ', 'MRT', 'MUS', 'MWI', 'MYS', 'NAC', 'NAM', 'NCL',\n",
       "       'NER', 'NGA', 'NIC', 'NLD', 'NOR', 'NPL', 'NRU', 'NZL', 'OED',\n",
       "       'OMN', 'OSS', 'PAK', 'PAN', 'PER', 'PHL', 'PLW', 'PNG', 'POL',\n",
       "       'PRE', 'PRI', 'PRK', 'PRT', 'PRY', 'PSE', 'PSS', 'PST', 'PYF',\n",
       "       'QAT', 'ROU', 'RUS', 'RWA', 'SAS', 'SAU', 'SDN', 'SEN', 'SGP',\n",
       "       'SLB', 'SLE', 'SLV', 'SMR', 'SOM', 'SRB', 'SSA', 'SSD', 'SSF',\n",
       "       'SST', 'STP', 'SUR', 'SVK', 'SVN', 'SWE', 'SWZ', 'SXM', 'SYC',\n",
       "       'SYR', 'TCA', 'TCD', 'TEA', 'TEC', 'TGO', 'THA', 'TJK', 'TKM',\n",
       "       'TLA', 'TLS', 'TMN', 'TON', 'TSA', 'TSS', 'TTO', 'TUN', 'TUR',\n",
       "       'TUV', 'TZA', 'UGA', 'UKR', 'UMC', 'URY', 'USA', 'UZB', 'VCT',\n",
       "       'VEN', 'VGB', 'VIR', 'VNM', 'VUT', 'WLD', 'WSM', 'XKX', 'YEM',\n",
       "       'ZAF', 'ZMB', 'ZWE'], dtype=object)"
      ]
     },
     "metadata": {},
     "execution_count": 31
    }
   ],
   "source": [
    "twb_data['Country Code'].unique()"
   ]
  },
  {
   "cell_type": "code",
   "execution_count": 32,
   "metadata": {},
   "outputs": [
    {
     "output_type": "execute_result",
     "data": {
      "text/plain": [
       "array(['AUS', 'AUT', 'BEL', 'CAN', 'CZE', 'DNK', 'FIN', 'FRA', 'DEU',\n",
       "       'GRC', 'HUN', 'ISL', 'IRL', 'ITA', 'JPN', 'KOR', 'LUX', 'MEX',\n",
       "       'NLD', 'NZL', 'NOR', 'POL', 'PRT', 'SVK', 'ESP', 'SWE', 'CHE',\n",
       "       'TUR', 'GBR', 'USA', 'BRA', 'CHL', 'CHN', 'COL', 'EST', 'IND',\n",
       "       'IDN', 'ISR', 'RUS', 'SVN', 'ZAF', 'DEW', 'LVA', 'LTU', 'SAU',\n",
       "       'EA19', 'ARG', 'CRI', 'BGR', 'HRV', 'CYP', 'MLT', 'PER', 'ROU',\n",
       "       'MKD', 'ZMB', 'HKG', 'MDG', 'MAR', 'SGP', 'EU27_2020'],\n",
       "      dtype=object)"
      ]
     },
     "metadata": {},
     "execution_count": 32
    }
   ],
   "source": [
    "oecd_data.LOCATION.unique()"
   ]
  },
  {
   "cell_type": "code",
   "execution_count": null,
   "metadata": {},
   "outputs": [],
   "source": []
  }
 ]
}