{
 "metadata": {
  "language_info": {
   "codemirror_mode": {
    "name": "ipython",
    "version": 3
   },
   "file_extension": ".py",
   "mimetype": "text/x-python",
   "name": "python",
   "nbconvert_exporter": "python",
   "pygments_lexer": "ipython3",
   "version": "3.8.5"
  },
  "orig_nbformat": 4,
  "kernelspec": {
   "name": "python3",
   "display_name": "Python 3.8.5 64-bit ('base': conda)"
  },
  "interpreter": {
   "hash": "e134e05457d34029b6460cd73bbf1ed73f339b5b6d98c95be70b69eba114fe95"
  }
 },
 "nbformat": 4,
 "nbformat_minor": 2,
 "cells": [
  {
   "cell_type": "code",
   "execution_count": 1,
   "metadata": {},
   "outputs": [],
   "source": [
    "import pandas as pd\n",
    "import numpy as np"
   ]
  },
  {
   "source": [
    "# Data Source 1: OECD"
   ],
   "cell_type": "markdown",
   "metadata": {}
  },
  {
   "cell_type": "code",
   "execution_count": 2,
   "metadata": {},
   "outputs": [],
   "source": [
    "oecd_data=pd.read_csv('/Users/mikel/Documents/Projects/chameleon-pricing/oecd_data.csv')"
   ]
  },
  {
   "cell_type": "code",
   "execution_count": 3,
   "metadata": {},
   "outputs": [
    {
     "output_type": "execute_result",
     "data": {
      "text/plain": [
       "  LOCATION INDICATOR SUBJECT MEASURE FREQUENCY  TIME     Value  Flag Codes\n",
       "0      AUS       PPP     TOT  NATUSD         A  1960  0.700946         NaN\n",
       "1      AUS       PPP     TOT  NATUSD         A  1961  0.701324         NaN\n",
       "2      AUS       PPP     TOT  NATUSD         A  1962  0.687990         NaN\n",
       "3      AUS       PPP     TOT  NATUSD         A  1963  0.698321         NaN\n",
       "4      AUS       PPP     TOT  NATUSD         A  1964  0.708346         NaN"
      ],
      "text/html": "<div>\n<style scoped>\n    .dataframe tbody tr th:only-of-type {\n        vertical-align: middle;\n    }\n\n    .dataframe tbody tr th {\n        vertical-align: top;\n    }\n\n    .dataframe thead th {\n        text-align: right;\n    }\n</style>\n<table border=\"1\" class=\"dataframe\">\n  <thead>\n    <tr style=\"text-align: right;\">\n      <th></th>\n      <th>LOCATION</th>\n      <th>INDICATOR</th>\n      <th>SUBJECT</th>\n      <th>MEASURE</th>\n      <th>FREQUENCY</th>\n      <th>TIME</th>\n      <th>Value</th>\n      <th>Flag Codes</th>\n    </tr>\n  </thead>\n  <tbody>\n    <tr>\n      <th>0</th>\n      <td>AUS</td>\n      <td>PPP</td>\n      <td>TOT</td>\n      <td>NATUSD</td>\n      <td>A</td>\n      <td>1960</td>\n      <td>0.700946</td>\n      <td>NaN</td>\n    </tr>\n    <tr>\n      <th>1</th>\n      <td>AUS</td>\n      <td>PPP</td>\n      <td>TOT</td>\n      <td>NATUSD</td>\n      <td>A</td>\n      <td>1961</td>\n      <td>0.701324</td>\n      <td>NaN</td>\n    </tr>\n    <tr>\n      <th>2</th>\n      <td>AUS</td>\n      <td>PPP</td>\n      <td>TOT</td>\n      <td>NATUSD</td>\n      <td>A</td>\n      <td>1962</td>\n      <td>0.687990</td>\n      <td>NaN</td>\n    </tr>\n    <tr>\n      <th>3</th>\n      <td>AUS</td>\n      <td>PPP</td>\n      <td>TOT</td>\n      <td>NATUSD</td>\n      <td>A</td>\n      <td>1963</td>\n      <td>0.698321</td>\n      <td>NaN</td>\n    </tr>\n    <tr>\n      <th>4</th>\n      <td>AUS</td>\n      <td>PPP</td>\n      <td>TOT</td>\n      <td>NATUSD</td>\n      <td>A</td>\n      <td>1964</td>\n      <td>0.708346</td>\n      <td>NaN</td>\n    </tr>\n  </tbody>\n</table>\n</div>"
     },
     "metadata": {},
     "execution_count": 3
    }
   ],
   "source": [
    "oecd_data.head()"
   ]
  },
  {
   "cell_type": "code",
   "execution_count": 4,
   "metadata": {},
   "outputs": [
    {
     "output_type": "execute_result",
     "data": {
      "text/plain": [
       "(2705, 8)"
      ]
     },
     "metadata": {},
     "execution_count": 4
    }
   ],
   "source": [
    "oecd_data.shape"
   ]
  },
  {
   "cell_type": "code",
   "execution_count": 5,
   "metadata": {},
   "outputs": [
    {
     "output_type": "execute_result",
     "data": {
      "text/plain": [
       "Flag Codes    2705\n",
       "dtype: int64"
      ]
     },
     "metadata": {},
     "execution_count": 5
    }
   ],
   "source": [
    "nan_cols=oecd_data.isna().sum()\n",
    "\n",
    "nan_cols[nan_cols>0]"
   ]
  },
  {
   "cell_type": "code",
   "execution_count": 6,
   "metadata": {},
   "outputs": [],
   "source": [
    "oecd_data=oecd_data.dropna(axis=1)\n",
    "oecd_data=oecd_data.drop(columns=['SUBJECT', 'MEASURE', 'FREQUENCY', 'INDICATOR'])"
   ]
  },
  {
   "cell_type": "code",
   "execution_count": 7,
   "metadata": {},
   "outputs": [
    {
     "output_type": "execute_result",
     "data": {
      "text/plain": [
       "  LOCATION  TIME     Value\n",
       "0      AUS  1960  0.700946\n",
       "1      AUS  1961  0.701324\n",
       "2      AUS  1962  0.687990\n",
       "3      AUS  1963  0.698321\n",
       "4      AUS  1964  0.708346"
      ],
      "text/html": "<div>\n<style scoped>\n    .dataframe tbody tr th:only-of-type {\n        vertical-align: middle;\n    }\n\n    .dataframe tbody tr th {\n        vertical-align: top;\n    }\n\n    .dataframe thead th {\n        text-align: right;\n    }\n</style>\n<table border=\"1\" class=\"dataframe\">\n  <thead>\n    <tr style=\"text-align: right;\">\n      <th></th>\n      <th>LOCATION</th>\n      <th>TIME</th>\n      <th>Value</th>\n    </tr>\n  </thead>\n  <tbody>\n    <tr>\n      <th>0</th>\n      <td>AUS</td>\n      <td>1960</td>\n      <td>0.700946</td>\n    </tr>\n    <tr>\n      <th>1</th>\n      <td>AUS</td>\n      <td>1961</td>\n      <td>0.701324</td>\n    </tr>\n    <tr>\n      <th>2</th>\n      <td>AUS</td>\n      <td>1962</td>\n      <td>0.687990</td>\n    </tr>\n    <tr>\n      <th>3</th>\n      <td>AUS</td>\n      <td>1963</td>\n      <td>0.698321</td>\n    </tr>\n    <tr>\n      <th>4</th>\n      <td>AUS</td>\n      <td>1964</td>\n      <td>0.708346</td>\n    </tr>\n  </tbody>\n</table>\n</div>"
     },
     "metadata": {},
     "execution_count": 7
    }
   ],
   "source": [
    "oecd_data.head()"
   ]
  },
  {
   "cell_type": "code",
   "execution_count": 8,
   "metadata": {},
   "outputs": [
    {
     "output_type": "execute_result",
     "data": {
      "text/plain": [
       "<pandas.core.groupby.generic.DataFrameGroupBy object at 0x7fc7616cdfa0>"
      ]
     },
     "metadata": {},
     "execution_count": 8
    }
   ],
   "source": [
    "oecd_data.groupby('LOCATION')"
   ]
  },
  {
   "source": [
    "# Data Source 2: The World Bank"
   ],
   "cell_type": "markdown",
   "metadata": {}
  },
  {
   "cell_type": "code",
   "execution_count": 9,
   "metadata": {},
   "outputs": [],
   "source": [
    "twb_data = pd.read_csv('/Users/mikel/Documents/Projects/chameleon-pricing/twb_data.csv', sep=\",\", skiprows=3)"
   ]
  },
  {
   "cell_type": "code",
   "execution_count": 10,
   "metadata": {},
   "outputs": [
    {
     "output_type": "execute_result",
     "data": {
      "text/plain": [
       "  Country Name Country Code  \\\n",
       "0        Aruba          ABW   \n",
       "1  Afghanistan          AFG   \n",
       "2       Angola          AGO   \n",
       "3      Albania          ALB   \n",
       "4      Andorra          AND   \n",
       "\n",
       "                                      Indicator Name Indicator Code  1960  \\\n",
       "0  PPP conversion factor, GDP (LCU per internatio...     PA.NUS.PPP   NaN   \n",
       "1  PPP conversion factor, GDP (LCU per internatio...     PA.NUS.PPP   NaN   \n",
       "2  PPP conversion factor, GDP (LCU per internatio...     PA.NUS.PPP   NaN   \n",
       "3  PPP conversion factor, GDP (LCU per internatio...     PA.NUS.PPP   NaN   \n",
       "4  PPP conversion factor, GDP (LCU per internatio...     PA.NUS.PPP   NaN   \n",
       "\n",
       "   1961  1962  1963  1964  1965  ...       2012       2013       2014  \\\n",
       "0   NaN   NaN   NaN   NaN   NaN  ...   1.317801   1.285141   1.308843   \n",
       "1   NaN   NaN   NaN   NaN   NaN  ...  17.242264  17.509419  17.035878   \n",
       "2   NaN   NaN   NaN   NaN   NaN  ...  65.681671  66.019371  65.000671   \n",
       "3   NaN   NaN   NaN   NaN   NaN  ...  43.655000  44.113709  42.893807   \n",
       "4   NaN   NaN   NaN   NaN   NaN  ...        NaN        NaN        NaN   \n",
       "\n",
       "        2015       2016       2017        2018        2019  2020  Unnamed: 65  \n",
       "0   1.362318   1.355045   1.350690         NaN         NaN   NaN          NaN  \n",
       "1  17.022520  17.445828  17.205558   17.144309   17.914483   NaN          NaN  \n",
       "2  68.182045  80.778969  92.951721  117.116076  146.167168   NaN          NaN  \n",
       "3  42.705831  42.385879  42.255535   42.125796   41.342391   NaN          NaN  \n",
       "4        NaN        NaN        NaN         NaN         NaN   NaN          NaN  \n",
       "\n",
       "[5 rows x 66 columns]"
      ],
      "text/html": "<div>\n<style scoped>\n    .dataframe tbody tr th:only-of-type {\n        vertical-align: middle;\n    }\n\n    .dataframe tbody tr th {\n        vertical-align: top;\n    }\n\n    .dataframe thead th {\n        text-align: right;\n    }\n</style>\n<table border=\"1\" class=\"dataframe\">\n  <thead>\n    <tr style=\"text-align: right;\">\n      <th></th>\n      <th>Country Name</th>\n      <th>Country Code</th>\n      <th>Indicator Name</th>\n      <th>Indicator Code</th>\n      <th>1960</th>\n      <th>1961</th>\n      <th>1962</th>\n      <th>1963</th>\n      <th>1964</th>\n      <th>1965</th>\n      <th>...</th>\n      <th>2012</th>\n      <th>2013</th>\n      <th>2014</th>\n      <th>2015</th>\n      <th>2016</th>\n      <th>2017</th>\n      <th>2018</th>\n      <th>2019</th>\n      <th>2020</th>\n      <th>Unnamed: 65</th>\n    </tr>\n  </thead>\n  <tbody>\n    <tr>\n      <th>0</th>\n      <td>Aruba</td>\n      <td>ABW</td>\n      <td>PPP conversion factor, GDP (LCU per internatio...</td>\n      <td>PA.NUS.PPP</td>\n      <td>NaN</td>\n      <td>NaN</td>\n      <td>NaN</td>\n      <td>NaN</td>\n      <td>NaN</td>\n      <td>NaN</td>\n      <td>...</td>\n      <td>1.317801</td>\n      <td>1.285141</td>\n      <td>1.308843</td>\n      <td>1.362318</td>\n      <td>1.355045</td>\n      <td>1.350690</td>\n      <td>NaN</td>\n      <td>NaN</td>\n      <td>NaN</td>\n      <td>NaN</td>\n    </tr>\n    <tr>\n      <th>1</th>\n      <td>Afghanistan</td>\n      <td>AFG</td>\n      <td>PPP conversion factor, GDP (LCU per internatio...</td>\n      <td>PA.NUS.PPP</td>\n      <td>NaN</td>\n      <td>NaN</td>\n      <td>NaN</td>\n      <td>NaN</td>\n      <td>NaN</td>\n      <td>NaN</td>\n      <td>...</td>\n      <td>17.242264</td>\n      <td>17.509419</td>\n      <td>17.035878</td>\n      <td>17.022520</td>\n      <td>17.445828</td>\n      <td>17.205558</td>\n      <td>17.144309</td>\n      <td>17.914483</td>\n      <td>NaN</td>\n      <td>NaN</td>\n    </tr>\n    <tr>\n      <th>2</th>\n      <td>Angola</td>\n      <td>AGO</td>\n      <td>PPP conversion factor, GDP (LCU per internatio...</td>\n      <td>PA.NUS.PPP</td>\n      <td>NaN</td>\n      <td>NaN</td>\n      <td>NaN</td>\n      <td>NaN</td>\n      <td>NaN</td>\n      <td>NaN</td>\n      <td>...</td>\n      <td>65.681671</td>\n      <td>66.019371</td>\n      <td>65.000671</td>\n      <td>68.182045</td>\n      <td>80.778969</td>\n      <td>92.951721</td>\n      <td>117.116076</td>\n      <td>146.167168</td>\n      <td>NaN</td>\n      <td>NaN</td>\n    </tr>\n    <tr>\n      <th>3</th>\n      <td>Albania</td>\n      <td>ALB</td>\n      <td>PPP conversion factor, GDP (LCU per internatio...</td>\n      <td>PA.NUS.PPP</td>\n      <td>NaN</td>\n      <td>NaN</td>\n      <td>NaN</td>\n      <td>NaN</td>\n      <td>NaN</td>\n      <td>NaN</td>\n      <td>...</td>\n      <td>43.655000</td>\n      <td>44.113709</td>\n      <td>42.893807</td>\n      <td>42.705831</td>\n      <td>42.385879</td>\n      <td>42.255535</td>\n      <td>42.125796</td>\n      <td>41.342391</td>\n      <td>NaN</td>\n      <td>NaN</td>\n    </tr>\n    <tr>\n      <th>4</th>\n      <td>Andorra</td>\n      <td>AND</td>\n      <td>PPP conversion factor, GDP (LCU per internatio...</td>\n      <td>PA.NUS.PPP</td>\n      <td>NaN</td>\n      <td>NaN</td>\n      <td>NaN</td>\n      <td>NaN</td>\n      <td>NaN</td>\n      <td>NaN</td>\n      <td>...</td>\n      <td>NaN</td>\n      <td>NaN</td>\n      <td>NaN</td>\n      <td>NaN</td>\n      <td>NaN</td>\n      <td>NaN</td>\n      <td>NaN</td>\n      <td>NaN</td>\n      <td>NaN</td>\n      <td>NaN</td>\n    </tr>\n  </tbody>\n</table>\n<p>5 rows × 66 columns</p>\n</div>"
     },
     "metadata": {},
     "execution_count": 10
    }
   ],
   "source": [
    "twb_data.head()"
   ]
  },
  {
   "cell_type": "code",
   "execution_count": 11,
   "metadata": {},
   "outputs": [
    {
     "output_type": "execute_result",
     "data": {
      "text/plain": [
       "Index(['Country Name', 'Country Code', 'Indicator Name', 'Indicator Code',\n",
       "       '1960', '1961', '1962', '1963', '1964', '1965', '1966', '1967', '1968',\n",
       "       '1969', '1970', '1971', '1972', '1973', '1974', '1975', '1976', '1977',\n",
       "       '1978', '1979', '1980', '1981', '1982', '1983', '1984', '1985', '1986',\n",
       "       '1987', '1988', '1989', '1990', '1991', '1992', '1993', '1994', '1995',\n",
       "       '1996', '1997', '1998', '1999', '2000', '2001', '2002', '2003', '2004',\n",
       "       '2005', '2006', '2007', '2008', '2009', '2010', '2011', '2012', '2013',\n",
       "       '2014', '2015', '2016', '2017', '2018', '2019', '2020', 'Unnamed: 65'],\n",
       "      dtype='object')"
      ]
     },
     "metadata": {},
     "execution_count": 11
    }
   ],
   "source": [
    "twb_data.columns"
   ]
  },
  {
   "cell_type": "code",
   "execution_count": 12,
   "metadata": {},
   "outputs": [
    {
     "output_type": "execute_result",
     "data": {
      "text/plain": [
       "1960           264\n",
       "1961           264\n",
       "1962           264\n",
       "1963           264\n",
       "1964           264\n",
       "              ... \n",
       "2017            68\n",
       "2018            72\n",
       "2019            78\n",
       "2020           226\n",
       "Unnamed: 65    264\n",
       "Length: 62, dtype: int64"
      ]
     },
     "metadata": {},
     "execution_count": 12
    }
   ],
   "source": [
    "nan_cols=twb_data.isna().sum()\n",
    "\n",
    "nan_cols[nan_cols>0]"
   ]
  },
  {
   "cell_type": "code",
   "execution_count": 13,
   "metadata": {},
   "outputs": [
    {
     "output_type": "execute_result",
     "data": {
      "text/plain": [
       "(264, 66)"
      ]
     },
     "metadata": {},
     "execution_count": 13
    }
   ],
   "source": [
    "twb_data.shape"
   ]
  },
  {
   "cell_type": "code",
   "execution_count": 14,
   "metadata": {},
   "outputs": [],
   "source": [
    "twb_data=twb_data.drop(columns=['Unnamed: 65', 'Indicator Name', 'Indicator Code'])"
   ]
  },
  {
   "cell_type": "code",
   "execution_count": 15,
   "metadata": {},
   "outputs": [],
   "source": [
    "twb_data=twb_data.dropna(axis=1,how='all')"
   ]
  },
  {
   "cell_type": "code",
   "execution_count": 16,
   "metadata": {},
   "outputs": [
    {
     "output_type": "execute_result",
     "data": {
      "text/plain": [
       "  Country Name Country Code          1990          1991          1992  \\\n",
       "0        Aruba          ABW  9.451314e-01  9.655218e-01  9.798110e-01   \n",
       "1  Afghanistan          AFG           NaN           NaN           NaN   \n",
       "2       Angola          AGO  1.058393e-08  2.112144e-08  1.190553e-07   \n",
       "3      Albania          ALB  2.338549e+00  3.065402e+00  9.979887e+00   \n",
       "4      Andorra          AND           NaN           NaN           NaN   \n",
       "\n",
       "        1993       1994       1995       1996       1997  ...       2011  \\\n",
       "0   1.007829   1.048954   1.062042   1.077156   1.098135  ...   1.302941   \n",
       "1        NaN        NaN        NaN        NaN        NaN  ...  16.613478   \n",
       "2   0.000001   0.000026   0.000497   0.023940   0.045998  ...  64.605751   \n",
       "3  21.998489  29.258513  31.477205  35.424557  38.738167  ...  43.857834   \n",
       "4        NaN        NaN        NaN        NaN        NaN  ...        NaN   \n",
       "\n",
       "        2012       2013       2014       2015       2016       2017  \\\n",
       "0   1.317801   1.285141   1.308843   1.362318   1.355045   1.350690   \n",
       "1  17.242264  17.509419  17.035878  17.022520  17.445828  17.205558   \n",
       "2  65.681671  66.019371  65.000671  68.182045  80.778969  92.951721   \n",
       "3  43.655000  44.113709  42.893807  42.705831  42.385879  42.255535   \n",
       "4        NaN        NaN        NaN        NaN        NaN        NaN   \n",
       "\n",
       "         2018        2019  2020  \n",
       "0         NaN         NaN   NaN  \n",
       "1   17.144309   17.914483   NaN  \n",
       "2  117.116076  146.167168   NaN  \n",
       "3   42.125796   41.342391   NaN  \n",
       "4         NaN         NaN   NaN  \n",
       "\n",
       "[5 rows x 33 columns]"
      ],
      "text/html": "<div>\n<style scoped>\n    .dataframe tbody tr th:only-of-type {\n        vertical-align: middle;\n    }\n\n    .dataframe tbody tr th {\n        vertical-align: top;\n    }\n\n    .dataframe thead th {\n        text-align: right;\n    }\n</style>\n<table border=\"1\" class=\"dataframe\">\n  <thead>\n    <tr style=\"text-align: right;\">\n      <th></th>\n      <th>Country Name</th>\n      <th>Country Code</th>\n      <th>1990</th>\n      <th>1991</th>\n      <th>1992</th>\n      <th>1993</th>\n      <th>1994</th>\n      <th>1995</th>\n      <th>1996</th>\n      <th>1997</th>\n      <th>...</th>\n      <th>2011</th>\n      <th>2012</th>\n      <th>2013</th>\n      <th>2014</th>\n      <th>2015</th>\n      <th>2016</th>\n      <th>2017</th>\n      <th>2018</th>\n      <th>2019</th>\n      <th>2020</th>\n    </tr>\n  </thead>\n  <tbody>\n    <tr>\n      <th>0</th>\n      <td>Aruba</td>\n      <td>ABW</td>\n      <td>9.451314e-01</td>\n      <td>9.655218e-01</td>\n      <td>9.798110e-01</td>\n      <td>1.007829</td>\n      <td>1.048954</td>\n      <td>1.062042</td>\n      <td>1.077156</td>\n      <td>1.098135</td>\n      <td>...</td>\n      <td>1.302941</td>\n      <td>1.317801</td>\n      <td>1.285141</td>\n      <td>1.308843</td>\n      <td>1.362318</td>\n      <td>1.355045</td>\n      <td>1.350690</td>\n      <td>NaN</td>\n      <td>NaN</td>\n      <td>NaN</td>\n    </tr>\n    <tr>\n      <th>1</th>\n      <td>Afghanistan</td>\n      <td>AFG</td>\n      <td>NaN</td>\n      <td>NaN</td>\n      <td>NaN</td>\n      <td>NaN</td>\n      <td>NaN</td>\n      <td>NaN</td>\n      <td>NaN</td>\n      <td>NaN</td>\n      <td>...</td>\n      <td>16.613478</td>\n      <td>17.242264</td>\n      <td>17.509419</td>\n      <td>17.035878</td>\n      <td>17.022520</td>\n      <td>17.445828</td>\n      <td>17.205558</td>\n      <td>17.144309</td>\n      <td>17.914483</td>\n      <td>NaN</td>\n    </tr>\n    <tr>\n      <th>2</th>\n      <td>Angola</td>\n      <td>AGO</td>\n      <td>1.058393e-08</td>\n      <td>2.112144e-08</td>\n      <td>1.190553e-07</td>\n      <td>0.000001</td>\n      <td>0.000026</td>\n      <td>0.000497</td>\n      <td>0.023940</td>\n      <td>0.045998</td>\n      <td>...</td>\n      <td>64.605751</td>\n      <td>65.681671</td>\n      <td>66.019371</td>\n      <td>65.000671</td>\n      <td>68.182045</td>\n      <td>80.778969</td>\n      <td>92.951721</td>\n      <td>117.116076</td>\n      <td>146.167168</td>\n      <td>NaN</td>\n    </tr>\n    <tr>\n      <th>3</th>\n      <td>Albania</td>\n      <td>ALB</td>\n      <td>2.338549e+00</td>\n      <td>3.065402e+00</td>\n      <td>9.979887e+00</td>\n      <td>21.998489</td>\n      <td>29.258513</td>\n      <td>31.477205</td>\n      <td>35.424557</td>\n      <td>38.738167</td>\n      <td>...</td>\n      <td>43.857834</td>\n      <td>43.655000</td>\n      <td>44.113709</td>\n      <td>42.893807</td>\n      <td>42.705831</td>\n      <td>42.385879</td>\n      <td>42.255535</td>\n      <td>42.125796</td>\n      <td>41.342391</td>\n      <td>NaN</td>\n    </tr>\n    <tr>\n      <th>4</th>\n      <td>Andorra</td>\n      <td>AND</td>\n      <td>NaN</td>\n      <td>NaN</td>\n      <td>NaN</td>\n      <td>NaN</td>\n      <td>NaN</td>\n      <td>NaN</td>\n      <td>NaN</td>\n      <td>NaN</td>\n      <td>...</td>\n      <td>NaN</td>\n      <td>NaN</td>\n      <td>NaN</td>\n      <td>NaN</td>\n      <td>NaN</td>\n      <td>NaN</td>\n      <td>NaN</td>\n      <td>NaN</td>\n      <td>NaN</td>\n      <td>NaN</td>\n    </tr>\n  </tbody>\n</table>\n<p>5 rows × 33 columns</p>\n</div>"
     },
     "metadata": {},
     "execution_count": 16
    }
   ],
   "source": [
    "twb_data.head()"
   ]
  },
  {
   "source": [
    "# Data Source 3: Exportator"
   ],
   "cell_type": "markdown",
   "metadata": {}
  },
  {
   "cell_type": "code",
   "execution_count": 17,
   "metadata": {},
   "outputs": [],
   "source": [
    "exportator_data=pd.read_html('https://www.exportator.com/purchasing-power-parity-pricing-calculator')"
   ]
  },
  {
   "cell_type": "code",
   "execution_count": 18,
   "metadata": {},
   "outputs": [],
   "source": [
    "exportator_data=exportator_data[0]"
   ]
  },
  {
   "cell_type": "code",
   "execution_count": 19,
   "metadata": {},
   "outputs": [
    {
     "output_type": "execute_result",
     "data": {
      "text/plain": [
       "             Country  PPP Index Parity Pricing Discount Price (USD)\n",
       "3         Andorra 🇦🇩        0.0             No discount          $0\n",
       "33   Cook Islands 🇨🇰        0.0             No discount          $0\n",
       "34           Cuba 🇨🇺        0.0             No discount          $0\n",
       "65      Palestine 🇵🇸        0.0             No discount          $0\n",
       "73   Korea, North 🇰🇵        0.0             No discount          $0\n",
       "134         Syria 🇸🇾        0.0             No discount          $0"
      ],
      "text/html": "<div>\n<style scoped>\n    .dataframe tbody tr th:only-of-type {\n        vertical-align: middle;\n    }\n\n    .dataframe tbody tr th {\n        vertical-align: top;\n    }\n\n    .dataframe thead th {\n        text-align: right;\n    }\n</style>\n<table border=\"1\" class=\"dataframe\">\n  <thead>\n    <tr style=\"text-align: right;\">\n      <th></th>\n      <th>Country</th>\n      <th>PPP Index</th>\n      <th>Parity Pricing Discount</th>\n      <th>Price (USD)</th>\n    </tr>\n  </thead>\n  <tbody>\n    <tr>\n      <th>3</th>\n      <td>Andorra 🇦🇩</td>\n      <td>0.0</td>\n      <td>No discount</td>\n      <td>$0</td>\n    </tr>\n    <tr>\n      <th>33</th>\n      <td>Cook Islands 🇨🇰</td>\n      <td>0.0</td>\n      <td>No discount</td>\n      <td>$0</td>\n    </tr>\n    <tr>\n      <th>34</th>\n      <td>Cuba 🇨🇺</td>\n      <td>0.0</td>\n      <td>No discount</td>\n      <td>$0</td>\n    </tr>\n    <tr>\n      <th>65</th>\n      <td>Palestine 🇵🇸</td>\n      <td>0.0</td>\n      <td>No discount</td>\n      <td>$0</td>\n    </tr>\n    <tr>\n      <th>73</th>\n      <td>Korea, North 🇰🇵</td>\n      <td>0.0</td>\n      <td>No discount</td>\n      <td>$0</td>\n    </tr>\n    <tr>\n      <th>134</th>\n      <td>Syria 🇸🇾</td>\n      <td>0.0</td>\n      <td>No discount</td>\n      <td>$0</td>\n    </tr>\n  </tbody>\n</table>\n</div>"
     },
     "metadata": {},
     "execution_count": 19
    }
   ],
   "source": [
    "exportator_data[exportator_data['PPP Index'] == 0.00]"
   ]
  },
  {
   "cell_type": "code",
   "execution_count": 20,
   "metadata": {},
   "outputs": [
    {
     "output_type": "execute_result",
     "data": {
      "text/plain": [
       "                     Country    PPP Index   Parity Pricing Discount  \\\n",
       "0                 Albania 🇦🇱        43.36                      -59%   \n",
       "1                 Algeria 🇩🇿        32.60                      -76%   \n",
       "2       Antigua & Barbuda 🇦🇬         1.70                      -37%   \n",
       "3                 Andorra 🇦🇩         0.00               No discount   \n",
       "4               Argentina 🇦🇷        26.53                      -71%   \n",
       "..                       ...          ...                       ...   \n",
       "190     Trinidad & Tobago 🇹🇹         3.36                      -51%   \n",
       "191          Turkmenistan 🇹🇲         1.51                      -57%   \n",
       "192  United Arab Emirates 🇦🇪         2.06                      -44%   \n",
       "193             Venezuela 🇻🇪  17263936.38  Too cheap by 1726393638%   \n",
       "194              Zimbabwe 🇿🇼         2.09                      -81%   \n",
       "\n",
       "    Price (USD)  \n",
       "0            $0  \n",
       "1            $0  \n",
       "2            $0  \n",
       "3            $0  \n",
       "4            $0  \n",
       "..          ...  \n",
       "190          $0  \n",
       "191          $0  \n",
       "192          $0  \n",
       "193          $0  \n",
       "194          $0  \n",
       "\n",
       "[195 rows x 4 columns]"
      ],
      "text/html": "<div>\n<style scoped>\n    .dataframe tbody tr th:only-of-type {\n        vertical-align: middle;\n    }\n\n    .dataframe tbody tr th {\n        vertical-align: top;\n    }\n\n    .dataframe thead th {\n        text-align: right;\n    }\n</style>\n<table border=\"1\" class=\"dataframe\">\n  <thead>\n    <tr style=\"text-align: right;\">\n      <th></th>\n      <th>Country</th>\n      <th>PPP Index</th>\n      <th>Parity Pricing Discount</th>\n      <th>Price (USD)</th>\n    </tr>\n  </thead>\n  <tbody>\n    <tr>\n      <th>0</th>\n      <td>Albania 🇦🇱</td>\n      <td>43.36</td>\n      <td>-59%</td>\n      <td>$0</td>\n    </tr>\n    <tr>\n      <th>1</th>\n      <td>Algeria 🇩🇿</td>\n      <td>32.60</td>\n      <td>-76%</td>\n      <td>$0</td>\n    </tr>\n    <tr>\n      <th>2</th>\n      <td>Antigua &amp; Barbuda 🇦🇬</td>\n      <td>1.70</td>\n      <td>-37%</td>\n      <td>$0</td>\n    </tr>\n    <tr>\n      <th>3</th>\n      <td>Andorra 🇦🇩</td>\n      <td>0.00</td>\n      <td>No discount</td>\n      <td>$0</td>\n    </tr>\n    <tr>\n      <th>4</th>\n      <td>Argentina 🇦🇷</td>\n      <td>26.53</td>\n      <td>-71%</td>\n      <td>$0</td>\n    </tr>\n    <tr>\n      <th>...</th>\n      <td>...</td>\n      <td>...</td>\n      <td>...</td>\n      <td>...</td>\n    </tr>\n    <tr>\n      <th>190</th>\n      <td>Trinidad &amp; Tobago 🇹🇹</td>\n      <td>3.36</td>\n      <td>-51%</td>\n      <td>$0</td>\n    </tr>\n    <tr>\n      <th>191</th>\n      <td>Turkmenistan 🇹🇲</td>\n      <td>1.51</td>\n      <td>-57%</td>\n      <td>$0</td>\n    </tr>\n    <tr>\n      <th>192</th>\n      <td>United Arab Emirates 🇦🇪</td>\n      <td>2.06</td>\n      <td>-44%</td>\n      <td>$0</td>\n    </tr>\n    <tr>\n      <th>193</th>\n      <td>Venezuela 🇻🇪</td>\n      <td>17263936.38</td>\n      <td>Too cheap by 1726393638%</td>\n      <td>$0</td>\n    </tr>\n    <tr>\n      <th>194</th>\n      <td>Zimbabwe 🇿🇼</td>\n      <td>2.09</td>\n      <td>-81%</td>\n      <td>$0</td>\n    </tr>\n  </tbody>\n</table>\n<p>195 rows × 4 columns</p>\n</div>"
     },
     "metadata": {},
     "execution_count": 20
    }
   ],
   "source": [
    "exportator_data"
   ]
  },
  {
   "source": [
    "# Data evaluation"
   ],
   "cell_type": "markdown",
   "metadata": {}
  },
  {
   "source": [
    "Vemos que claramente los datos de The World Bank son más completos en cuanto a países, sobretodo pensando en que vamos a hacer un proyecto centrado en empresas que quieran vender en LATAM."
   ],
   "cell_type": "markdown",
   "metadata": {}
  },
  {
   "cell_type": "code",
   "execution_count": 21,
   "metadata": {},
   "outputs": [
    {
     "output_type": "execute_result",
     "data": {
      "text/plain": [
       "array(['AUS', 'AUT', 'BEL', 'CAN', 'CZE', 'DNK', 'FIN', 'FRA', 'DEU',\n",
       "       'GRC', 'HUN', 'ISL', 'IRL', 'ITA', 'JPN', 'KOR', 'LUX', 'MEX',\n",
       "       'NLD', 'NZL', 'NOR', 'POL', 'PRT', 'SVK', 'ESP', 'SWE', 'CHE',\n",
       "       'TUR', 'GBR', 'USA', 'BRA', 'CHL', 'CHN', 'COL', 'EST', 'IND',\n",
       "       'IDN', 'ISR', 'RUS', 'SVN', 'ZAF', 'DEW', 'LVA', 'LTU', 'SAU',\n",
       "       'EA19', 'ARG', 'CRI', 'BGR', 'HRV', 'CYP', 'MLT', 'PER', 'ROU',\n",
       "       'MKD', 'ZMB', 'HKG', 'MDG', 'MAR', 'SGP', 'EU27_2020'],\n",
       "      dtype=object)"
      ]
     },
     "metadata": {},
     "execution_count": 21
    }
   ],
   "source": [
    "oecd_data.LOCATION.unique()"
   ]
  },
  {
   "cell_type": "code",
   "execution_count": 22,
   "metadata": {},
   "outputs": [
    {
     "output_type": "execute_result",
     "data": {
      "text/plain": [
       "array(['ABW', 'AFG', 'AGO', 'ALB', 'AND', 'ARB', 'ARE', 'ARG', 'ARM',\n",
       "       'ASM', 'ATG', 'AUS', 'AUT', 'AZE', 'BDI', 'BEL', 'BEN', 'BFA',\n",
       "       'BGD', 'BGR', 'BHR', 'BHS', 'BIH', 'BLR', 'BLZ', 'BMU', 'BOL',\n",
       "       'BRA', 'BRB', 'BRN', 'BTN', 'BWA', 'CAF', 'CAN', 'CEB', 'CHE',\n",
       "       'CHI', 'CHL', 'CHN', 'CIV', 'CMR', 'COD', 'COG', 'COL', 'COM',\n",
       "       'CPV', 'CRI', 'CSS', 'CUB', 'CUW', 'CYM', 'CYP', 'CZE', 'DEU',\n",
       "       'DJI', 'DMA', 'DNK', 'DOM', 'DZA', 'EAP', 'EAR', 'EAS', 'ECA',\n",
       "       'ECS', 'ECU', 'EGY', 'EMU', 'ERI', 'ESP', 'EST', 'ETH', 'EUU',\n",
       "       'FCS', 'FIN', 'FJI', 'FRA', 'FRO', 'FSM', 'GAB', 'GBR', 'GEO',\n",
       "       'GHA', 'GIB', 'GIN', 'GMB', 'GNB', 'GNQ', 'GRC', 'GRD', 'GRL',\n",
       "       'GTM', 'GUM', 'GUY', 'HIC', 'HKG', 'HND', 'HPC', 'HRV', 'HTI',\n",
       "       'HUN', 'IBD', 'IBT', 'IDA', 'IDB', 'IDN', 'IDX', 'IMN', 'IND',\n",
       "       'INX', 'IRL', 'IRN', 'IRQ', 'ISL', 'ISR', 'ITA', 'JAM', 'JOR',\n",
       "       'JPN', 'KAZ', 'KEN', 'KGZ', 'KHM', 'KIR', 'KNA', 'KOR', 'KWT',\n",
       "       'LAC', 'LAO', 'LBN', 'LBR', 'LBY', 'LCA', 'LCN', 'LDC', 'LIC',\n",
       "       'LIE', 'LKA', 'LMC', 'LMY', 'LSO', 'LTE', 'LTU', 'LUX', 'LVA',\n",
       "       'MAC', 'MAF', 'MAR', 'MCO', 'MDA', 'MDG', 'MDV', 'MEA', 'MEX',\n",
       "       'MHL', 'MIC', 'MKD', 'MLI', 'MLT', 'MMR', 'MNA', 'MNE', 'MNG',\n",
       "       'MNP', 'MOZ', 'MRT', 'MUS', 'MWI', 'MYS', 'NAC', 'NAM', 'NCL',\n",
       "       'NER', 'NGA', 'NIC', 'NLD', 'NOR', 'NPL', 'NRU', 'NZL', 'OED',\n",
       "       'OMN', 'OSS', 'PAK', 'PAN', 'PER', 'PHL', 'PLW', 'PNG', 'POL',\n",
       "       'PRE', 'PRI', 'PRK', 'PRT', 'PRY', 'PSE', 'PSS', 'PST', 'PYF',\n",
       "       'QAT', 'ROU', 'RUS', 'RWA', 'SAS', 'SAU', 'SDN', 'SEN', 'SGP',\n",
       "       'SLB', 'SLE', 'SLV', 'SMR', 'SOM', 'SRB', 'SSA', 'SSD', 'SSF',\n",
       "       'SST', 'STP', 'SUR', 'SVK', 'SVN', 'SWE', 'SWZ', 'SXM', 'SYC',\n",
       "       'SYR', 'TCA', 'TCD', 'TEA', 'TEC', 'TGO', 'THA', 'TJK', 'TKM',\n",
       "       'TLA', 'TLS', 'TMN', 'TON', 'TSA', 'TSS', 'TTO', 'TUN', 'TUR',\n",
       "       'TUV', 'TZA', 'UGA', 'UKR', 'UMC', 'URY', 'USA', 'UZB', 'VCT',\n",
       "       'VEN', 'VGB', 'VIR', 'VNM', 'VUT', 'WLD', 'WSM', 'XKX', 'YEM',\n",
       "       'ZAF', 'ZMB', 'ZWE'], dtype=object)"
      ]
     },
     "metadata": {},
     "execution_count": 22
    }
   ],
   "source": [
    "twb_data['Country Code'].unique()"
   ]
  },
  {
   "source": [
    "# Get last PPP"
   ],
   "cell_type": "markdown",
   "metadata": {}
  },
  {
   "cell_type": "code",
   "execution_count": 23,
   "metadata": {},
   "outputs": [
    {
     "output_type": "execute_result",
     "data": {
      "text/plain": [
       "     Country Name Country Code          1990          1991          1992  \\\n",
       "0           Aruba          ABW  9.451314e-01  9.655218e-01  9.798110e-01   \n",
       "1     Afghanistan          AFG           NaN           NaN           NaN   \n",
       "2          Angola          AGO  1.058393e-08  2.112144e-08  1.190553e-07   \n",
       "3         Albania          ALB  2.338549e+00  3.065402e+00  9.979887e+00   \n",
       "4         Andorra          AND           NaN           NaN           NaN   \n",
       "..            ...          ...           ...           ...           ...   \n",
       "259        Kosovo          XKX           NaN           NaN           NaN   \n",
       "260   Yemen, Rep.          YEM  6.107839e+00  6.616785e+00  7.321481e+00   \n",
       "261  South Africa          ZAF  1.265262e+00  1.415433e+00  1.585498e+00   \n",
       "262        Zambia          ZMB  9.556399e-03  1.780860e-02  4.623424e-02   \n",
       "263      Zimbabwe          ZWE  7.439981e-01  6.708873e-01  5.632571e-01   \n",
       "\n",
       "          1993       1994       1995       1996       1997  ...       2012  \\\n",
       "0     1.007829   1.048954   1.062042   1.077156   1.098135  ...   1.317801   \n",
       "1          NaN        NaN        NaN        NaN        NaN  ...  17.242264   \n",
       "2     0.000001   0.000026   0.000497   0.023940   0.045998  ...  65.681671   \n",
       "3    21.998489  29.258513  31.477205  35.424557  38.738167  ...  43.655000   \n",
       "4          NaN        NaN        NaN        NaN        NaN  ...        NaN   \n",
       "..         ...        ...        ...        ...        ...  ...        ...   \n",
       "259        NaN        NaN        NaN        NaN        NaN  ...   0.330216   \n",
       "260   8.323239   9.842986  14.050874  18.871843  21.016099  ...  88.792992   \n",
       "261   1.749861   1.877083   2.026311   2.147189   2.279385  ...   5.107817   \n",
       "262   0.110046   0.194742   0.249130   0.304221   0.375034  ...   2.651491   \n",
       "263   0.529361   0.498103   0.502697   0.538010   0.513663  ...   0.549246   \n",
       "\n",
       "          2013       2014       2015       2016       2017        2018  \\\n",
       "0     1.285141   1.308843   1.362318   1.355045   1.350690         NaN   \n",
       "1    17.509419  17.035878  17.022520  17.445828  17.205558   17.144309   \n",
       "2    66.019371  65.000671  68.182045  80.778969  92.951721  117.116076   \n",
       "3    44.113709  42.893807  42.705831  42.385879  42.255535   42.125796   \n",
       "4          NaN        NaN        NaN        NaN        NaN         NaN   \n",
       "..         ...        ...        ...        ...        ...         ...   \n",
       "259   0.332721   0.339622   0.339128   0.339378   0.340077    0.335354   \n",
       "260  93.631317        NaN        NaN        NaN        NaN         NaN   \n",
       "261   5.295738   5.571891   5.825256   6.159093   6.426701    6.519588   \n",
       "262   2.832861   3.064822   3.366482   3.878827   4.192580    4.396237   \n",
       "263   0.558424   0.549252   0.539304   0.521862   0.511243    0.525139   \n",
       "\n",
       "           2019  2020  last_value  \n",
       "0           NaN   NaN     1.35069  \n",
       "1     17.914483   NaN     17.9145  \n",
       "2    146.167168   NaN     146.167  \n",
       "3     41.342391   NaN     41.3424  \n",
       "4           NaN   NaN         AND  \n",
       "..          ...   ...         ...  \n",
       "259    0.332390   NaN     0.33239  \n",
       "260         NaN   NaN     93.6313  \n",
       "261    6.652566   NaN     6.65257  \n",
       "262    4.641657   NaN     4.64166  \n",
       "263    0.494348   NaN    0.494348  \n",
       "\n",
       "[264 rows x 34 columns]"
      ],
      "text/html": "<div>\n<style scoped>\n    .dataframe tbody tr th:only-of-type {\n        vertical-align: middle;\n    }\n\n    .dataframe tbody tr th {\n        vertical-align: top;\n    }\n\n    .dataframe thead th {\n        text-align: right;\n    }\n</style>\n<table border=\"1\" class=\"dataframe\">\n  <thead>\n    <tr style=\"text-align: right;\">\n      <th></th>\n      <th>Country Name</th>\n      <th>Country Code</th>\n      <th>1990</th>\n      <th>1991</th>\n      <th>1992</th>\n      <th>1993</th>\n      <th>1994</th>\n      <th>1995</th>\n      <th>1996</th>\n      <th>1997</th>\n      <th>...</th>\n      <th>2012</th>\n      <th>2013</th>\n      <th>2014</th>\n      <th>2015</th>\n      <th>2016</th>\n      <th>2017</th>\n      <th>2018</th>\n      <th>2019</th>\n      <th>2020</th>\n      <th>last_value</th>\n    </tr>\n  </thead>\n  <tbody>\n    <tr>\n      <th>0</th>\n      <td>Aruba</td>\n      <td>ABW</td>\n      <td>9.451314e-01</td>\n      <td>9.655218e-01</td>\n      <td>9.798110e-01</td>\n      <td>1.007829</td>\n      <td>1.048954</td>\n      <td>1.062042</td>\n      <td>1.077156</td>\n      <td>1.098135</td>\n      <td>...</td>\n      <td>1.317801</td>\n      <td>1.285141</td>\n      <td>1.308843</td>\n      <td>1.362318</td>\n      <td>1.355045</td>\n      <td>1.350690</td>\n      <td>NaN</td>\n      <td>NaN</td>\n      <td>NaN</td>\n      <td>1.35069</td>\n    </tr>\n    <tr>\n      <th>1</th>\n      <td>Afghanistan</td>\n      <td>AFG</td>\n      <td>NaN</td>\n      <td>NaN</td>\n      <td>NaN</td>\n      <td>NaN</td>\n      <td>NaN</td>\n      <td>NaN</td>\n      <td>NaN</td>\n      <td>NaN</td>\n      <td>...</td>\n      <td>17.242264</td>\n      <td>17.509419</td>\n      <td>17.035878</td>\n      <td>17.022520</td>\n      <td>17.445828</td>\n      <td>17.205558</td>\n      <td>17.144309</td>\n      <td>17.914483</td>\n      <td>NaN</td>\n      <td>17.9145</td>\n    </tr>\n    <tr>\n      <th>2</th>\n      <td>Angola</td>\n      <td>AGO</td>\n      <td>1.058393e-08</td>\n      <td>2.112144e-08</td>\n      <td>1.190553e-07</td>\n      <td>0.000001</td>\n      <td>0.000026</td>\n      <td>0.000497</td>\n      <td>0.023940</td>\n      <td>0.045998</td>\n      <td>...</td>\n      <td>65.681671</td>\n      <td>66.019371</td>\n      <td>65.000671</td>\n      <td>68.182045</td>\n      <td>80.778969</td>\n      <td>92.951721</td>\n      <td>117.116076</td>\n      <td>146.167168</td>\n      <td>NaN</td>\n      <td>146.167</td>\n    </tr>\n    <tr>\n      <th>3</th>\n      <td>Albania</td>\n      <td>ALB</td>\n      <td>2.338549e+00</td>\n      <td>3.065402e+00</td>\n      <td>9.979887e+00</td>\n      <td>21.998489</td>\n      <td>29.258513</td>\n      <td>31.477205</td>\n      <td>35.424557</td>\n      <td>38.738167</td>\n      <td>...</td>\n      <td>43.655000</td>\n      <td>44.113709</td>\n      <td>42.893807</td>\n      <td>42.705831</td>\n      <td>42.385879</td>\n      <td>42.255535</td>\n      <td>42.125796</td>\n      <td>41.342391</td>\n      <td>NaN</td>\n      <td>41.3424</td>\n    </tr>\n    <tr>\n      <th>4</th>\n      <td>Andorra</td>\n      <td>AND</td>\n      <td>NaN</td>\n      <td>NaN</td>\n      <td>NaN</td>\n      <td>NaN</td>\n      <td>NaN</td>\n      <td>NaN</td>\n      <td>NaN</td>\n      <td>NaN</td>\n      <td>...</td>\n      <td>NaN</td>\n      <td>NaN</td>\n      <td>NaN</td>\n      <td>NaN</td>\n      <td>NaN</td>\n      <td>NaN</td>\n      <td>NaN</td>\n      <td>NaN</td>\n      <td>NaN</td>\n      <td>AND</td>\n    </tr>\n    <tr>\n      <th>...</th>\n      <td>...</td>\n      <td>...</td>\n      <td>...</td>\n      <td>...</td>\n      <td>...</td>\n      <td>...</td>\n      <td>...</td>\n      <td>...</td>\n      <td>...</td>\n      <td>...</td>\n      <td>...</td>\n      <td>...</td>\n      <td>...</td>\n      <td>...</td>\n      <td>...</td>\n      <td>...</td>\n      <td>...</td>\n      <td>...</td>\n      <td>...</td>\n      <td>...</td>\n      <td>...</td>\n    </tr>\n    <tr>\n      <th>259</th>\n      <td>Kosovo</td>\n      <td>XKX</td>\n      <td>NaN</td>\n      <td>NaN</td>\n      <td>NaN</td>\n      <td>NaN</td>\n      <td>NaN</td>\n      <td>NaN</td>\n      <td>NaN</td>\n      <td>NaN</td>\n      <td>...</td>\n      <td>0.330216</td>\n      <td>0.332721</td>\n      <td>0.339622</td>\n      <td>0.339128</td>\n      <td>0.339378</td>\n      <td>0.340077</td>\n      <td>0.335354</td>\n      <td>0.332390</td>\n      <td>NaN</td>\n      <td>0.33239</td>\n    </tr>\n    <tr>\n      <th>260</th>\n      <td>Yemen, Rep.</td>\n      <td>YEM</td>\n      <td>6.107839e+00</td>\n      <td>6.616785e+00</td>\n      <td>7.321481e+00</td>\n      <td>8.323239</td>\n      <td>9.842986</td>\n      <td>14.050874</td>\n      <td>18.871843</td>\n      <td>21.016099</td>\n      <td>...</td>\n      <td>88.792992</td>\n      <td>93.631317</td>\n      <td>NaN</td>\n      <td>NaN</td>\n      <td>NaN</td>\n      <td>NaN</td>\n      <td>NaN</td>\n      <td>NaN</td>\n      <td>NaN</td>\n      <td>93.6313</td>\n    </tr>\n    <tr>\n      <th>261</th>\n      <td>South Africa</td>\n      <td>ZAF</td>\n      <td>1.265262e+00</td>\n      <td>1.415433e+00</td>\n      <td>1.585498e+00</td>\n      <td>1.749861</td>\n      <td>1.877083</td>\n      <td>2.026311</td>\n      <td>2.147189</td>\n      <td>2.279385</td>\n      <td>...</td>\n      <td>5.107817</td>\n      <td>5.295738</td>\n      <td>5.571891</td>\n      <td>5.825256</td>\n      <td>6.159093</td>\n      <td>6.426701</td>\n      <td>6.519588</td>\n      <td>6.652566</td>\n      <td>NaN</td>\n      <td>6.65257</td>\n    </tr>\n    <tr>\n      <th>262</th>\n      <td>Zambia</td>\n      <td>ZMB</td>\n      <td>9.556399e-03</td>\n      <td>1.780860e-02</td>\n      <td>4.623424e-02</td>\n      <td>0.110046</td>\n      <td>0.194742</td>\n      <td>0.249130</td>\n      <td>0.304221</td>\n      <td>0.375034</td>\n      <td>...</td>\n      <td>2.651491</td>\n      <td>2.832861</td>\n      <td>3.064822</td>\n      <td>3.366482</td>\n      <td>3.878827</td>\n      <td>4.192580</td>\n      <td>4.396237</td>\n      <td>4.641657</td>\n      <td>NaN</td>\n      <td>4.64166</td>\n    </tr>\n    <tr>\n      <th>263</th>\n      <td>Zimbabwe</td>\n      <td>ZWE</td>\n      <td>7.439981e-01</td>\n      <td>6.708873e-01</td>\n      <td>5.632571e-01</td>\n      <td>0.529361</td>\n      <td>0.498103</td>\n      <td>0.502697</td>\n      <td>0.538010</td>\n      <td>0.513663</td>\n      <td>...</td>\n      <td>0.549246</td>\n      <td>0.558424</td>\n      <td>0.549252</td>\n      <td>0.539304</td>\n      <td>0.521862</td>\n      <td>0.511243</td>\n      <td>0.525139</td>\n      <td>0.494348</td>\n      <td>NaN</td>\n      <td>0.494348</td>\n    </tr>\n  </tbody>\n</table>\n<p>264 rows × 34 columns</p>\n</div>"
     },
     "metadata": {},
     "execution_count": 23
    }
   ],
   "source": [
    "twb_data['last_value'] = twb_data.ffill(axis=1).iloc[:, -1] \n",
    "twb_data"
   ]
  },
  {
   "cell_type": "code",
   "execution_count": 24,
   "metadata": {},
   "outputs": [
    {
     "output_type": "execute_result",
     "data": {
      "text/plain": [
       "array([1.3506896495819098, 17.9144826699909, 146.167167826781,\n",
       "       41.3423914138531, 'AND', 'ARB', 2.25850307596397, 20.7139578408443,\n",
       "       155.770479651178, 'ASM', 2.0194532091955804, 1.461587, 0.759962,\n",
       "       0.541783029023867, 614.273901861231, 0.754025, 208.14828767688,\n",
       "       202.684664333737, 31.412871920592398, 0.6985512891981379,\n",
       "       0.188021618496962, 0.8998825817787379, 0.674721776333022,\n",
       "       0.69701659405586, 1.31658399660205, 1.3707859561201499,\n",
       "       2.6941051256579702, 2.24738365412163, 2.2225668662355496,\n",
       "       0.6539719595070339, 18.9001286950754, 4.6155530837535705,\n",
       "       277.852867490644, 1.1980879999999998, 'CEB', 1.143836, 'CHI',\n",
       "       420.903055, 4.20011786862713, 245.02546694876702, 232.218111523829,\n",
       "       834.585389673205, 348.27333337129, 1351.775746, 188.465816580834,\n",
       "       47.39553801356399, 341.441239, 'CSS', 0.321938711455632,\n",
       "       1.37871956323787, 0.977497020934353, 0.608703010927457,\n",
       "       12.843494999999999, 0.744679, 105.00596789612301, 1.75970417134687,\n",
       "       6.66035, 22.094685573248302, 39.4753858871813, 'EAP', 'EAR', 'EAS',\n",
       "       'ECA', 'ECS', 0.520580052113819, 4.3160278220274195, 'EMU',\n",
       "       5.46990434868798, 0.624484, 0.5329, 10.349446059582199, 'EUU',\n",
       "       'FCS', 0.8545879999999999, 0.933689773974448, 0.740525, 'FRO',\n",
       "       1.00572605465264, 291.498912218778, 0.716264, 0.8456104377652759,\n",
       "       2.03273383158187, 'GIB', 3305.07540389528, 16.7751924121275,\n",
       "       196.665273716979, 245.86016020598598, 0.545546, 1.6401711105594798,\n",
       "       'GRL', 3.94233344405393, 'GUM', 100.87625350427099, 'HIC',\n",
       "       6.10781735823891, 10.5504895992806, 'HPC', 3.27215211127603,\n",
       "       35.2871565136136, 145.659085, 'IBD', 'IBT', 'IDA', 'IDB',\n",
       "       4743.3374468190505, 'IDX', 'IMN', 21.2755038338788, 'INX',\n",
       "       0.816018, 22758.129318244, 619.478128523479, 144.108968,\n",
       "       3.6860150000000003, 0.669014, 73.0058892307643,\n",
       "       0.29741150862059695, 103.412076, 136.483499986547,\n",
       "       40.97544493910021, 16.6585871314052, 1456.0193830618698,\n",
       "       1.00353202407101, 1.9495859191570202, 869.063949,\n",
       "       0.18661905090203895, 'LAC', 2788.15275542532, 775.5610925021471,\n",
       "       0.417096855708647, 0.67805244642179, 1.94334342660997, 'LCN',\n",
       "       'LDC', 'LIC', 'LIE', 50.4303490949173, 'LMC', 'LMY',\n",
       "       5.721841552964469, 'LTE', 0.450245, 0.864174, 0.49193400000000004,\n",
       "       5.24290759619816, 'MAF', 3.94702364488783, 'MCO', 5.80830309114802,\n",
       "       1101.0378184776598, 8.01436960654148, 'MEA', 9.505202,\n",
       "       0.951004763637921, 'MIC', 18.8190689833502, 212.437827427381,\n",
       "       0.576590257302322, 401.70661261684097, 'MNA', 0.340944046315761,\n",
       "       898.732633630829, 'MNP', 23.547195091985003, 11.354249982659303,\n",
       "       16.4861845606784, 277.412807983172, 1.59634880561452, 'NAC',\n",
       "       7.11743151547225, 'NCL', 253.799695383855, 135.136439097495,\n",
       "       11.221066511064, 0.794891, 9.30294, 33.8845949857364,\n",
       "       1.08627842398814, 1.4591100000000001, 'OED', 0.20694246294653199,\n",
       "       'OSS', 35.797677035867295, 0.478862212445632, 1.7356817450586701,\n",
       "       19.404986883789, 0.8117700376963991, 2.10746125115928, 1.811159,\n",
       "       'PRE', 0.9120161908821541, 'PRK', 0.574206, 2551.04021521804,\n",
       "       0.560550602122651, 'PSS', 'PST', 'PYF', 2.40352989003426,\n",
       "       1.6911969158646298, 24.247943, 317.182454956289, 'SAS',\n",
       "       1.7694461283959197, 10.5008468567533, 239.12275993346,\n",
       "       0.875475197620001, 6.97704964624406, 2649.0305251514,\n",
       "       0.456906578505361, 0.681416995287087, 8229.531085861441,\n",
       "       41.207997797046204, 'SSA', 3.2682952304697204, 'SSF', 'SST',\n",
       "       10.354404668418699, 2.74870090935574, 0.53323, 0.568426, 8.902761,\n",
       "       6.250788234535941, 1.4417735192505903, 8.02381920700948, 'SYR',\n",
       "       1.0263656903801, 252.02796029243402, 'TEA', 'TEC', 238.71139332045,\n",
       "       12.573632462529199, 2.3514373614881, 1.60342506581128, 'TLA',\n",
       "       0.420643991821992, 'TMN', 1.67115075806166, 'TSA', 'TSS',\n",
       "       4.2990560207373, 0.8667296682716191, 2.113114, 1.3059942981698,\n",
       "       929.1896626511231, 1299.45978146478, 7.069492950726779, 'UMC',\n",
       "       25.3512988749765, 1.0, 2085.54845778662, 1.5443908709807899,\n",
       "       2.68098258972168, 1.06877851486206, 'VIR', 7453.56818882062,\n",
       "       108.104856329907, 'WLD', 1.6626736819832701, 0.33238983875922495,\n",
       "       93.63131713867192, 6.65256591249346, 4.6416574341166505,\n",
       "       0.494348267213925], dtype=object)"
      ]
     },
     "metadata": {},
     "execution_count": 24
    }
   ],
   "source": [
    "twb_data['last_value'].unique()"
   ]
  },
  {
   "cell_type": "code",
   "execution_count": 25,
   "metadata": {},
   "outputs": [],
   "source": [
    "twb_data=twb_data[pd.to_numeric(twb_data['last_value'], errors='coerce').notnull()]"
   ]
  },
  {
   "cell_type": "code",
   "execution_count": 26,
   "metadata": {},
   "outputs": [
    {
     "output_type": "execute_result",
     "data": {
      "text/plain": [
       "           Country Name Country Code          1990          1991  \\\n",
       "0                 Aruba          ABW  9.451314e-01  9.655218e-01   \n",
       "1           Afghanistan          AFG           NaN           NaN   \n",
       "2                Angola          AGO  1.058393e-08  2.112144e-08   \n",
       "3               Albania          ALB  2.338549e+00  3.065402e+00   \n",
       "6  United Arab Emirates          ARE  1.167017e+00  1.137996e+00   \n",
       "\n",
       "           1992       1993       1994       1995       1996       1997  ...  \\\n",
       "0  9.798110e-01   1.007829   1.048954   1.062042   1.077156   1.098135  ...   \n",
       "1           NaN        NaN        NaN        NaN        NaN        NaN  ...   \n",
       "2  1.190553e-07   0.000001   0.000026   0.000497   0.023940   0.045998  ...   \n",
       "3  9.979887e+00  21.998489  29.258513  31.477205  35.424557  38.738167  ...   \n",
       "6  1.132743e+00   1.120668   1.094358   1.113766   1.156881   1.126440  ...   \n",
       "\n",
       "        2012       2013       2014       2015       2016       2017  \\\n",
       "0   1.317801   1.285141   1.308843   1.362318   1.355045   1.350690   \n",
       "1  17.242264  17.509419  17.035878  17.022520  17.445828  17.205558   \n",
       "2  65.681671  66.019371  65.000671  68.182045  80.778969  92.951721   \n",
       "3  43.655000  44.113709  42.893807  42.705831  42.385879  42.255535   \n",
       "6   2.177725   2.213316   2.182567   2.187785   2.189752   2.221792   \n",
       "\n",
       "         2018        2019  2020  last_value  \n",
       "0         NaN         NaN   NaN     1.35069  \n",
       "1   17.144309   17.914483   NaN     17.9145  \n",
       "2  117.116076  146.167168   NaN     146.167  \n",
       "3   42.125796   41.342391   NaN     41.3424  \n",
       "6    2.346952    2.258503   NaN      2.2585  \n",
       "\n",
       "[5 rows x 34 columns]"
      ],
      "text/html": "<div>\n<style scoped>\n    .dataframe tbody tr th:only-of-type {\n        vertical-align: middle;\n    }\n\n    .dataframe tbody tr th {\n        vertical-align: top;\n    }\n\n    .dataframe thead th {\n        text-align: right;\n    }\n</style>\n<table border=\"1\" class=\"dataframe\">\n  <thead>\n    <tr style=\"text-align: right;\">\n      <th></th>\n      <th>Country Name</th>\n      <th>Country Code</th>\n      <th>1990</th>\n      <th>1991</th>\n      <th>1992</th>\n      <th>1993</th>\n      <th>1994</th>\n      <th>1995</th>\n      <th>1996</th>\n      <th>1997</th>\n      <th>...</th>\n      <th>2012</th>\n      <th>2013</th>\n      <th>2014</th>\n      <th>2015</th>\n      <th>2016</th>\n      <th>2017</th>\n      <th>2018</th>\n      <th>2019</th>\n      <th>2020</th>\n      <th>last_value</th>\n    </tr>\n  </thead>\n  <tbody>\n    <tr>\n      <th>0</th>\n      <td>Aruba</td>\n      <td>ABW</td>\n      <td>9.451314e-01</td>\n      <td>9.655218e-01</td>\n      <td>9.798110e-01</td>\n      <td>1.007829</td>\n      <td>1.048954</td>\n      <td>1.062042</td>\n      <td>1.077156</td>\n      <td>1.098135</td>\n      <td>...</td>\n      <td>1.317801</td>\n      <td>1.285141</td>\n      <td>1.308843</td>\n      <td>1.362318</td>\n      <td>1.355045</td>\n      <td>1.350690</td>\n      <td>NaN</td>\n      <td>NaN</td>\n      <td>NaN</td>\n      <td>1.35069</td>\n    </tr>\n    <tr>\n      <th>1</th>\n      <td>Afghanistan</td>\n      <td>AFG</td>\n      <td>NaN</td>\n      <td>NaN</td>\n      <td>NaN</td>\n      <td>NaN</td>\n      <td>NaN</td>\n      <td>NaN</td>\n      <td>NaN</td>\n      <td>NaN</td>\n      <td>...</td>\n      <td>17.242264</td>\n      <td>17.509419</td>\n      <td>17.035878</td>\n      <td>17.022520</td>\n      <td>17.445828</td>\n      <td>17.205558</td>\n      <td>17.144309</td>\n      <td>17.914483</td>\n      <td>NaN</td>\n      <td>17.9145</td>\n    </tr>\n    <tr>\n      <th>2</th>\n      <td>Angola</td>\n      <td>AGO</td>\n      <td>1.058393e-08</td>\n      <td>2.112144e-08</td>\n      <td>1.190553e-07</td>\n      <td>0.000001</td>\n      <td>0.000026</td>\n      <td>0.000497</td>\n      <td>0.023940</td>\n      <td>0.045998</td>\n      <td>...</td>\n      <td>65.681671</td>\n      <td>66.019371</td>\n      <td>65.000671</td>\n      <td>68.182045</td>\n      <td>80.778969</td>\n      <td>92.951721</td>\n      <td>117.116076</td>\n      <td>146.167168</td>\n      <td>NaN</td>\n      <td>146.167</td>\n    </tr>\n    <tr>\n      <th>3</th>\n      <td>Albania</td>\n      <td>ALB</td>\n      <td>2.338549e+00</td>\n      <td>3.065402e+00</td>\n      <td>9.979887e+00</td>\n      <td>21.998489</td>\n      <td>29.258513</td>\n      <td>31.477205</td>\n      <td>35.424557</td>\n      <td>38.738167</td>\n      <td>...</td>\n      <td>43.655000</td>\n      <td>44.113709</td>\n      <td>42.893807</td>\n      <td>42.705831</td>\n      <td>42.385879</td>\n      <td>42.255535</td>\n      <td>42.125796</td>\n      <td>41.342391</td>\n      <td>NaN</td>\n      <td>41.3424</td>\n    </tr>\n    <tr>\n      <th>6</th>\n      <td>United Arab Emirates</td>\n      <td>ARE</td>\n      <td>1.167017e+00</td>\n      <td>1.137996e+00</td>\n      <td>1.132743e+00</td>\n      <td>1.120668</td>\n      <td>1.094358</td>\n      <td>1.113766</td>\n      <td>1.156881</td>\n      <td>1.126440</td>\n      <td>...</td>\n      <td>2.177725</td>\n      <td>2.213316</td>\n      <td>2.182567</td>\n      <td>2.187785</td>\n      <td>2.189752</td>\n      <td>2.221792</td>\n      <td>2.346952</td>\n      <td>2.258503</td>\n      <td>NaN</td>\n      <td>2.2585</td>\n    </tr>\n  </tbody>\n</table>\n<p>5 rows × 34 columns</p>\n</div>"
     },
     "metadata": {},
     "execution_count": 26
    }
   ],
   "source": [
    "twb_data.head()"
   ]
  },
  {
   "cell_type": "code",
   "execution_count": 27,
   "metadata": {},
   "outputs": [],
   "source": [
    "df1=twb_data[['Country Name', 'last_value']]"
   ]
  },
  {
   "cell_type": "code",
   "execution_count": 28,
   "metadata": {},
   "outputs": [],
   "source": [
    "df1=df1.rename(columns={'Country Name' : 'Country'})"
   ]
  },
  {
   "cell_type": "code",
   "execution_count": 29,
   "metadata": {},
   "outputs": [
    {
     "output_type": "execute_result",
     "data": {
      "text/plain": [
       "                Country last_value\n",
       "0                 Aruba    1.35069\n",
       "1           Afghanistan    17.9145\n",
       "2                Angola    146.167\n",
       "3               Albania    41.3424\n",
       "6  United Arab Emirates     2.2585"
      ],
      "text/html": "<div>\n<style scoped>\n    .dataframe tbody tr th:only-of-type {\n        vertical-align: middle;\n    }\n\n    .dataframe tbody tr th {\n        vertical-align: top;\n    }\n\n    .dataframe thead th {\n        text-align: right;\n    }\n</style>\n<table border=\"1\" class=\"dataframe\">\n  <thead>\n    <tr style=\"text-align: right;\">\n      <th></th>\n      <th>Country</th>\n      <th>last_value</th>\n    </tr>\n  </thead>\n  <tbody>\n    <tr>\n      <th>0</th>\n      <td>Aruba</td>\n      <td>1.35069</td>\n    </tr>\n    <tr>\n      <th>1</th>\n      <td>Afghanistan</td>\n      <td>17.9145</td>\n    </tr>\n    <tr>\n      <th>2</th>\n      <td>Angola</td>\n      <td>146.167</td>\n    </tr>\n    <tr>\n      <th>3</th>\n      <td>Albania</td>\n      <td>41.3424</td>\n    </tr>\n    <tr>\n      <th>6</th>\n      <td>United Arab Emirates</td>\n      <td>2.2585</td>\n    </tr>\n  </tbody>\n</table>\n</div>"
     },
     "metadata": {},
     "execution_count": 29
    }
   ],
   "source": [
    "df1.head()"
   ]
  },
  {
   "source": [
    "# Get currency codes"
   ],
   "cell_type": "markdown",
   "metadata": {}
  },
  {
   "cell_type": "code",
   "execution_count": 30,
   "metadata": {},
   "outputs": [],
   "source": [
    "currency=pd.read_html('https://docs.1010data.com/1010dataReferenceManual/DataTypesAndFormats/currencyUnitCodes.html')"
   ]
  },
  {
   "cell_type": "code",
   "execution_count": 31,
   "metadata": {},
   "outputs": [],
   "source": [
    "currency=currency[0]"
   ]
  },
  {
   "cell_type": "code",
   "execution_count": 32,
   "metadata": {},
   "outputs": [
    {
     "output_type": "execute_result",
     "data": {
      "text/plain": [
       "           Entity        Currency Code Minor Unit\n",
       "0     AFGHANISTAN         Afghani  AFN          2\n",
       "1   ÅLAND ISLANDS            Euro  EUR          2\n",
       "2         ALBANIA             Lek  ALL          2\n",
       "3         ALGERIA  Algerian Dinar  DZD          2\n",
       "4  AMERICAN SAMOA       US Dollar  USD          2"
      ],
      "text/html": "<div>\n<style scoped>\n    .dataframe tbody tr th:only-of-type {\n        vertical-align: middle;\n    }\n\n    .dataframe tbody tr th {\n        vertical-align: top;\n    }\n\n    .dataframe thead th {\n        text-align: right;\n    }\n</style>\n<table border=\"1\" class=\"dataframe\">\n  <thead>\n    <tr style=\"text-align: right;\">\n      <th></th>\n      <th>Entity</th>\n      <th>Currency</th>\n      <th>Code</th>\n      <th>Minor Unit</th>\n    </tr>\n  </thead>\n  <tbody>\n    <tr>\n      <th>0</th>\n      <td>AFGHANISTAN</td>\n      <td>Afghani</td>\n      <td>AFN</td>\n      <td>2</td>\n    </tr>\n    <tr>\n      <th>1</th>\n      <td>ÅLAND ISLANDS</td>\n      <td>Euro</td>\n      <td>EUR</td>\n      <td>2</td>\n    </tr>\n    <tr>\n      <th>2</th>\n      <td>ALBANIA</td>\n      <td>Lek</td>\n      <td>ALL</td>\n      <td>2</td>\n    </tr>\n    <tr>\n      <th>3</th>\n      <td>ALGERIA</td>\n      <td>Algerian Dinar</td>\n      <td>DZD</td>\n      <td>2</td>\n    </tr>\n    <tr>\n      <th>4</th>\n      <td>AMERICAN SAMOA</td>\n      <td>US Dollar</td>\n      <td>USD</td>\n      <td>2</td>\n    </tr>\n  </tbody>\n</table>\n</div>"
     },
     "metadata": {},
     "execution_count": 32
    }
   ],
   "source": [
    "currency.head()"
   ]
  },
  {
   "cell_type": "code",
   "execution_count": 33,
   "metadata": {},
   "outputs": [],
   "source": [
    "currency['Entity']=currency['Entity'].str.lower()\n",
    "df1['Country']=df1['Country'].str.lower()"
   ]
  },
  {
   "cell_type": "code",
   "execution_count": 34,
   "metadata": {},
   "outputs": [],
   "source": [
    "currency.Entity=currency.Entity.replace('bolivia, plurinational state of', 'bolivia')\n",
    "currency.Entity=currency.Entity.replace('venezuela, bolivarian republic of', 'venezuela, rb')"
   ]
  },
  {
   "cell_type": "code",
   "execution_count": 35,
   "metadata": {},
   "outputs": [],
   "source": [
    "country_currency=df1.merge(currency, left_on='Country', right_on='Entity')"
   ]
  },
  {
   "cell_type": "code",
   "execution_count": 36,
   "metadata": {},
   "outputs": [],
   "source": [
    "country_currency=country_currency[['Country', 'last_value', 'Currency', 'Code']]"
   ]
  },
  {
   "cell_type": "code",
   "execution_count": 37,
   "metadata": {},
   "outputs": [
    {
     "output_type": "execute_result",
     "data": {
      "text/plain": [
       "                Country last_value       Currency Code\n",
       "0                 aruba    1.35069  Aruban Florin  AWG\n",
       "1           afghanistan    17.9145        Afghani  AFN\n",
       "2                angola    146.167         Kwanza  AOA\n",
       "3               albania    41.3424            Lek  ALL\n",
       "4  united arab emirates     2.2585     UAE Dirham  AED"
      ],
      "text/html": "<div>\n<style scoped>\n    .dataframe tbody tr th:only-of-type {\n        vertical-align: middle;\n    }\n\n    .dataframe tbody tr th {\n        vertical-align: top;\n    }\n\n    .dataframe thead th {\n        text-align: right;\n    }\n</style>\n<table border=\"1\" class=\"dataframe\">\n  <thead>\n    <tr style=\"text-align: right;\">\n      <th></th>\n      <th>Country</th>\n      <th>last_value</th>\n      <th>Currency</th>\n      <th>Code</th>\n    </tr>\n  </thead>\n  <tbody>\n    <tr>\n      <th>0</th>\n      <td>aruba</td>\n      <td>1.35069</td>\n      <td>Aruban Florin</td>\n      <td>AWG</td>\n    </tr>\n    <tr>\n      <th>1</th>\n      <td>afghanistan</td>\n      <td>17.9145</td>\n      <td>Afghani</td>\n      <td>AFN</td>\n    </tr>\n    <tr>\n      <th>2</th>\n      <td>angola</td>\n      <td>146.167</td>\n      <td>Kwanza</td>\n      <td>AOA</td>\n    </tr>\n    <tr>\n      <th>3</th>\n      <td>albania</td>\n      <td>41.3424</td>\n      <td>Lek</td>\n      <td>ALL</td>\n    </tr>\n    <tr>\n      <th>4</th>\n      <td>united arab emirates</td>\n      <td>2.2585</td>\n      <td>UAE Dirham</td>\n      <td>AED</td>\n    </tr>\n  </tbody>\n</table>\n</div>"
     },
     "metadata": {},
     "execution_count": 37
    }
   ],
   "source": [
    "country_currency.head()"
   ]
  },
  {
   "cell_type": "code",
   "execution_count": 38,
   "metadata": {},
   "outputs": [
    {
     "output_type": "execute_result",
     "data": {
      "text/plain": [
       "   Country last_value Currency Code\n",
       "57   spain   0.624484     Euro  EUR"
      ],
      "text/html": "<div>\n<style scoped>\n    .dataframe tbody tr th:only-of-type {\n        vertical-align: middle;\n    }\n\n    .dataframe tbody tr th {\n        vertical-align: top;\n    }\n\n    .dataframe thead th {\n        text-align: right;\n    }\n</style>\n<table border=\"1\" class=\"dataframe\">\n  <thead>\n    <tr style=\"text-align: right;\">\n      <th></th>\n      <th>Country</th>\n      <th>last_value</th>\n      <th>Currency</th>\n      <th>Code</th>\n    </tr>\n  </thead>\n  <tbody>\n    <tr>\n      <th>57</th>\n      <td>spain</td>\n      <td>0.624484</td>\n      <td>Euro</td>\n      <td>EUR</td>\n    </tr>\n  </tbody>\n</table>\n</div>"
     },
     "metadata": {},
     "execution_count": 38
    }
   ],
   "source": [
    "country_currency[country_currency.Country == 'spain']"
   ]
  },
  {
   "cell_type": "code",
   "execution_count": 39,
   "metadata": {},
   "outputs": [],
   "source": [
    "country_currency.to_csv('/Users/mikel/Documents/Projects/chameleon-pricing/country_currency.csv', index=False)"
   ]
  },
  {
   "cell_type": "code",
   "execution_count": 40,
   "metadata": {},
   "outputs": [],
   "source": [
    "gaps=df1.merge(currency, left_on='Country', right_on='Entity', how='left')"
   ]
  },
  {
   "cell_type": "code",
   "execution_count": 41,
   "metadata": {},
   "outputs": [
    {
     "output_type": "execute_result",
     "data": {
      "text/plain": [
       "                            Country last_value Entity Currency Code Minor Unit\n",
       "18                     bahamas, the   0.899883    NaN      NaN  NaN        NaN\n",
       "39                    cote d'ivoire    245.025    NaN      NaN  NaN        NaN\n",
       "41                 congo, dem. rep.    834.585    NaN      NaN  NaN        NaN\n",
       "42                      congo, rep.    348.273    NaN      NaN  NaN        NaN\n",
       "50                          curacao    1.37872    NaN      NaN  NaN        NaN\n",
       "61                 egypt, arab rep.    4.31603    NaN      NaN  NaN        NaN\n",
       "69            micronesia, fed. sts.    1.00573    NaN      NaN  NaN        NaN\n",
       "75                      gambia, the    16.7752    NaN      NaN  NaN        NaN\n",
       "82             hong kong sar, china    6.10782    NaN      NaN  NaN        NaN\n",
       "91               iran, islamic rep.    22758.1    NaN      NaN  NaN        NaN\n",
       "101                 kyrgyz republic    16.6586    NaN      NaN  NaN        NaN\n",
       "104             st. kitts and nevis    1.94959    NaN      NaN  NaN        NaN\n",
       "105                     korea, rep.    869.064    NaN      NaN  NaN        NaN\n",
       "107                         lao pdr    2788.15    NaN      NaN  NaN        NaN\n",
       "111                       st. lucia    1.94334    NaN      NaN  NaN        NaN\n",
       "118                macao sar, china    5.24291    NaN      NaN  NaN        NaN\n",
       "120                         moldova     5.8083    NaN      NaN  NaN        NaN\n",
       "126                 north macedonia    18.8191    NaN      NaN  NaN        NaN\n",
       "159              west bank and gaza   0.560551    NaN      NaN  NaN        NaN\n",
       "178                 slovak republic    0.53323    NaN      NaN  NaN        NaN\n",
       "181                        eswatini    6.25079    NaN      NaN  NaN        NaN\n",
       "196                        tanzania     929.19    NaN      NaN  NaN        NaN\n",
       "204  st. vincent and the grenadines    1.54439    NaN      NaN  NaN        NaN\n",
       "206          british virgin islands    1.06878    NaN      NaN  NaN        NaN\n",
       "207                         vietnam    7453.57    NaN      NaN  NaN        NaN\n",
       "210                          kosovo    0.33239    NaN      NaN  NaN        NaN\n",
       "211                     yemen, rep.    93.6313    NaN      NaN  NaN        NaN"
      ],
      "text/html": "<div>\n<style scoped>\n    .dataframe tbody tr th:only-of-type {\n        vertical-align: middle;\n    }\n\n    .dataframe tbody tr th {\n        vertical-align: top;\n    }\n\n    .dataframe thead th {\n        text-align: right;\n    }\n</style>\n<table border=\"1\" class=\"dataframe\">\n  <thead>\n    <tr style=\"text-align: right;\">\n      <th></th>\n      <th>Country</th>\n      <th>last_value</th>\n      <th>Entity</th>\n      <th>Currency</th>\n      <th>Code</th>\n      <th>Minor Unit</th>\n    </tr>\n  </thead>\n  <tbody>\n    <tr>\n      <th>18</th>\n      <td>bahamas, the</td>\n      <td>0.899883</td>\n      <td>NaN</td>\n      <td>NaN</td>\n      <td>NaN</td>\n      <td>NaN</td>\n    </tr>\n    <tr>\n      <th>39</th>\n      <td>cote d'ivoire</td>\n      <td>245.025</td>\n      <td>NaN</td>\n      <td>NaN</td>\n      <td>NaN</td>\n      <td>NaN</td>\n    </tr>\n    <tr>\n      <th>41</th>\n      <td>congo, dem. rep.</td>\n      <td>834.585</td>\n      <td>NaN</td>\n      <td>NaN</td>\n      <td>NaN</td>\n      <td>NaN</td>\n    </tr>\n    <tr>\n      <th>42</th>\n      <td>congo, rep.</td>\n      <td>348.273</td>\n      <td>NaN</td>\n      <td>NaN</td>\n      <td>NaN</td>\n      <td>NaN</td>\n    </tr>\n    <tr>\n      <th>50</th>\n      <td>curacao</td>\n      <td>1.37872</td>\n      <td>NaN</td>\n      <td>NaN</td>\n      <td>NaN</td>\n      <td>NaN</td>\n    </tr>\n    <tr>\n      <th>61</th>\n      <td>egypt, arab rep.</td>\n      <td>4.31603</td>\n      <td>NaN</td>\n      <td>NaN</td>\n      <td>NaN</td>\n      <td>NaN</td>\n    </tr>\n    <tr>\n      <th>69</th>\n      <td>micronesia, fed. sts.</td>\n      <td>1.00573</td>\n      <td>NaN</td>\n      <td>NaN</td>\n      <td>NaN</td>\n      <td>NaN</td>\n    </tr>\n    <tr>\n      <th>75</th>\n      <td>gambia, the</td>\n      <td>16.7752</td>\n      <td>NaN</td>\n      <td>NaN</td>\n      <td>NaN</td>\n      <td>NaN</td>\n    </tr>\n    <tr>\n      <th>82</th>\n      <td>hong kong sar, china</td>\n      <td>6.10782</td>\n      <td>NaN</td>\n      <td>NaN</td>\n      <td>NaN</td>\n      <td>NaN</td>\n    </tr>\n    <tr>\n      <th>91</th>\n      <td>iran, islamic rep.</td>\n      <td>22758.1</td>\n      <td>NaN</td>\n      <td>NaN</td>\n      <td>NaN</td>\n      <td>NaN</td>\n    </tr>\n    <tr>\n      <th>101</th>\n      <td>kyrgyz republic</td>\n      <td>16.6586</td>\n      <td>NaN</td>\n      <td>NaN</td>\n      <td>NaN</td>\n      <td>NaN</td>\n    </tr>\n    <tr>\n      <th>104</th>\n      <td>st. kitts and nevis</td>\n      <td>1.94959</td>\n      <td>NaN</td>\n      <td>NaN</td>\n      <td>NaN</td>\n      <td>NaN</td>\n    </tr>\n    <tr>\n      <th>105</th>\n      <td>korea, rep.</td>\n      <td>869.064</td>\n      <td>NaN</td>\n      <td>NaN</td>\n      <td>NaN</td>\n      <td>NaN</td>\n    </tr>\n    <tr>\n      <th>107</th>\n      <td>lao pdr</td>\n      <td>2788.15</td>\n      <td>NaN</td>\n      <td>NaN</td>\n      <td>NaN</td>\n      <td>NaN</td>\n    </tr>\n    <tr>\n      <th>111</th>\n      <td>st. lucia</td>\n      <td>1.94334</td>\n      <td>NaN</td>\n      <td>NaN</td>\n      <td>NaN</td>\n      <td>NaN</td>\n    </tr>\n    <tr>\n      <th>118</th>\n      <td>macao sar, china</td>\n      <td>5.24291</td>\n      <td>NaN</td>\n      <td>NaN</td>\n      <td>NaN</td>\n      <td>NaN</td>\n    </tr>\n    <tr>\n      <th>120</th>\n      <td>moldova</td>\n      <td>5.8083</td>\n      <td>NaN</td>\n      <td>NaN</td>\n      <td>NaN</td>\n      <td>NaN</td>\n    </tr>\n    <tr>\n      <th>126</th>\n      <td>north macedonia</td>\n      <td>18.8191</td>\n      <td>NaN</td>\n      <td>NaN</td>\n      <td>NaN</td>\n      <td>NaN</td>\n    </tr>\n    <tr>\n      <th>159</th>\n      <td>west bank and gaza</td>\n      <td>0.560551</td>\n      <td>NaN</td>\n      <td>NaN</td>\n      <td>NaN</td>\n      <td>NaN</td>\n    </tr>\n    <tr>\n      <th>178</th>\n      <td>slovak republic</td>\n      <td>0.53323</td>\n      <td>NaN</td>\n      <td>NaN</td>\n      <td>NaN</td>\n      <td>NaN</td>\n    </tr>\n    <tr>\n      <th>181</th>\n      <td>eswatini</td>\n      <td>6.25079</td>\n      <td>NaN</td>\n      <td>NaN</td>\n      <td>NaN</td>\n      <td>NaN</td>\n    </tr>\n    <tr>\n      <th>196</th>\n      <td>tanzania</td>\n      <td>929.19</td>\n      <td>NaN</td>\n      <td>NaN</td>\n      <td>NaN</td>\n      <td>NaN</td>\n    </tr>\n    <tr>\n      <th>204</th>\n      <td>st. vincent and the grenadines</td>\n      <td>1.54439</td>\n      <td>NaN</td>\n      <td>NaN</td>\n      <td>NaN</td>\n      <td>NaN</td>\n    </tr>\n    <tr>\n      <th>206</th>\n      <td>british virgin islands</td>\n      <td>1.06878</td>\n      <td>NaN</td>\n      <td>NaN</td>\n      <td>NaN</td>\n      <td>NaN</td>\n    </tr>\n    <tr>\n      <th>207</th>\n      <td>vietnam</td>\n      <td>7453.57</td>\n      <td>NaN</td>\n      <td>NaN</td>\n      <td>NaN</td>\n      <td>NaN</td>\n    </tr>\n    <tr>\n      <th>210</th>\n      <td>kosovo</td>\n      <td>0.33239</td>\n      <td>NaN</td>\n      <td>NaN</td>\n      <td>NaN</td>\n      <td>NaN</td>\n    </tr>\n    <tr>\n      <th>211</th>\n      <td>yemen, rep.</td>\n      <td>93.6313</td>\n      <td>NaN</td>\n      <td>NaN</td>\n      <td>NaN</td>\n      <td>NaN</td>\n    </tr>\n  </tbody>\n</table>\n</div>"
     },
     "metadata": {},
     "execution_count": 41
    }
   ],
   "source": [
    "gaps[gaps.Entity.isna()]"
   ]
  },
  {
   "cell_type": "code",
   "execution_count": 42,
   "metadata": {},
   "outputs": [
    {
     "output_type": "execute_result",
     "data": {
      "text/plain": [
       "    Country Name Country Code  1990  1991  1992  1993  1994  1995  1996  1997  \\\n",
       "211      Somalia          SOM   NaN   NaN   NaN   NaN   NaN   NaN   NaN   NaN   \n",
       "\n",
       "     ...         2012         2013         2014        2015         2016  \\\n",
       "211  ...  8005.592998  8325.863347  8129.271431  7941.63533  7916.910752   \n",
       "\n",
       "            2017  2018  2019  2020  last_value  \n",
       "211  8229.531086   NaN   NaN   NaN     8229.53  \n",
       "\n",
       "[1 rows x 34 columns]"
      ],
      "text/html": "<div>\n<style scoped>\n    .dataframe tbody tr th:only-of-type {\n        vertical-align: middle;\n    }\n\n    .dataframe tbody tr th {\n        vertical-align: top;\n    }\n\n    .dataframe thead th {\n        text-align: right;\n    }\n</style>\n<table border=\"1\" class=\"dataframe\">\n  <thead>\n    <tr style=\"text-align: right;\">\n      <th></th>\n      <th>Country Name</th>\n      <th>Country Code</th>\n      <th>1990</th>\n      <th>1991</th>\n      <th>1992</th>\n      <th>1993</th>\n      <th>1994</th>\n      <th>1995</th>\n      <th>1996</th>\n      <th>1997</th>\n      <th>...</th>\n      <th>2012</th>\n      <th>2013</th>\n      <th>2014</th>\n      <th>2015</th>\n      <th>2016</th>\n      <th>2017</th>\n      <th>2018</th>\n      <th>2019</th>\n      <th>2020</th>\n      <th>last_value</th>\n    </tr>\n  </thead>\n  <tbody>\n    <tr>\n      <th>211</th>\n      <td>Somalia</td>\n      <td>SOM</td>\n      <td>NaN</td>\n      <td>NaN</td>\n      <td>NaN</td>\n      <td>NaN</td>\n      <td>NaN</td>\n      <td>NaN</td>\n      <td>NaN</td>\n      <td>NaN</td>\n      <td>...</td>\n      <td>8005.592998</td>\n      <td>8325.863347</td>\n      <td>8129.271431</td>\n      <td>7941.63533</td>\n      <td>7916.910752</td>\n      <td>8229.531086</td>\n      <td>NaN</td>\n      <td>NaN</td>\n      <td>NaN</td>\n      <td>8229.53</td>\n    </tr>\n  </tbody>\n</table>\n<p>1 rows × 34 columns</p>\n</div>"
     },
     "metadata": {},
     "execution_count": 42
    }
   ],
   "source": [
    "twb_data[twb_data['Country Name'] == 'Somalia']"
   ]
  },
  {
   "cell_type": "code",
   "execution_count": 43,
   "metadata": {},
   "outputs": [
    {
     "output_type": "execute_result",
     "data": {
      "text/plain": [
       "     Country last_value         Currency Code\n",
       "154  somalia    8229.53  Somali Shilling  SOS"
      ],
      "text/html": "<div>\n<style scoped>\n    .dataframe tbody tr th:only-of-type {\n        vertical-align: middle;\n    }\n\n    .dataframe tbody tr th {\n        vertical-align: top;\n    }\n\n    .dataframe thead th {\n        text-align: right;\n    }\n</style>\n<table border=\"1\" class=\"dataframe\">\n  <thead>\n    <tr style=\"text-align: right;\">\n      <th></th>\n      <th>Country</th>\n      <th>last_value</th>\n      <th>Currency</th>\n      <th>Code</th>\n    </tr>\n  </thead>\n  <tbody>\n    <tr>\n      <th>154</th>\n      <td>somalia</td>\n      <td>8229.53</td>\n      <td>Somali Shilling</td>\n      <td>SOS</td>\n    </tr>\n  </tbody>\n</table>\n</div>"
     },
     "metadata": {},
     "execution_count": 43
    }
   ],
   "source": [
    "country_currency[country_currency.Code == 'SOS']"
   ]
  },
  {
   "cell_type": "code",
   "execution_count": 44,
   "metadata": {},
   "outputs": [
    {
     "output_type": "execute_result",
     "data": {
      "text/plain": [
       "             Country Name Country Code          1990          1991  \\\n",
       "0                   Aruba          ABW  9.451314e-01  9.655218e-01   \n",
       "1             Afghanistan          AFG           NaN           NaN   \n",
       "2                  Angola          AGO  1.058393e-08  2.112144e-08   \n",
       "3                 Albania          ALB  2.338549e+00  3.065402e+00   \n",
       "6    United Arab Emirates          ARE  1.167017e+00  1.137996e+00   \n",
       "..                    ...          ...           ...           ...   \n",
       "259                Kosovo          XKX           NaN           NaN   \n",
       "260           Yemen, Rep.          YEM  6.107839e+00  6.616785e+00   \n",
       "261          South Africa          ZAF  1.265262e+00  1.415433e+00   \n",
       "262                Zambia          ZMB  9.556399e-03  1.780860e-02   \n",
       "263              Zimbabwe          ZWE  7.439981e-01  6.708873e-01   \n",
       "\n",
       "             1992       1993       1994       1995       1996       1997  ...  \\\n",
       "0    9.798110e-01   1.007829   1.048954   1.062042   1.077156   1.098135  ...   \n",
       "1             NaN        NaN        NaN        NaN        NaN        NaN  ...   \n",
       "2    1.190553e-07   0.000001   0.000026   0.000497   0.023940   0.045998  ...   \n",
       "3    9.979887e+00  21.998489  29.258513  31.477205  35.424557  38.738167  ...   \n",
       "6    1.132743e+00   1.120668   1.094358   1.113766   1.156881   1.126440  ...   \n",
       "..            ...        ...        ...        ...        ...        ...  ...   \n",
       "259           NaN        NaN        NaN        NaN        NaN        NaN  ...   \n",
       "260  7.321481e+00   8.323239   9.842986  14.050874  18.871843  21.016099  ...   \n",
       "261  1.585498e+00   1.749861   1.877083   2.026311   2.147189   2.279385  ...   \n",
       "262  4.623424e-02   0.110046   0.194742   0.249130   0.304221   0.375034  ...   \n",
       "263  5.632571e-01   0.529361   0.498103   0.502697   0.538010   0.513663  ...   \n",
       "\n",
       "          2012       2013       2014       2015       2016       2017  \\\n",
       "0     1.317801   1.285141   1.308843   1.362318   1.355045   1.350690   \n",
       "1    17.242264  17.509419  17.035878  17.022520  17.445828  17.205558   \n",
       "2    65.681671  66.019371  65.000671  68.182045  80.778969  92.951721   \n",
       "3    43.655000  44.113709  42.893807  42.705831  42.385879  42.255535   \n",
       "6     2.177725   2.213316   2.182567   2.187785   2.189752   2.221792   \n",
       "..         ...        ...        ...        ...        ...        ...   \n",
       "259   0.330216   0.332721   0.339622   0.339128   0.339378   0.340077   \n",
       "260  88.792992  93.631317        NaN        NaN        NaN        NaN   \n",
       "261   5.107817   5.295738   5.571891   5.825256   6.159093   6.426701   \n",
       "262   2.651491   2.832861   3.064822   3.366482   3.878827   4.192580   \n",
       "263   0.549246   0.558424   0.549252   0.539304   0.521862   0.511243   \n",
       "\n",
       "           2018        2019  2020  last_value  \n",
       "0           NaN         NaN   NaN     1.35069  \n",
       "1     17.144309   17.914483   NaN     17.9145  \n",
       "2    117.116076  146.167168   NaN     146.167  \n",
       "3     42.125796   41.342391   NaN     41.3424  \n",
       "6      2.346952    2.258503   NaN      2.2585  \n",
       "..          ...         ...   ...         ...  \n",
       "259    0.335354    0.332390   NaN     0.33239  \n",
       "260         NaN         NaN   NaN     93.6313  \n",
       "261    6.519588    6.652566   NaN     6.65257  \n",
       "262    4.396237    4.641657   NaN     4.64166  \n",
       "263    0.525139    0.494348   NaN    0.494348  \n",
       "\n",
       "[200 rows x 34 columns]"
      ],
      "text/html": "<div>\n<style scoped>\n    .dataframe tbody tr th:only-of-type {\n        vertical-align: middle;\n    }\n\n    .dataframe tbody tr th {\n        vertical-align: top;\n    }\n\n    .dataframe thead th {\n        text-align: right;\n    }\n</style>\n<table border=\"1\" class=\"dataframe\">\n  <thead>\n    <tr style=\"text-align: right;\">\n      <th></th>\n      <th>Country Name</th>\n      <th>Country Code</th>\n      <th>1990</th>\n      <th>1991</th>\n      <th>1992</th>\n      <th>1993</th>\n      <th>1994</th>\n      <th>1995</th>\n      <th>1996</th>\n      <th>1997</th>\n      <th>...</th>\n      <th>2012</th>\n      <th>2013</th>\n      <th>2014</th>\n      <th>2015</th>\n      <th>2016</th>\n      <th>2017</th>\n      <th>2018</th>\n      <th>2019</th>\n      <th>2020</th>\n      <th>last_value</th>\n    </tr>\n  </thead>\n  <tbody>\n    <tr>\n      <th>0</th>\n      <td>Aruba</td>\n      <td>ABW</td>\n      <td>9.451314e-01</td>\n      <td>9.655218e-01</td>\n      <td>9.798110e-01</td>\n      <td>1.007829</td>\n      <td>1.048954</td>\n      <td>1.062042</td>\n      <td>1.077156</td>\n      <td>1.098135</td>\n      <td>...</td>\n      <td>1.317801</td>\n      <td>1.285141</td>\n      <td>1.308843</td>\n      <td>1.362318</td>\n      <td>1.355045</td>\n      <td>1.350690</td>\n      <td>NaN</td>\n      <td>NaN</td>\n      <td>NaN</td>\n      <td>1.35069</td>\n    </tr>\n    <tr>\n      <th>1</th>\n      <td>Afghanistan</td>\n      <td>AFG</td>\n      <td>NaN</td>\n      <td>NaN</td>\n      <td>NaN</td>\n      <td>NaN</td>\n      <td>NaN</td>\n      <td>NaN</td>\n      <td>NaN</td>\n      <td>NaN</td>\n      <td>...</td>\n      <td>17.242264</td>\n      <td>17.509419</td>\n      <td>17.035878</td>\n      <td>17.022520</td>\n      <td>17.445828</td>\n      <td>17.205558</td>\n      <td>17.144309</td>\n      <td>17.914483</td>\n      <td>NaN</td>\n      <td>17.9145</td>\n    </tr>\n    <tr>\n      <th>2</th>\n      <td>Angola</td>\n      <td>AGO</td>\n      <td>1.058393e-08</td>\n      <td>2.112144e-08</td>\n      <td>1.190553e-07</td>\n      <td>0.000001</td>\n      <td>0.000026</td>\n      <td>0.000497</td>\n      <td>0.023940</td>\n      <td>0.045998</td>\n      <td>...</td>\n      <td>65.681671</td>\n      <td>66.019371</td>\n      <td>65.000671</td>\n      <td>68.182045</td>\n      <td>80.778969</td>\n      <td>92.951721</td>\n      <td>117.116076</td>\n      <td>146.167168</td>\n      <td>NaN</td>\n      <td>146.167</td>\n    </tr>\n    <tr>\n      <th>3</th>\n      <td>Albania</td>\n      <td>ALB</td>\n      <td>2.338549e+00</td>\n      <td>3.065402e+00</td>\n      <td>9.979887e+00</td>\n      <td>21.998489</td>\n      <td>29.258513</td>\n      <td>31.477205</td>\n      <td>35.424557</td>\n      <td>38.738167</td>\n      <td>...</td>\n      <td>43.655000</td>\n      <td>44.113709</td>\n      <td>42.893807</td>\n      <td>42.705831</td>\n      <td>42.385879</td>\n      <td>42.255535</td>\n      <td>42.125796</td>\n      <td>41.342391</td>\n      <td>NaN</td>\n      <td>41.3424</td>\n    </tr>\n    <tr>\n      <th>6</th>\n      <td>United Arab Emirates</td>\n      <td>ARE</td>\n      <td>1.167017e+00</td>\n      <td>1.137996e+00</td>\n      <td>1.132743e+00</td>\n      <td>1.120668</td>\n      <td>1.094358</td>\n      <td>1.113766</td>\n      <td>1.156881</td>\n      <td>1.126440</td>\n      <td>...</td>\n      <td>2.177725</td>\n      <td>2.213316</td>\n      <td>2.182567</td>\n      <td>2.187785</td>\n      <td>2.189752</td>\n      <td>2.221792</td>\n      <td>2.346952</td>\n      <td>2.258503</td>\n      <td>NaN</td>\n      <td>2.2585</td>\n    </tr>\n    <tr>\n      <th>...</th>\n      <td>...</td>\n      <td>...</td>\n      <td>...</td>\n      <td>...</td>\n      <td>...</td>\n      <td>...</td>\n      <td>...</td>\n      <td>...</td>\n      <td>...</td>\n      <td>...</td>\n      <td>...</td>\n      <td>...</td>\n      <td>...</td>\n      <td>...</td>\n      <td>...</td>\n      <td>...</td>\n      <td>...</td>\n      <td>...</td>\n      <td>...</td>\n      <td>...</td>\n      <td>...</td>\n    </tr>\n    <tr>\n      <th>259</th>\n      <td>Kosovo</td>\n      <td>XKX</td>\n      <td>NaN</td>\n      <td>NaN</td>\n      <td>NaN</td>\n      <td>NaN</td>\n      <td>NaN</td>\n      <td>NaN</td>\n      <td>NaN</td>\n      <td>NaN</td>\n      <td>...</td>\n      <td>0.330216</td>\n      <td>0.332721</td>\n      <td>0.339622</td>\n      <td>0.339128</td>\n      <td>0.339378</td>\n      <td>0.340077</td>\n      <td>0.335354</td>\n      <td>0.332390</td>\n      <td>NaN</td>\n      <td>0.33239</td>\n    </tr>\n    <tr>\n      <th>260</th>\n      <td>Yemen, Rep.</td>\n      <td>YEM</td>\n      <td>6.107839e+00</td>\n      <td>6.616785e+00</td>\n      <td>7.321481e+00</td>\n      <td>8.323239</td>\n      <td>9.842986</td>\n      <td>14.050874</td>\n      <td>18.871843</td>\n      <td>21.016099</td>\n      <td>...</td>\n      <td>88.792992</td>\n      <td>93.631317</td>\n      <td>NaN</td>\n      <td>NaN</td>\n      <td>NaN</td>\n      <td>NaN</td>\n      <td>NaN</td>\n      <td>NaN</td>\n      <td>NaN</td>\n      <td>93.6313</td>\n    </tr>\n    <tr>\n      <th>261</th>\n      <td>South Africa</td>\n      <td>ZAF</td>\n      <td>1.265262e+00</td>\n      <td>1.415433e+00</td>\n      <td>1.585498e+00</td>\n      <td>1.749861</td>\n      <td>1.877083</td>\n      <td>2.026311</td>\n      <td>2.147189</td>\n      <td>2.279385</td>\n      <td>...</td>\n      <td>5.107817</td>\n      <td>5.295738</td>\n      <td>5.571891</td>\n      <td>5.825256</td>\n      <td>6.159093</td>\n      <td>6.426701</td>\n      <td>6.519588</td>\n      <td>6.652566</td>\n      <td>NaN</td>\n      <td>6.65257</td>\n    </tr>\n    <tr>\n      <th>262</th>\n      <td>Zambia</td>\n      <td>ZMB</td>\n      <td>9.556399e-03</td>\n      <td>1.780860e-02</td>\n      <td>4.623424e-02</td>\n      <td>0.110046</td>\n      <td>0.194742</td>\n      <td>0.249130</td>\n      <td>0.304221</td>\n      <td>0.375034</td>\n      <td>...</td>\n      <td>2.651491</td>\n      <td>2.832861</td>\n      <td>3.064822</td>\n      <td>3.366482</td>\n      <td>3.878827</td>\n      <td>4.192580</td>\n      <td>4.396237</td>\n      <td>4.641657</td>\n      <td>NaN</td>\n      <td>4.64166</td>\n    </tr>\n    <tr>\n      <th>263</th>\n      <td>Zimbabwe</td>\n      <td>ZWE</td>\n      <td>7.439981e-01</td>\n      <td>6.708873e-01</td>\n      <td>5.632571e-01</td>\n      <td>0.529361</td>\n      <td>0.498103</td>\n      <td>0.502697</td>\n      <td>0.538010</td>\n      <td>0.513663</td>\n      <td>...</td>\n      <td>0.549246</td>\n      <td>0.558424</td>\n      <td>0.549252</td>\n      <td>0.539304</td>\n      <td>0.521862</td>\n      <td>0.511243</td>\n      <td>0.525139</td>\n      <td>0.494348</td>\n      <td>NaN</td>\n      <td>0.494348</td>\n    </tr>\n  </tbody>\n</table>\n<p>200 rows × 34 columns</p>\n</div>"
     },
     "metadata": {},
     "execution_count": 44
    }
   ],
   "source": [
    "twb_data"
   ]
  },
  {
   "cell_type": "code",
   "execution_count": 45,
   "metadata": {},
   "outputs": [
    {
     "output_type": "stream",
     "name": "stderr",
     "text": [
      "<ipython-input-45-a4fef3862988>:1: SettingWithCopyWarning: \nA value is trying to be set on a copy of a slice from a DataFrame.\nTry using .loc[row_indexer,col_indexer] = value instead\n\nSee the caveats in the documentation: https://pandas.pydata.org/pandas-docs/stable/user_guide/indexing.html#returning-a-view-versus-a-copy\n  twb_data['second_value'] = twb_data.ffill(axis=1).iloc[:, -4]\n<ipython-input-45-a4fef3862988>:2: SettingWithCopyWarning: \nA value is trying to be set on a copy of a slice from a DataFrame.\nTry using .loc[row_indexer,col_indexer] = value instead\n\nSee the caveats in the documentation: https://pandas.pydata.org/pandas-docs/stable/user_guide/indexing.html#returning-a-view-versus-a-copy\n  twb_data['third_value'] = twb_data.ffill(axis=1).iloc[:, -6]\n<ipython-input-45-a4fef3862988>:3: SettingWithCopyWarning: \nA value is trying to be set on a copy of a slice from a DataFrame.\nTry using .loc[row_indexer,col_indexer] = value instead\n\nSee the caveats in the documentation: https://pandas.pydata.org/pandas-docs/stable/user_guide/indexing.html#returning-a-view-versus-a-copy\n  twb_data['forth_value'] = twb_data.ffill(axis=1).iloc[:, -8]\n<ipython-input-45-a4fef3862988>:4: SettingWithCopyWarning: \nA value is trying to be set on a copy of a slice from a DataFrame.\nTry using .loc[row_indexer,col_indexer] = value instead\n\nSee the caveats in the documentation: https://pandas.pydata.org/pandas-docs/stable/user_guide/indexing.html#returning-a-view-versus-a-copy\n  twb_data['fifth_value'] = twb_data.ffill(axis=1).iloc[:, -10]\n"
     ]
    }
   ],
   "source": [
    "twb_data['second_value'] = twb_data.ffill(axis=1).iloc[:, -4]\n",
    "twb_data['third_value'] = twb_data.ffill(axis=1).iloc[:, -6]\n",
    "twb_data['forth_value'] = twb_data.ffill(axis=1).iloc[:, -8]\n",
    "twb_data['fifth_value'] = twb_data.ffill(axis=1).iloc[:, -10]"
   ]
  },
  {
   "cell_type": "code",
   "execution_count": 46,
   "metadata": {},
   "outputs": [
    {
     "output_type": "execute_result",
     "data": {
      "text/plain": [
       "             Country Name Country Code          1990          1991  \\\n",
       "0                   Aruba          ABW  9.451314e-01  9.655218e-01   \n",
       "1             Afghanistan          AFG           NaN           NaN   \n",
       "2                  Angola          AGO  1.058393e-08  2.112144e-08   \n",
       "3                 Albania          ALB  2.338549e+00  3.065402e+00   \n",
       "6    United Arab Emirates          ARE  1.167017e+00  1.137996e+00   \n",
       "..                    ...          ...           ...           ...   \n",
       "259                Kosovo          XKX           NaN           NaN   \n",
       "260           Yemen, Rep.          YEM  6.107839e+00  6.616785e+00   \n",
       "261          South Africa          ZAF  1.265262e+00  1.415433e+00   \n",
       "262                Zambia          ZMB  9.556399e-03  1.780860e-02   \n",
       "263              Zimbabwe          ZWE  7.439981e-01  6.708873e-01   \n",
       "\n",
       "             1992       1993       1994       1995       1996       1997  ...  \\\n",
       "0    9.798110e-01   1.007829   1.048954   1.062042   1.077156   1.098135  ...   \n",
       "1             NaN        NaN        NaN        NaN        NaN        NaN  ...   \n",
       "2    1.190553e-07   0.000001   0.000026   0.000497   0.023940   0.045998  ...   \n",
       "3    9.979887e+00  21.998489  29.258513  31.477205  35.424557  38.738167  ...   \n",
       "6    1.132743e+00   1.120668   1.094358   1.113766   1.156881   1.126440  ...   \n",
       "..            ...        ...        ...        ...        ...        ...  ...   \n",
       "259           NaN        NaN        NaN        NaN        NaN        NaN  ...   \n",
       "260  7.321481e+00   8.323239   9.842986  14.050874  18.871843  21.016099  ...   \n",
       "261  1.585498e+00   1.749861   1.877083   2.026311   2.147189   2.279385  ...   \n",
       "262  4.623424e-02   0.110046   0.194742   0.249130   0.304221   0.375034  ...   \n",
       "263  5.632571e-01   0.529361   0.498103   0.502697   0.538010   0.513663  ...   \n",
       "\n",
       "          2016       2017        2018        2019  2020  last_value  \\\n",
       "0     1.355045   1.350690         NaN         NaN   NaN     1.35069   \n",
       "1    17.445828  17.205558   17.144309   17.914483   NaN     17.9145   \n",
       "2    80.778969  92.951721  117.116076  146.167168   NaN     146.167   \n",
       "3    42.385879  42.255535   42.125796   41.342391   NaN     41.3424   \n",
       "6     2.189752   2.221792    2.346952    2.258503   NaN      2.2585   \n",
       "..         ...        ...         ...         ...   ...         ...   \n",
       "259   0.339378   0.340077    0.335354    0.332390   NaN     0.33239   \n",
       "260        NaN        NaN         NaN         NaN   NaN     93.6313   \n",
       "261   6.159093   6.426701    6.519588    6.652566   NaN     6.65257   \n",
       "262   3.878827   4.192580    4.396237    4.641657   NaN     4.64166   \n",
       "263   0.521862   0.511243    0.525139    0.494348   NaN    0.494348   \n",
       "\n",
       "     second_value  third_value  forth_value  fifth_value  \n",
       "0         1.35069      1.35069      1.35504      1.36232  \n",
       "1         17.1443      17.2056      17.4458      17.0225  \n",
       "2         117.116      92.9517       80.779       68.182  \n",
       "3         42.1258      42.2555      42.3859      42.7058  \n",
       "6         2.34695      2.22179      2.18975      2.18778  \n",
       "..            ...          ...          ...          ...  \n",
       "259      0.335354     0.340077     0.339378     0.339128  \n",
       "260       93.6313      93.6313      93.6313      93.6313  \n",
       "261       6.51959       6.4267      6.15909      5.82526  \n",
       "262       4.39624      4.19258      3.87883      3.36648  \n",
       "263      0.525139     0.511243     0.521862     0.539304  \n",
       "\n",
       "[200 rows x 38 columns]"
      ],
      "text/html": "<div>\n<style scoped>\n    .dataframe tbody tr th:only-of-type {\n        vertical-align: middle;\n    }\n\n    .dataframe tbody tr th {\n        vertical-align: top;\n    }\n\n    .dataframe thead th {\n        text-align: right;\n    }\n</style>\n<table border=\"1\" class=\"dataframe\">\n  <thead>\n    <tr style=\"text-align: right;\">\n      <th></th>\n      <th>Country Name</th>\n      <th>Country Code</th>\n      <th>1990</th>\n      <th>1991</th>\n      <th>1992</th>\n      <th>1993</th>\n      <th>1994</th>\n      <th>1995</th>\n      <th>1996</th>\n      <th>1997</th>\n      <th>...</th>\n      <th>2016</th>\n      <th>2017</th>\n      <th>2018</th>\n      <th>2019</th>\n      <th>2020</th>\n      <th>last_value</th>\n      <th>second_value</th>\n      <th>third_value</th>\n      <th>forth_value</th>\n      <th>fifth_value</th>\n    </tr>\n  </thead>\n  <tbody>\n    <tr>\n      <th>0</th>\n      <td>Aruba</td>\n      <td>ABW</td>\n      <td>9.451314e-01</td>\n      <td>9.655218e-01</td>\n      <td>9.798110e-01</td>\n      <td>1.007829</td>\n      <td>1.048954</td>\n      <td>1.062042</td>\n      <td>1.077156</td>\n      <td>1.098135</td>\n      <td>...</td>\n      <td>1.355045</td>\n      <td>1.350690</td>\n      <td>NaN</td>\n      <td>NaN</td>\n      <td>NaN</td>\n      <td>1.35069</td>\n      <td>1.35069</td>\n      <td>1.35069</td>\n      <td>1.35504</td>\n      <td>1.36232</td>\n    </tr>\n    <tr>\n      <th>1</th>\n      <td>Afghanistan</td>\n      <td>AFG</td>\n      <td>NaN</td>\n      <td>NaN</td>\n      <td>NaN</td>\n      <td>NaN</td>\n      <td>NaN</td>\n      <td>NaN</td>\n      <td>NaN</td>\n      <td>NaN</td>\n      <td>...</td>\n      <td>17.445828</td>\n      <td>17.205558</td>\n      <td>17.144309</td>\n      <td>17.914483</td>\n      <td>NaN</td>\n      <td>17.9145</td>\n      <td>17.1443</td>\n      <td>17.2056</td>\n      <td>17.4458</td>\n      <td>17.0225</td>\n    </tr>\n    <tr>\n      <th>2</th>\n      <td>Angola</td>\n      <td>AGO</td>\n      <td>1.058393e-08</td>\n      <td>2.112144e-08</td>\n      <td>1.190553e-07</td>\n      <td>0.000001</td>\n      <td>0.000026</td>\n      <td>0.000497</td>\n      <td>0.023940</td>\n      <td>0.045998</td>\n      <td>...</td>\n      <td>80.778969</td>\n      <td>92.951721</td>\n      <td>117.116076</td>\n      <td>146.167168</td>\n      <td>NaN</td>\n      <td>146.167</td>\n      <td>117.116</td>\n      <td>92.9517</td>\n      <td>80.779</td>\n      <td>68.182</td>\n    </tr>\n    <tr>\n      <th>3</th>\n      <td>Albania</td>\n      <td>ALB</td>\n      <td>2.338549e+00</td>\n      <td>3.065402e+00</td>\n      <td>9.979887e+00</td>\n      <td>21.998489</td>\n      <td>29.258513</td>\n      <td>31.477205</td>\n      <td>35.424557</td>\n      <td>38.738167</td>\n      <td>...</td>\n      <td>42.385879</td>\n      <td>42.255535</td>\n      <td>42.125796</td>\n      <td>41.342391</td>\n      <td>NaN</td>\n      <td>41.3424</td>\n      <td>42.1258</td>\n      <td>42.2555</td>\n      <td>42.3859</td>\n      <td>42.7058</td>\n    </tr>\n    <tr>\n      <th>6</th>\n      <td>United Arab Emirates</td>\n      <td>ARE</td>\n      <td>1.167017e+00</td>\n      <td>1.137996e+00</td>\n      <td>1.132743e+00</td>\n      <td>1.120668</td>\n      <td>1.094358</td>\n      <td>1.113766</td>\n      <td>1.156881</td>\n      <td>1.126440</td>\n      <td>...</td>\n      <td>2.189752</td>\n      <td>2.221792</td>\n      <td>2.346952</td>\n      <td>2.258503</td>\n      <td>NaN</td>\n      <td>2.2585</td>\n      <td>2.34695</td>\n      <td>2.22179</td>\n      <td>2.18975</td>\n      <td>2.18778</td>\n    </tr>\n    <tr>\n      <th>...</th>\n      <td>...</td>\n      <td>...</td>\n      <td>...</td>\n      <td>...</td>\n      <td>...</td>\n      <td>...</td>\n      <td>...</td>\n      <td>...</td>\n      <td>...</td>\n      <td>...</td>\n      <td>...</td>\n      <td>...</td>\n      <td>...</td>\n      <td>...</td>\n      <td>...</td>\n      <td>...</td>\n      <td>...</td>\n      <td>...</td>\n      <td>...</td>\n      <td>...</td>\n      <td>...</td>\n    </tr>\n    <tr>\n      <th>259</th>\n      <td>Kosovo</td>\n      <td>XKX</td>\n      <td>NaN</td>\n      <td>NaN</td>\n      <td>NaN</td>\n      <td>NaN</td>\n      <td>NaN</td>\n      <td>NaN</td>\n      <td>NaN</td>\n      <td>NaN</td>\n      <td>...</td>\n      <td>0.339378</td>\n      <td>0.340077</td>\n      <td>0.335354</td>\n      <td>0.332390</td>\n      <td>NaN</td>\n      <td>0.33239</td>\n      <td>0.335354</td>\n      <td>0.340077</td>\n      <td>0.339378</td>\n      <td>0.339128</td>\n    </tr>\n    <tr>\n      <th>260</th>\n      <td>Yemen, Rep.</td>\n      <td>YEM</td>\n      <td>6.107839e+00</td>\n      <td>6.616785e+00</td>\n      <td>7.321481e+00</td>\n      <td>8.323239</td>\n      <td>9.842986</td>\n      <td>14.050874</td>\n      <td>18.871843</td>\n      <td>21.016099</td>\n      <td>...</td>\n      <td>NaN</td>\n      <td>NaN</td>\n      <td>NaN</td>\n      <td>NaN</td>\n      <td>NaN</td>\n      <td>93.6313</td>\n      <td>93.6313</td>\n      <td>93.6313</td>\n      <td>93.6313</td>\n      <td>93.6313</td>\n    </tr>\n    <tr>\n      <th>261</th>\n      <td>South Africa</td>\n      <td>ZAF</td>\n      <td>1.265262e+00</td>\n      <td>1.415433e+00</td>\n      <td>1.585498e+00</td>\n      <td>1.749861</td>\n      <td>1.877083</td>\n      <td>2.026311</td>\n      <td>2.147189</td>\n      <td>2.279385</td>\n      <td>...</td>\n      <td>6.159093</td>\n      <td>6.426701</td>\n      <td>6.519588</td>\n      <td>6.652566</td>\n      <td>NaN</td>\n      <td>6.65257</td>\n      <td>6.51959</td>\n      <td>6.4267</td>\n      <td>6.15909</td>\n      <td>5.82526</td>\n    </tr>\n    <tr>\n      <th>262</th>\n      <td>Zambia</td>\n      <td>ZMB</td>\n      <td>9.556399e-03</td>\n      <td>1.780860e-02</td>\n      <td>4.623424e-02</td>\n      <td>0.110046</td>\n      <td>0.194742</td>\n      <td>0.249130</td>\n      <td>0.304221</td>\n      <td>0.375034</td>\n      <td>...</td>\n      <td>3.878827</td>\n      <td>4.192580</td>\n      <td>4.396237</td>\n      <td>4.641657</td>\n      <td>NaN</td>\n      <td>4.64166</td>\n      <td>4.39624</td>\n      <td>4.19258</td>\n      <td>3.87883</td>\n      <td>3.36648</td>\n    </tr>\n    <tr>\n      <th>263</th>\n      <td>Zimbabwe</td>\n      <td>ZWE</td>\n      <td>7.439981e-01</td>\n      <td>6.708873e-01</td>\n      <td>5.632571e-01</td>\n      <td>0.529361</td>\n      <td>0.498103</td>\n      <td>0.502697</td>\n      <td>0.538010</td>\n      <td>0.513663</td>\n      <td>...</td>\n      <td>0.521862</td>\n      <td>0.511243</td>\n      <td>0.525139</td>\n      <td>0.494348</td>\n      <td>NaN</td>\n      <td>0.494348</td>\n      <td>0.525139</td>\n      <td>0.511243</td>\n      <td>0.521862</td>\n      <td>0.539304</td>\n    </tr>\n  </tbody>\n</table>\n<p>200 rows × 38 columns</p>\n</div>"
     },
     "metadata": {},
     "execution_count": 46
    }
   ],
   "source": [
    "twb_data"
   ]
  },
  {
   "cell_type": "code",
   "execution_count": 47,
   "metadata": {},
   "outputs": [
    {
     "output_type": "execute_result",
     "data": {
      "text/plain": [
       "0       1.35069\n",
       "1       17.1443\n",
       "2       117.116\n",
       "3       42.1258\n",
       "6       2.34695\n",
       "         ...   \n",
       "259    0.335354\n",
       "260     93.6313\n",
       "261     6.51959\n",
       "262     4.39624\n",
       "263    0.525139\n",
       "Name: second_value, Length: 200, dtype: object"
      ]
     },
     "metadata": {},
     "execution_count": 47
    }
   ],
   "source": [
    "twb_data.ffill(axis=1).iloc[:, -4] "
   ]
  },
  {
   "cell_type": "code",
   "execution_count": null,
   "metadata": {},
   "outputs": [],
   "source": []
  }
 ]
}