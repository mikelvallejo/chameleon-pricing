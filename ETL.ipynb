{
 "cells": [
  {
   "cell_type": "code",
   "execution_count": 1,
   "metadata": {},
   "outputs": [],
   "source": [
    "import pandas as pd\n",
    "import numpy as np\n",
    "import json\n",
    "import time\n",
    "from google_currency import convert \n",
    "import warnings\n",
    "warnings.filterwarnings('ignore')\n",
    "from functions import *\n",
    "\n",
    "extract_data()\n",
    "\n",
    "transform_data()\n",
    "\n",
    "default_args = {\n",
    "    'owner': 'mikel',\n",
    "    'depends_on_past': False,\n",
    "    'start_date': datetime(2021, 6, 23),\n",
    "    'email': ['mikelvallejo9@gmail.com'],\n",
    "    'email_on_failure': False,\n",
    "    'email_on_retry': False,\n",
    "    'email_on_success': True,\n",
    "    'retries': 1,\n",
    "    'retry_delay': timedelta(minutes=1),\n",
    "}\n",
    "\n",
    "dag = DAG(\n",
    "    'chameleon_pricing',\n",
    "    description='Price recommender system',\n",
    "    schedule_interval='0 8 * * *',   # cada 1 minuto día a las 8\n",
    "    default_args=default_args,\n",
    "    catchup=False,\n",
    ")\n",
    "\n",
    "tarea1=PythonOperator(task_id='extract_data', python_callable=extract_data, dag=dag)\n",
    "\n",
    "tarea2=PythonOperator(task_id='transform_data', python_callable=transform_data, dag=dag)\n",
    "\n",
    "# secuencia de tareas\n",
    "tarea1 >> tarea2"
   ]
  },
  {
   "cell_type": "code",
   "execution_count": null,
   "metadata": {},
   "outputs": [],
   "source": []
  }
 ],
 "metadata": {
  "interpreter": {
   "hash": "d42fd19a2ab707abe08ee910f571b4e52a19666f2318787bfa3fbaeba78fa94c"
  },
  "kernelspec": {
   "display_name": "Python 3.8.8 64-bit ('clase': conda)",
   "name": "python3"
  },
  "language_info": {
   "codemirror_mode": {
    "name": "ipython",
    "version": 3
   },
   "file_extension": ".py",
   "mimetype": "text/x-python",
   "name": "python",
   "nbconvert_exporter": "python",
   "pygments_lexer": "ipython3",
   "version": "3.8.5"
  },
  "orig_nbformat": 4
 },
 "nbformat": 4,
 "nbformat_minor": 2
}