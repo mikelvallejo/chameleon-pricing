{
 "metadata": {
  "language_info": {
   "codemirror_mode": {
    "name": "ipython",
    "version": 3
   },
   "file_extension": ".py",
   "mimetype": "text/x-python",
   "name": "python",
   "nbconvert_exporter": "python",
   "pygments_lexer": "ipython3",
   "version": "3.8.5"
  },
  "orig_nbformat": 4,
  "kernelspec": {
   "name": "python3",
   "display_name": "Python 3.8.5 64-bit ('base': conda)"
  },
  "interpreter": {
   "hash": "e134e05457d34029b6460cd73bbf1ed73f339b5b6d98c95be70b69eba114fe95"
  }
 },
 "nbformat": 4,
 "nbformat_minor": 2,
 "cells": [
  {
   "cell_type": "code",
   "execution_count": 3,
   "metadata": {},
   "outputs": [],
   "source": [
    "import pandas as pd\n",
    "import json\n",
    "import time\n",
    "from google_currency import convert \n"
   ]
  },
  {
   "cell_type": "code",
   "execution_count": 27,
   "metadata": {},
   "outputs": [
    {
     "output_type": "execute_result",
     "data": {
      "text/plain": [
       "                Country  last_value       Currency Code\n",
       "0                 aruba    1.350690  Aruban Florin  AWG\n",
       "1           afghanistan   17.914483        Afghani  AFN\n",
       "2                angola  146.167168         Kwanza  AOA\n",
       "3               albania   41.342391            Lek  ALL\n",
       "4  united arab emirates    2.258503     UAE Dirham  AED"
      ],
      "text/html": "<div>\n<style scoped>\n    .dataframe tbody tr th:only-of-type {\n        vertical-align: middle;\n    }\n\n    .dataframe tbody tr th {\n        vertical-align: top;\n    }\n\n    .dataframe thead th {\n        text-align: right;\n    }\n</style>\n<table border=\"1\" class=\"dataframe\">\n  <thead>\n    <tr style=\"text-align: right;\">\n      <th></th>\n      <th>Country</th>\n      <th>last_value</th>\n      <th>Currency</th>\n      <th>Code</th>\n    </tr>\n  </thead>\n  <tbody>\n    <tr>\n      <th>0</th>\n      <td>aruba</td>\n      <td>1.350690</td>\n      <td>Aruban Florin</td>\n      <td>AWG</td>\n    </tr>\n    <tr>\n      <th>1</th>\n      <td>afghanistan</td>\n      <td>17.914483</td>\n      <td>Afghani</td>\n      <td>AFN</td>\n    </tr>\n    <tr>\n      <th>2</th>\n      <td>angola</td>\n      <td>146.167168</td>\n      <td>Kwanza</td>\n      <td>AOA</td>\n    </tr>\n    <tr>\n      <th>3</th>\n      <td>albania</td>\n      <td>41.342391</td>\n      <td>Lek</td>\n      <td>ALL</td>\n    </tr>\n    <tr>\n      <th>4</th>\n      <td>united arab emirates</td>\n      <td>2.258503</td>\n      <td>UAE Dirham</td>\n      <td>AED</td>\n    </tr>\n  </tbody>\n</table>\n</div>"
     },
     "metadata": {},
     "execution_count": 27
    }
   ],
   "source": [
    "df=pd.read_csv('/Users/mikel/Documents/Projects/chameleon-pricing/country_currency.csv')\n",
    "df.head()"
   ]
  },
  {
   "cell_type": "code",
   "execution_count": 28,
   "metadata": {},
   "outputs": [
    {
     "output_type": "execute_result",
     "data": {
      "text/plain": [
       "    Country  last_value Currency Code\n",
       "49  germany    0.744679     Euro  EUR"
      ],
      "text/html": "<div>\n<style scoped>\n    .dataframe tbody tr th:only-of-type {\n        vertical-align: middle;\n    }\n\n    .dataframe tbody tr th {\n        vertical-align: top;\n    }\n\n    .dataframe thead th {\n        text-align: right;\n    }\n</style>\n<table border=\"1\" class=\"dataframe\">\n  <thead>\n    <tr style=\"text-align: right;\">\n      <th></th>\n      <th>Country</th>\n      <th>last_value</th>\n      <th>Currency</th>\n      <th>Code</th>\n    </tr>\n  </thead>\n  <tbody>\n    <tr>\n      <th>49</th>\n      <td>germany</td>\n      <td>0.744679</td>\n      <td>Euro</td>\n      <td>EUR</td>\n    </tr>\n  </tbody>\n</table>\n</div>"
     },
     "metadata": {},
     "execution_count": 28
    }
   ],
   "source": [
    "df[df.Country == 'germany']"
   ]
  },
  {
   "source": [
    "# PPP to dollar"
   ],
   "cell_type": "markdown",
   "metadata": {}
  },
  {
   "source": [
    "https://pypi.org/project/google-currency/"
   ],
   "cell_type": "markdown",
   "metadata": {}
  },
  {
   "source": [
    "!pip install google-currency"
   ],
   "cell_type": "markdown",
   "metadata": {}
  },
  {
   "cell_type": "code",
   "execution_count": 4,
   "metadata": {},
   "outputs": [],
   "source": [
    "def ppp_to_dollar(Code, last_value):\n",
    "        conversion=convert(Code, 'usd', last_value)\n",
    "        result = json.loads(conversion)\n",
    "        return result['amount']"
   ]
  },
  {
   "cell_type": "code",
   "execution_count": 150,
   "metadata": {},
   "outputs": [
    {
     "output_type": "execute_result",
     "data": {
      "text/plain": [
       "'14.07'"
      ]
     },
     "metadata": {},
     "execution_count": 150
    }
   ],
   "source": [
    "ppp_to_dollar('SOS', 8229.53)"
   ]
  },
  {
   "cell_type": "code",
   "execution_count": 113,
   "metadata": {},
   "outputs": [],
   "source": [
    "def ppp_spain_euros(ppp_to_dollar):\n",
    "    conversion=convert('usd', 'eur', ppp_to_dollar)\n",
    "    result = json.loads(conversion)\n",
    "    return result['amount']"
   ]
  },
  {
   "cell_type": "code",
   "execution_count": 115,
   "metadata": {},
   "outputs": [
    {
     "output_type": "execute_result",
     "data": {
      "text/plain": [
       "'0.84'"
      ]
     },
     "metadata": {},
     "execution_count": 115
    }
   ],
   "source": [
    "ppp_spain_euros(1)"
   ]
  },
  {
   "cell_type": "code",
   "execution_count": 133,
   "metadata": {},
   "outputs": [],
   "source": [
    "def ppp_to_spain(ppp_to_dollar):\n",
    "    return round(ppp_to_dollar*1.31, 2)"
   ]
  },
  {
   "cell_type": "code",
   "execution_count": 136,
   "metadata": {},
   "outputs": [
    {
     "output_type": "execute_result",
     "data": {
      "text/plain": [
       "1.0"
      ]
     },
     "metadata": {},
     "execution_count": 136
    }
   ],
   "source": [
    "ppp_to_spain(0.76)"
   ]
  },
  {
   "cell_type": "code",
   "execution_count": 57,
   "metadata": {},
   "outputs": [
    {
     "output_type": "execute_result",
     "data": {
      "text/plain": [
       "'0.49'"
      ]
     },
     "metadata": {},
     "execution_count": 57
    }
   ],
   "source": [
    "ppp_spain_euros(0.58)"
   ]
  },
  {
   "cell_type": "code",
   "execution_count": 98,
   "metadata": {},
   "outputs": [],
   "source": [
    "%%time\n",
    "apply = df.apply(\n",
    "         lambda x: ppp_to_dollar(x['Code'], x['last_value']),\n",
    "         axis=1)\n",
    "df['ppp_todollar']  = apply\n",
    "print(df)"
   ]
  },
  {
   "cell_type": "code",
   "execution_count": 137,
   "metadata": {},
   "outputs": [
    {
     "output_type": "stream",
     "name": "stdout",
     "text": [
      "CPU times: user 2.39 ms, sys: 2.22 ms, total: 4.61 ms\nWall time: 8.32 ms\n"
     ]
    }
   ],
   "source": [
    "%%time\n",
    "apply = df.apply(\n",
    "         lambda x: ppp_to_spain(x['ppp_todollar']),\n",
    "         axis=1)\n",
    "df['ppp_spain']  = apply"
   ]
  },
  {
   "cell_type": "code",
   "execution_count": 141,
   "metadata": {},
   "outputs": [
    {
     "output_type": "execute_result",
     "data": {
      "text/plain": [
       "   Country  last_value Currency Code  ppp_todollar  ppp_spain\n",
       "50   spain    0.624484     Euro  EUR          0.76        1.0"
      ],
      "text/html": "<div>\n<style scoped>\n    .dataframe tbody tr th:only-of-type {\n        vertical-align: middle;\n    }\n\n    .dataframe tbody tr th {\n        vertical-align: top;\n    }\n\n    .dataframe thead th {\n        text-align: right;\n    }\n</style>\n<table border=\"1\" class=\"dataframe\">\n  <thead>\n    <tr style=\"text-align: right;\">\n      <th></th>\n      <th>Country</th>\n      <th>last_value</th>\n      <th>Currency</th>\n      <th>Code</th>\n      <th>ppp_todollar</th>\n      <th>ppp_spain</th>\n    </tr>\n  </thead>\n  <tbody>\n    <tr>\n      <th>50</th>\n      <td>spain</td>\n      <td>0.624484</td>\n      <td>Euro</td>\n      <td>EUR</td>\n      <td>0.76</td>\n      <td>1.0</td>\n    </tr>\n  </tbody>\n</table>\n</div>"
     },
     "metadata": {},
     "execution_count": 141
    }
   ],
   "source": [
    "df[df.Country == 'spain']"
   ]
  },
  {
   "cell_type": "code",
   "execution_count": 104,
   "metadata": {},
   "outputs": [
    {
     "output_type": "execute_result",
     "data": {
      "text/plain": [
       "Country             object\n",
       "last_value         float64\n",
       "Currency            object\n",
       "Code                object\n",
       "ppp_todollar       float64\n",
       "ppp_spain          float64\n",
       "ppp_spain_euros     object\n",
       "usd_eur            float64\n",
       "dtype: object"
      ]
     },
     "metadata": {},
     "execution_count": 104
    }
   ],
   "source": [
    "df.dtypes"
   ]
  },
  {
   "cell_type": "code",
   "execution_count": 15,
   "metadata": {},
   "outputs": [],
   "source": [
    "df[\"ppp_todollar\"] = df.ppp_todollar.astype(float)"
   ]
  },
  {
   "cell_type": "code",
   "execution_count": 143,
   "metadata": {},
   "outputs": [],
   "source": [
    "df[\"ppp_spain\"] = df.ppp_spain.astype(float)"
   ]
  },
  {
   "cell_type": "code",
   "execution_count": 144,
   "metadata": {},
   "outputs": [
    {
     "output_type": "execute_result",
     "data": {
      "text/plain": [
       "Country          object\n",
       "last_value      float64\n",
       "Currency         object\n",
       "Code             object\n",
       "ppp_todollar    float64\n",
       "ppp_spain       float64\n",
       "dtype: object"
      ]
     },
     "metadata": {},
     "execution_count": 144
    }
   ],
   "source": [
    "df.dtypes"
   ]
  },
  {
   "cell_type": "code",
   "execution_count": 54,
   "metadata": {},
   "outputs": [
    {
     "output_type": "execute_result",
     "data": {
      "text/plain": [
       "Empty DataFrame\n",
       "Columns: [Country, last_value, Currency, Code, ppp_todollar, ppp_spain]\n",
       "Index: []"
      ],
      "text/html": "<div>\n<style scoped>\n    .dataframe tbody tr th:only-of-type {\n        vertical-align: middle;\n    }\n\n    .dataframe tbody tr th {\n        vertical-align: top;\n    }\n\n    .dataframe thead th {\n        text-align: right;\n    }\n</style>\n<table border=\"1\" class=\"dataframe\">\n  <thead>\n    <tr style=\"text-align: right;\">\n      <th></th>\n      <th>Country</th>\n      <th>last_value</th>\n      <th>Currency</th>\n      <th>Code</th>\n      <th>ppp_todollar</th>\n      <th>ppp_spain</th>\n    </tr>\n  </thead>\n  <tbody>\n  </tbody>\n</table>\n</div>"
     },
     "metadata": {},
     "execution_count": 54
    }
   ],
   "source": [
    "df[df.ppp_todollar == 0.00]"
   ]
  },
  {
   "cell_type": "code",
   "execution_count": 18,
   "metadata": {},
   "outputs": [],
   "source": [
    "df.drop(df[df['ppp_todollar'] == 0.0].index, inplace = True)"
   ]
  },
  {
   "source": [
    "# Adjustment function"
   ],
   "cell_type": "markdown",
   "metadata": {}
  },
  {
   "cell_type": "code",
   "execution_count": 37,
   "metadata": {},
   "outputs": [],
   "source": [
    "def price_calculator(product_price, country):\n",
    "    find_ppp=df.ppp_spain[df.Country == country.lower()]\n",
    "    return product_price * find_ppp"
   ]
  },
  {
   "cell_type": "code",
   "execution_count": 53,
   "metadata": {},
   "outputs": [
    {
     "output_type": "execute_result",
     "data": {
      "text/plain": [
       "36    29.4\n",
       "Name: ppp_spain, dtype: float64"
      ]
     },
     "metadata": {},
     "execution_count": 53
    }
   ],
   "source": [
    "price_calculator(60, 'colombia')"
   ]
  },
  {
   "cell_type": "code",
   "execution_count": 55,
   "metadata": {},
   "outputs": [
    {
     "output_type": "execute_result",
     "data": {
      "text/plain": [
       "'50.21'"
      ]
     },
     "metadata": {},
     "execution_count": 55
    }
   ],
   "source": [
    "conversion=convert('usd', 'eur', 60)\n",
    "result = json.loads(conversion)\n",
    "result['amount']"
   ]
  },
  {
   "cell_type": "code",
   "execution_count": 67,
   "metadata": {},
   "outputs": [],
   "source": [
    "df.to_excel('/Users/mikel/Documents/Projects/chameleon-pricing/DB.xlsx', index=False)"
   ]
  },
  {
   "cell_type": "code",
   "execution_count": 161,
   "metadata": {},
   "outputs": [],
   "source": [
    "df=pd.read_excel('/Users/mikel/Documents/Projects/chameleon-pricing/DB.xlsx')"
   ]
  },
  {
   "source": [
    "# Get daily usd-eur exchange"
   ],
   "cell_type": "markdown",
   "metadata": {}
  },
  {
   "cell_type": "code",
   "execution_count": 91,
   "metadata": {},
   "outputs": [],
   "source": [
    "def get_eur():\n",
    "    conversion=convert('usd', 'eur', 1)\n",
    "    result = json.loads(conversion)\n",
    "    df['usd_eur']=result['amount']\n",
    "    "
   ]
  },
  {
   "cell_type": "code",
   "execution_count": 75,
   "metadata": {},
   "outputs": [
    {
     "output_type": "execute_result",
     "data": {
      "text/plain": [
       "   usd   eur\n",
       "0    1  0.86"
      ],
      "text/html": "<div>\n<style scoped>\n    .dataframe tbody tr th:only-of-type {\n        vertical-align: middle;\n    }\n\n    .dataframe tbody tr th {\n        vertical-align: top;\n    }\n\n    .dataframe thead th {\n        text-align: right;\n    }\n</style>\n<table border=\"1\" class=\"dataframe\">\n  <thead>\n    <tr style=\"text-align: right;\">\n      <th></th>\n      <th>usd</th>\n      <th>eur</th>\n    </tr>\n  </thead>\n  <tbody>\n    <tr>\n      <th>0</th>\n      <td>1</td>\n      <td>0.86</td>\n    </tr>\n  </tbody>\n</table>\n</div>"
     },
     "metadata": {},
     "execution_count": 75
    }
   ],
   "source": [
    "d = {'usd': [1], 'eur': [0.86]}\n",
    "usd_eur = pd.DataFrame(data=d)\n",
    "usd_eur"
   ]
  },
  {
   "cell_type": "code",
   "execution_count": 92,
   "metadata": {},
   "outputs": [],
   "source": [
    "get_eur()"
   ]
  },
  {
   "cell_type": "code",
   "execution_count": 181,
   "metadata": {},
   "outputs": [],
   "source": [
    "df.to_excel('/Users/mikel/Documents/Projects/chameleon-pricing/DB.xlsx', index=False)"
   ]
  },
  {
   "cell_type": "code",
   "execution_count": 182,
   "metadata": {},
   "outputs": [
    {
     "output_type": "execute_result",
     "data": {
      "text/plain": [
       "Empty DataFrame\n",
       "Columns: [Country, last_value, Currency, Code, ppp_todollar, ppp_spain]\n",
       "Index: []"
      ],
      "text/html": "<div>\n<style scoped>\n    .dataframe tbody tr th:only-of-type {\n        vertical-align: middle;\n    }\n\n    .dataframe tbody tr th {\n        vertical-align: top;\n    }\n\n    .dataframe thead th {\n        text-align: right;\n    }\n</style>\n<table border=\"1\" class=\"dataframe\">\n  <thead>\n    <tr style=\"text-align: right;\">\n      <th></th>\n      <th>Country</th>\n      <th>last_value</th>\n      <th>Currency</th>\n      <th>Code</th>\n      <th>ppp_todollar</th>\n      <th>ppp_spain</th>\n    </tr>\n  </thead>\n  <tbody>\n  </tbody>\n</table>\n</div>"
     },
     "metadata": {},
     "execution_count": 182
    }
   ],
   "source": [
    "df[df.ppp_todollar == 0]"
   ]
  },
  {
   "cell_type": "code",
   "execution_count": null,
   "metadata": {},
   "outputs": [],
   "source": []
  }
 ]
}