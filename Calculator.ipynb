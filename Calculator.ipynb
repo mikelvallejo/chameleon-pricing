{
 "cells": [
  {
   "cell_type": "code",
   "execution_count": 1,
   "metadata": {},
   "outputs": [],
   "source": [
    "import pandas as pd\n",
    "import json\n",
    "import time\n",
    "from google_currency import convert \n",
    "import warnings\n",
    "warnings.filterwarnings('ignore')\n"
   ]
  },
  {
   "cell_type": "code",
   "execution_count": 2,
   "metadata": {},
   "outputs": [
    {
     "data": {
      "text/html": [
       "<div>\n",
       "<style scoped>\n",
       "    .dataframe tbody tr th:only-of-type {\n",
       "        vertical-align: middle;\n",
       "    }\n",
       "\n",
       "    .dataframe tbody tr th {\n",
       "        vertical-align: top;\n",
       "    }\n",
       "\n",
       "    .dataframe thead th {\n",
       "        text-align: right;\n",
       "    }\n",
       "</style>\n",
       "<table border=\"1\" class=\"dataframe\">\n",
       "  <thead>\n",
       "    <tr style=\"text-align: right;\">\n",
       "      <th></th>\n",
       "      <th>Country</th>\n",
       "      <th>last_value</th>\n",
       "      <th>Currency</th>\n",
       "      <th>Code</th>\n",
       "    </tr>\n",
       "  </thead>\n",
       "  <tbody>\n",
       "    <tr>\n",
       "      <th>0</th>\n",
       "      <td>aruba</td>\n",
       "      <td>1.350690</td>\n",
       "      <td>Aruban Florin</td>\n",
       "      <td>AWG</td>\n",
       "    </tr>\n",
       "    <tr>\n",
       "      <th>1</th>\n",
       "      <td>afghanistan</td>\n",
       "      <td>17.914483</td>\n",
       "      <td>Afghani</td>\n",
       "      <td>AFN</td>\n",
       "    </tr>\n",
       "    <tr>\n",
       "      <th>2</th>\n",
       "      <td>angola</td>\n",
       "      <td>146.167168</td>\n",
       "      <td>Kwanza</td>\n",
       "      <td>AOA</td>\n",
       "    </tr>\n",
       "    <tr>\n",
       "      <th>3</th>\n",
       "      <td>albania</td>\n",
       "      <td>41.342391</td>\n",
       "      <td>Lek</td>\n",
       "      <td>ALL</td>\n",
       "    </tr>\n",
       "    <tr>\n",
       "      <th>4</th>\n",
       "      <td>united arab emirates</td>\n",
       "      <td>2.258503</td>\n",
       "      <td>UAE Dirham</td>\n",
       "      <td>AED</td>\n",
       "    </tr>\n",
       "  </tbody>\n",
       "</table>\n",
       "</div>"
      ],
      "text/plain": [
       "                Country  last_value       Currency Code\n",
       "0                 aruba    1.350690  Aruban Florin  AWG\n",
       "1           afghanistan   17.914483        Afghani  AFN\n",
       "2                angola  146.167168         Kwanza  AOA\n",
       "3               albania   41.342391            Lek  ALL\n",
       "4  united arab emirates    2.258503     UAE Dirham  AED"
      ]
     },
     "execution_count": 2,
     "metadata": {},
     "output_type": "execute_result"
    }
   ],
   "source": [
    "df=pd.read_csv('/Users/mikel/Documents/Projects/chameleon-pricing/country_currency.csv')\n",
    "df.head()"
   ]
  },
  {
   "cell_type": "markdown",
   "metadata": {},
   "source": [
    "# PPP to dollar"
   ]
  },
  {
   "cell_type": "markdown",
   "metadata": {},
   "source": [
    "https://pypi.org/project/google-currency/"
   ]
  },
  {
   "cell_type": "markdown",
   "metadata": {},
   "source": [
    "!pip install google-currency"
   ]
  },
  {
   "cell_type": "code",
   "execution_count": 3,
   "metadata": {},
   "outputs": [],
   "source": [
    "def ppp_to_dollar(Code, last_value):\n",
    "        conversion=convert(Code, 'usd', last_value)\n",
    "        result = json.loads(conversion)\n",
    "        return result['amount']"
   ]
  },
  {
   "cell_type": "code",
   "execution_count": 4,
   "metadata": {},
   "outputs": [
    {
     "data": {
      "text/plain": [
       "'9825.44'"
      ]
     },
     "execution_count": 4,
     "metadata": {},
     "output_type": "execute_result"
    }
   ],
   "source": [
    "ppp_to_dollar('EUR', 8229.53)"
   ]
  },
  {
   "cell_type": "code",
   "execution_count": 5,
   "metadata": {},
   "outputs": [
    {
     "name": "stderr",
     "output_type": "stream",
     "text": [
      "Invalid currency codes passed in parameters, original exception message is -> 'BOV'\n",
      "Invalid currency codes passed in parameters, original exception message is -> 'CHE'\n",
      "Unable to convert currency, failed to fetch results from Google\n",
      "Invalid currency codes passed in parameters, original exception message is -> 'CHW'\n",
      "Invalid currency codes passed in parameters, original exception message is -> 'COU'\n",
      "Invalid currency codes passed in parameters, original exception message is -> 'CUC'\n",
      "Invalid currency codes passed in parameters, original exception message is -> 'ERN'\n",
      "Invalid currency codes passed in parameters, original exception message is -> 'GHS'\n",
      "Invalid currency codes passed in parameters, original exception message is -> 'MXV'\n",
      "Invalid currency codes passed in parameters, original exception message is -> 'MNT'\n",
      "Invalid currency codes passed in parameters, original exception message is -> 'MZN'\n",
      "Invalid currency codes passed in parameters, original exception message is -> 'RON'\n",
      "Invalid currency codes passed in parameters, original exception message is -> 'SDG'\n",
      "Invalid currency codes passed in parameters, original exception message is -> 'RSD'\n",
      "Unable to convert currency, failed to fetch results from Google\n",
      "Invalid currency codes passed in parameters, original exception message is -> 'STD'\n",
      "Invalid currency codes passed in parameters, original exception message is -> 'TMT'\n",
      "Unable to convert currency, failed to fetch results from Google\n",
      "Invalid currency codes passed in parameters, original exception message is -> 'UYI'\n",
      "Invalid currency codes passed in parameters, original exception message is -> 'USN'\n",
      "Unable to convert currency, failed to fetch results from Google\n",
      "Invalid currency codes passed in parameters, original exception message is -> 'VUV'\n",
      "Invalid currency codes passed in parameters, original exception message is -> 'WST'\n",
      "Invalid currency codes passed in parameters, original exception message is -> 'ZWL'\n"
     ]
    },
    {
     "name": "stdout",
     "output_type": "stream",
     "text": [
      "                  Country  last_value         Currency Code ppp_todollar\n",
      "0                   aruba    1.350690    Aruban Florin  AWG         0.75\n",
      "1             afghanistan   17.914483          Afghani  AFN         0.23\n",
      "2                  angola  146.167168           Kwanza  AOA         0.22\n",
      "3                 albania   41.342391              Lek  ALL         0.40\n",
      "4    united arab emirates    2.258503       UAE Dirham  AED         0.61\n",
      "..                    ...         ...              ...  ...          ...\n",
      "183               vanuatu  108.104856             Vatu  VUV            0\n",
      "184                 samoa    1.662674             Tala  WST            0\n",
      "185          south africa    6.652566             Rand  ZAR         0.47\n",
      "186                zambia    4.641657   Zambian Kwacha  ZMW         0.26\n",
      "187              zimbabwe    0.494348  Zimbabwe Dollar  ZWL            0\n",
      "\n",
      "[188 rows x 5 columns]\n",
      "CPU times: user 3.17 s, sys: 406 ms, total: 3.58 s\n",
      "Wall time: 5min 48s\n"
     ]
    }
   ],
   "source": [
    "%%time\n",
    "apply = df.apply(\n",
    "         lambda x: ppp_to_dollar(x['Code'], x['last_value']),\n",
    "         axis=1)\n",
    "df['ppp_todollar']  = apply\n",
    "print(df)"
   ]
  },
  {
   "cell_type": "code",
   "execution_count": 6,
   "metadata": {},
   "outputs": [],
   "source": [
    "df[\"ppp_todollar\"] = df.ppp_todollar.astype(float)"
   ]
  },
  {
   "cell_type": "code",
   "execution_count": 7,
   "metadata": {},
   "outputs": [
    {
     "data": {
      "text/plain": [
       "57    1.333333\n",
       "Name: ppp_todollar, dtype: float64"
      ]
     },
     "execution_count": 7,
     "metadata": {},
     "output_type": "execute_result"
    }
   ],
   "source": [
    "# adjustment \n",
    "adjustment=1/(df.ppp_todollar[df.Country == 'spain'])\n",
    "adjustment"
   ]
  },
  {
   "cell_type": "code",
   "execution_count": 8,
   "metadata": {},
   "outputs": [],
   "source": [
    "def ppp_to_spain(ppp_to_dollar):\n",
    "    return round(ppp_to_dollar*adjustment, 2)"
   ]
  },
  {
   "cell_type": "code",
   "execution_count": 9,
   "metadata": {},
   "outputs": [
    {
     "name": "stdout",
     "output_type": "stream",
     "text": [
      "CPU times: user 29.3 ms, sys: 1.74 ms, total: 31 ms\n",
      "Wall time: 33.8 ms\n"
     ]
    }
   ],
   "source": [
    "%%time\n",
    "apply = df.apply(\n",
    "         lambda x: ppp_to_spain(x['ppp_todollar']),\n",
    "         axis=1)\n",
    "df['ppp_spain']  = apply"
   ]
  },
  {
   "cell_type": "code",
   "execution_count": 24,
   "metadata": {},
   "outputs": [
    {
     "data": {
      "text/html": [
       "<div>\n",
       "<style scoped>\n",
       "    .dataframe tbody tr th:only-of-type {\n",
       "        vertical-align: middle;\n",
       "    }\n",
       "\n",
       "    .dataframe tbody tr th {\n",
       "        vertical-align: top;\n",
       "    }\n",
       "\n",
       "    .dataframe thead th {\n",
       "        text-align: right;\n",
       "    }\n",
       "</style>\n",
       "<table border=\"1\" class=\"dataframe\">\n",
       "  <thead>\n",
       "    <tr style=\"text-align: right;\">\n",
       "      <th></th>\n",
       "      <th>Country</th>\n",
       "      <th>last_value</th>\n",
       "      <th>Currency</th>\n",
       "      <th>Code</th>\n",
       "      <th>ppp_todollar</th>\n",
       "      <th>ppp_spain</th>\n",
       "    </tr>\n",
       "  </thead>\n",
       "  <tbody>\n",
       "    <tr>\n",
       "      <th>43</th>\n",
       "      <td>germany</td>\n",
       "      <td>0.744679</td>\n",
       "      <td>Euro</td>\n",
       "      <td>EUR</td>\n",
       "      <td>0.88</td>\n",
       "      <td>NaN</td>\n",
       "    </tr>\n",
       "  </tbody>\n",
       "</table>\n",
       "</div>"
      ],
      "text/plain": [
       "    Country  last_value Currency Code ppp_todollar  ppp_spain\n",
       "43  germany    0.744679     Euro  EUR         0.88        NaN"
      ]
     },
     "execution_count": 24,
     "metadata": {},
     "output_type": "execute_result"
    }
   ],
   "source": [
    "df[df.Country == 'germany']"
   ]
  },
  {
   "cell_type": "code",
   "execution_count": 12,
   "metadata": {},
   "outputs": [
    {
     "data": {
      "text/plain": [
       "Country          object\n",
       "last_value      float64\n",
       "Currency         object\n",
       "Code             object\n",
       "ppp_todollar     object\n",
       "ppp_spain       float64\n",
       "dtype: object"
      ]
     },
     "execution_count": 12,
     "metadata": {},
     "output_type": "execute_result"
    }
   ],
   "source": [
    "df.dtypes"
   ]
  },
  {
   "cell_type": "code",
   "execution_count": 13,
   "metadata": {},
   "outputs": [],
   "source": [
    "df[\"ppp_spain\"] = df.ppp_spain.astype(float)"
   ]
  },
  {
   "cell_type": "code",
   "execution_count": 14,
   "metadata": {},
   "outputs": [
    {
     "data": {
      "text/html": [
       "<div>\n",
       "<style scoped>\n",
       "    .dataframe tbody tr th:only-of-type {\n",
       "        vertical-align: middle;\n",
       "    }\n",
       "\n",
       "    .dataframe tbody tr th {\n",
       "        vertical-align: top;\n",
       "    }\n",
       "\n",
       "    .dataframe thead th {\n",
       "        text-align: right;\n",
       "    }\n",
       "</style>\n",
       "<table border=\"1\" class=\"dataframe\">\n",
       "  <thead>\n",
       "    <tr style=\"text-align: right;\">\n",
       "      <th></th>\n",
       "      <th>Country</th>\n",
       "      <th>last_value</th>\n",
       "      <th>Currency</th>\n",
       "      <th>Code</th>\n",
       "      <th>ppp_todollar</th>\n",
       "      <th>ppp_spain</th>\n",
       "    </tr>\n",
       "  </thead>\n",
       "  <tbody>\n",
       "    <tr>\n",
       "      <th>23</th>\n",
       "      <td>bolivia</td>\n",
       "      <td>2.694105</td>\n",
       "      <td>Mvdol</td>\n",
       "      <td>BOV</td>\n",
       "      <td>0</td>\n",
       "      <td>0.0</td>\n",
       "    </tr>\n",
       "    <tr>\n",
       "      <th>32</th>\n",
       "      <td>switzerland</td>\n",
       "      <td>1.143836</td>\n",
       "      <td>WIR Euro</td>\n",
       "      <td>CHE</td>\n",
       "      <td>0</td>\n",
       "      <td>0.0</td>\n",
       "    </tr>\n",
       "    <tr>\n",
       "      <th>33</th>\n",
       "      <td>switzerland</td>\n",
       "      <td>1.143836</td>\n",
       "      <td>Swiss Franc</td>\n",
       "      <td>CHF</td>\n",
       "      <td>0</td>\n",
       "      <td>0.0</td>\n",
       "    </tr>\n",
       "    <tr>\n",
       "      <th>34</th>\n",
       "      <td>switzerland</td>\n",
       "      <td>1.143836</td>\n",
       "      <td>WIR Franc</td>\n",
       "      <td>CHW</td>\n",
       "      <td>0</td>\n",
       "      <td>0.0</td>\n",
       "    </tr>\n",
       "    <tr>\n",
       "      <th>40</th>\n",
       "      <td>colombia</td>\n",
       "      <td>1351.775746</td>\n",
       "      <td>Unidad de Valor Real</td>\n",
       "      <td>COU</td>\n",
       "      <td>0</td>\n",
       "      <td>0.0</td>\n",
       "    </tr>\n",
       "    <tr>\n",
       "      <th>44</th>\n",
       "      <td>cuba</td>\n",
       "      <td>0.321939</td>\n",
       "      <td>Peso Convertible</td>\n",
       "      <td>CUC</td>\n",
       "      <td>0</td>\n",
       "      <td>0.0</td>\n",
       "    </tr>\n",
       "    <tr>\n",
       "      <th>56</th>\n",
       "      <td>eritrea</td>\n",
       "      <td>5.469904</td>\n",
       "      <td>Nakfa</td>\n",
       "      <td>ERN</td>\n",
       "      <td>0</td>\n",
       "      <td>0.0</td>\n",
       "    </tr>\n",
       "    <tr>\n",
       "      <th>66</th>\n",
       "      <td>ghana</td>\n",
       "      <td>2.032734</td>\n",
       "      <td>Ghana Cedi</td>\n",
       "      <td>GHS</td>\n",
       "      <td>0</td>\n",
       "      <td>0.0</td>\n",
       "    </tr>\n",
       "    <tr>\n",
       "      <th>107</th>\n",
       "      <td>mexico</td>\n",
       "      <td>9.505202</td>\n",
       "      <td>Mexican Unidad de Inversion (UDI)</td>\n",
       "      <td>MXV</td>\n",
       "      <td>0</td>\n",
       "      <td>0.0</td>\n",
       "    </tr>\n",
       "    <tr>\n",
       "      <th>113</th>\n",
       "      <td>mongolia</td>\n",
       "      <td>898.732634</td>\n",
       "      <td>Tugrik</td>\n",
       "      <td>MNT</td>\n",
       "      <td>0</td>\n",
       "      <td>0.0</td>\n",
       "    </tr>\n",
       "    <tr>\n",
       "      <th>114</th>\n",
       "      <td>mozambique</td>\n",
       "      <td>23.547195</td>\n",
       "      <td>Mozambique Metical</td>\n",
       "      <td>MZN</td>\n",
       "      <td>0</td>\n",
       "      <td>0.0</td>\n",
       "    </tr>\n",
       "    <tr>\n",
       "      <th>142</th>\n",
       "      <td>romania</td>\n",
       "      <td>1.691197</td>\n",
       "      <td>New Romanian Leu</td>\n",
       "      <td>RON</td>\n",
       "      <td>0</td>\n",
       "      <td>0.0</td>\n",
       "    </tr>\n",
       "    <tr>\n",
       "      <th>146</th>\n",
       "      <td>sudan</td>\n",
       "      <td>10.500847</td>\n",
       "      <td>Sudanese Pound</td>\n",
       "      <td>SDG</td>\n",
       "      <td>0</td>\n",
       "      <td>0.0</td>\n",
       "    </tr>\n",
       "    <tr>\n",
       "      <th>155</th>\n",
       "      <td>serbia</td>\n",
       "      <td>41.207998</td>\n",
       "      <td>Serbian Dinar</td>\n",
       "      <td>RSD</td>\n",
       "      <td>0</td>\n",
       "      <td>0.0</td>\n",
       "    </tr>\n",
       "    <tr>\n",
       "      <th>156</th>\n",
       "      <td>south sudan</td>\n",
       "      <td>3.268295</td>\n",
       "      <td>South Sudanese Pound</td>\n",
       "      <td>SSP</td>\n",
       "      <td>0</td>\n",
       "      <td>0.0</td>\n",
       "    </tr>\n",
       "    <tr>\n",
       "      <th>157</th>\n",
       "      <td>sao tome and principe</td>\n",
       "      <td>10.354405</td>\n",
       "      <td>Dobra</td>\n",
       "      <td>STD</td>\n",
       "      <td>0</td>\n",
       "      <td>0.0</td>\n",
       "    </tr>\n",
       "    <tr>\n",
       "      <th>168</th>\n",
       "      <td>turkmenistan</td>\n",
       "      <td>1.603425</td>\n",
       "      <td>Turkmenistan New Manat</td>\n",
       "      <td>TMT</td>\n",
       "      <td>0</td>\n",
       "      <td>0.0</td>\n",
       "    </tr>\n",
       "    <tr>\n",
       "      <th>170</th>\n",
       "      <td>tonga</td>\n",
       "      <td>1.671151</td>\n",
       "      <td>Pa’anga</td>\n",
       "      <td>TOP</td>\n",
       "      <td>0</td>\n",
       "      <td>0.0</td>\n",
       "    </tr>\n",
       "    <tr>\n",
       "      <th>177</th>\n",
       "      <td>uruguay</td>\n",
       "      <td>25.351299</td>\n",
       "      <td>Uruguay Peso en Unidades Indexadas (URUIURUI)</td>\n",
       "      <td>UYI</td>\n",
       "      <td>0</td>\n",
       "      <td>0.0</td>\n",
       "    </tr>\n",
       "    <tr>\n",
       "      <th>180</th>\n",
       "      <td>united states</td>\n",
       "      <td>1.000000</td>\n",
       "      <td>US Dollar (Next day)</td>\n",
       "      <td>USN</td>\n",
       "      <td>0</td>\n",
       "      <td>0.0</td>\n",
       "    </tr>\n",
       "    <tr>\n",
       "      <th>182</th>\n",
       "      <td>venezuela, rb</td>\n",
       "      <td>2.680983</td>\n",
       "      <td>Bolivar</td>\n",
       "      <td>VEF</td>\n",
       "      <td>0</td>\n",
       "      <td>0.0</td>\n",
       "    </tr>\n",
       "    <tr>\n",
       "      <th>183</th>\n",
       "      <td>vanuatu</td>\n",
       "      <td>108.104856</td>\n",
       "      <td>Vatu</td>\n",
       "      <td>VUV</td>\n",
       "      <td>0</td>\n",
       "      <td>0.0</td>\n",
       "    </tr>\n",
       "    <tr>\n",
       "      <th>184</th>\n",
       "      <td>samoa</td>\n",
       "      <td>1.662674</td>\n",
       "      <td>Tala</td>\n",
       "      <td>WST</td>\n",
       "      <td>0</td>\n",
       "      <td>0.0</td>\n",
       "    </tr>\n",
       "    <tr>\n",
       "      <th>187</th>\n",
       "      <td>zimbabwe</td>\n",
       "      <td>0.494348</td>\n",
       "      <td>Zimbabwe Dollar</td>\n",
       "      <td>ZWL</td>\n",
       "      <td>0</td>\n",
       "      <td>0.0</td>\n",
       "    </tr>\n",
       "  </tbody>\n",
       "</table>\n",
       "</div>"
      ],
      "text/plain": [
       "                   Country   last_value  \\\n",
       "23                 bolivia     2.694105   \n",
       "32             switzerland     1.143836   \n",
       "33             switzerland     1.143836   \n",
       "34             switzerland     1.143836   \n",
       "40                colombia  1351.775746   \n",
       "44                    cuba     0.321939   \n",
       "56                 eritrea     5.469904   \n",
       "66                   ghana     2.032734   \n",
       "107                 mexico     9.505202   \n",
       "113               mongolia   898.732634   \n",
       "114             mozambique    23.547195   \n",
       "142                romania     1.691197   \n",
       "146                  sudan    10.500847   \n",
       "155                 serbia    41.207998   \n",
       "156            south sudan     3.268295   \n",
       "157  sao tome and principe    10.354405   \n",
       "168           turkmenistan     1.603425   \n",
       "170                  tonga     1.671151   \n",
       "177                uruguay    25.351299   \n",
       "180          united states     1.000000   \n",
       "182          venezuela, rb     2.680983   \n",
       "183                vanuatu   108.104856   \n",
       "184                  samoa     1.662674   \n",
       "187               zimbabwe     0.494348   \n",
       "\n",
       "                                          Currency Code ppp_todollar  \\\n",
       "23                                           Mvdol  BOV            0   \n",
       "32                                        WIR Euro  CHE            0   \n",
       "33                                     Swiss Franc  CHF            0   \n",
       "34                                       WIR Franc  CHW            0   \n",
       "40                            Unidad de Valor Real  COU            0   \n",
       "44                                Peso Convertible  CUC            0   \n",
       "56                                           Nakfa  ERN            0   \n",
       "66                                      Ghana Cedi  GHS            0   \n",
       "107              Mexican Unidad de Inversion (UDI)  MXV            0   \n",
       "113                                         Tugrik  MNT            0   \n",
       "114                             Mozambique Metical  MZN            0   \n",
       "142                               New Romanian Leu  RON            0   \n",
       "146                                 Sudanese Pound  SDG            0   \n",
       "155                                  Serbian Dinar  RSD            0   \n",
       "156                           South Sudanese Pound  SSP            0   \n",
       "157                                          Dobra  STD            0   \n",
       "168                         Turkmenistan New Manat  TMT            0   \n",
       "170                                        Pa’anga  TOP            0   \n",
       "177  Uruguay Peso en Unidades Indexadas (URUIURUI)  UYI            0   \n",
       "180                           US Dollar (Next day)  USN            0   \n",
       "182                                        Bolivar  VEF            0   \n",
       "183                                           Vatu  VUV            0   \n",
       "184                                           Tala  WST            0   \n",
       "187                                Zimbabwe Dollar  ZWL            0   \n",
       "\n",
       "     ppp_spain  \n",
       "23         0.0  \n",
       "32         0.0  \n",
       "33         0.0  \n",
       "34         0.0  \n",
       "40         0.0  \n",
       "44         0.0  \n",
       "56         0.0  \n",
       "66         0.0  \n",
       "107        0.0  \n",
       "113        0.0  \n",
       "114        0.0  \n",
       "142        0.0  \n",
       "146        0.0  \n",
       "155        0.0  \n",
       "156        0.0  \n",
       "157        0.0  \n",
       "168        0.0  \n",
       "170        0.0  \n",
       "177        0.0  \n",
       "180        0.0  \n",
       "182        0.0  \n",
       "183        0.0  \n",
       "184        0.0  \n",
       "187        0.0  "
      ]
     },
     "execution_count": 14,
     "metadata": {},
     "output_type": "execute_result"
    }
   ],
   "source": [
    "df[df.ppp_todollar == 0.00]"
   ]
  },
  {
   "cell_type": "code",
   "execution_count": 15,
   "metadata": {},
   "outputs": [],
   "source": [
    "df.drop(df[df['ppp_todollar'] == 0.0].index, inplace = True)"
   ]
  },
  {
   "cell_type": "markdown",
   "metadata": {},
   "source": [
    "# Adjustment function"
   ]
  },
  {
   "cell_type": "code",
   "execution_count": 16,
   "metadata": {},
   "outputs": [],
   "source": [
    "def price_calculator(product_price, country):\n",
    "    find_ppp=df.ppp_spain[df.Country == country.lower()]\n",
    "    return product_price * find_ppp.item()"
   ]
  },
  {
   "cell_type": "code",
   "execution_count": 17,
   "metadata": {},
   "outputs": [
    {
     "data": {
      "text/plain": [
       "0.48"
      ]
     },
     "execution_count": 17,
     "metadata": {},
     "output_type": "execute_result"
    }
   ],
   "source": [
    "df.ppp_spain[df.Country == 'colombia'].item()"
   ]
  },
  {
   "cell_type": "code",
   "execution_count": 18,
   "metadata": {},
   "outputs": [
    {
     "data": {
      "text/plain": [
       "9.6"
      ]
     },
     "execution_count": 18,
     "metadata": {},
     "output_type": "execute_result"
    }
   ],
   "source": [
    "price_calculator(20, 'colombia')"
   ]
  },
  {
   "cell_type": "code",
   "execution_count": 19,
   "metadata": {},
   "outputs": [
    {
     "data": {
      "text/plain": [
       "'50.26'"
      ]
     },
     "execution_count": 19,
     "metadata": {},
     "output_type": "execute_result"
    }
   ],
   "source": [
    "conversion=convert('usd', 'eur', 60)\n",
    "result = json.loads(conversion)\n",
    "result['amount']"
   ]
  },
  {
   "cell_type": "code",
   "execution_count": 20,
   "metadata": {},
   "outputs": [],
   "source": [
    "df.to_excel('/Users/mikel/Documents/Projects/chameleon-pricing/DB.xlsx', index=False)"
   ]
  },
  {
   "cell_type": "code",
   "execution_count": 28,
   "metadata": {},
   "outputs": [
    {
     "data": {
      "text/html": [
       "<div>\n",
       "<style scoped>\n",
       "    .dataframe tbody tr th:only-of-type {\n",
       "        vertical-align: middle;\n",
       "    }\n",
       "\n",
       "    .dataframe tbody tr th {\n",
       "        vertical-align: top;\n",
       "    }\n",
       "\n",
       "    .dataframe thead th {\n",
       "        text-align: right;\n",
       "    }\n",
       "</style>\n",
       "<table border=\"1\" class=\"dataframe\">\n",
       "  <thead>\n",
       "    <tr style=\"text-align: right;\">\n",
       "      <th></th>\n",
       "      <th>Country</th>\n",
       "      <th>last_value</th>\n",
       "      <th>Currency</th>\n",
       "      <th>Code</th>\n",
       "      <th>ppp_todollar</th>\n",
       "      <th>ppp_spain</th>\n",
       "    </tr>\n",
       "  </thead>\n",
       "  <tbody>\n",
       "    <tr>\n",
       "      <th>0</th>\n",
       "      <td>aruba</td>\n",
       "      <td>1.350690</td>\n",
       "      <td>Aruban Florin</td>\n",
       "      <td>AWG</td>\n",
       "      <td>0.75</td>\n",
       "      <td>1.00</td>\n",
       "    </tr>\n",
       "    <tr>\n",
       "      <th>1</th>\n",
       "      <td>afghanistan</td>\n",
       "      <td>17.914483</td>\n",
       "      <td>Afghani</td>\n",
       "      <td>AFN</td>\n",
       "      <td>0.23</td>\n",
       "      <td>0.31</td>\n",
       "    </tr>\n",
       "    <tr>\n",
       "      <th>2</th>\n",
       "      <td>angola</td>\n",
       "      <td>146.167168</td>\n",
       "      <td>Kwanza</td>\n",
       "      <td>AOA</td>\n",
       "      <td>0.22</td>\n",
       "      <td>0.29</td>\n",
       "    </tr>\n",
       "    <tr>\n",
       "      <th>3</th>\n",
       "      <td>albania</td>\n",
       "      <td>41.342391</td>\n",
       "      <td>Lek</td>\n",
       "      <td>ALL</td>\n",
       "      <td>0.40</td>\n",
       "      <td>0.53</td>\n",
       "    </tr>\n",
       "    <tr>\n",
       "      <th>4</th>\n",
       "      <td>united arab emirates</td>\n",
       "      <td>2.258503</td>\n",
       "      <td>UAE Dirham</td>\n",
       "      <td>AED</td>\n",
       "      <td>0.61</td>\n",
       "      <td>0.81</td>\n",
       "    </tr>\n",
       "    <tr>\n",
       "      <th>...</th>\n",
       "      <td>...</td>\n",
       "      <td>...</td>\n",
       "      <td>...</td>\n",
       "      <td>...</td>\n",
       "      <td>...</td>\n",
       "      <td>...</td>\n",
       "    </tr>\n",
       "    <tr>\n",
       "      <th>158</th>\n",
       "      <td>uruguay</td>\n",
       "      <td>25.351299</td>\n",
       "      <td>Peso Uruguayo</td>\n",
       "      <td>UYU</td>\n",
       "      <td>0.58</td>\n",
       "      <td>0.77</td>\n",
       "    </tr>\n",
       "    <tr>\n",
       "      <th>159</th>\n",
       "      <td>united states</td>\n",
       "      <td>1.000000</td>\n",
       "      <td>US Dollar</td>\n",
       "      <td>USD</td>\n",
       "      <td>1.00</td>\n",
       "      <td>1.33</td>\n",
       "    </tr>\n",
       "    <tr>\n",
       "      <th>160</th>\n",
       "      <td>uzbekistan</td>\n",
       "      <td>2085.548458</td>\n",
       "      <td>Uzbekistan Sum</td>\n",
       "      <td>UZS</td>\n",
       "      <td>0.20</td>\n",
       "      <td>0.27</td>\n",
       "    </tr>\n",
       "    <tr>\n",
       "      <th>161</th>\n",
       "      <td>south africa</td>\n",
       "      <td>6.652566</td>\n",
       "      <td>Rand</td>\n",
       "      <td>ZAR</td>\n",
       "      <td>0.47</td>\n",
       "      <td>0.63</td>\n",
       "    </tr>\n",
       "    <tr>\n",
       "      <th>162</th>\n",
       "      <td>zambia</td>\n",
       "      <td>4.641657</td>\n",
       "      <td>Zambian Kwacha</td>\n",
       "      <td>ZMW</td>\n",
       "      <td>0.21</td>\n",
       "      <td>0.28</td>\n",
       "    </tr>\n",
       "  </tbody>\n",
       "</table>\n",
       "<p>163 rows × 6 columns</p>\n",
       "</div>"
      ],
      "text/plain": [
       "                  Country   last_value        Currency Code  ppp_todollar  \\\n",
       "0                   aruba     1.350690   Aruban Florin  AWG          0.75   \n",
       "1             afghanistan    17.914483         Afghani  AFN          0.23   \n",
       "2                  angola   146.167168          Kwanza  AOA          0.22   \n",
       "3                 albania    41.342391             Lek  ALL          0.40   \n",
       "4    united arab emirates     2.258503      UAE Dirham  AED          0.61   \n",
       "..                    ...          ...             ...  ...           ...   \n",
       "158               uruguay    25.351299   Peso Uruguayo  UYU          0.58   \n",
       "159         united states     1.000000       US Dollar  USD          1.00   \n",
       "160            uzbekistan  2085.548458  Uzbekistan Sum  UZS          0.20   \n",
       "161          south africa     6.652566            Rand  ZAR          0.47   \n",
       "162                zambia     4.641657  Zambian Kwacha  ZMW          0.21   \n",
       "\n",
       "     ppp_spain  \n",
       "0         1.00  \n",
       "1         0.31  \n",
       "2         0.29  \n",
       "3         0.53  \n",
       "4         0.81  \n",
       "..         ...  \n",
       "158       0.77  \n",
       "159       1.33  \n",
       "160       0.27  \n",
       "161       0.63  \n",
       "162       0.28  \n",
       "\n",
       "[163 rows x 6 columns]"
      ]
     },
     "execution_count": 28,
     "metadata": {},
     "output_type": "execute_result"
    }
   ],
   "source": [
    "df=pd.read_excel('/Users/mikel/Documents/Projects/chameleon-pricing/DB.xlsx')\n",
    "df"
   ]
  },
  {
   "cell_type": "code",
   "execution_count": 32,
   "metadata": {},
   "outputs": [
    {
     "data": {
      "text/html": [
       "<div>\n",
       "<style scoped>\n",
       "    .dataframe tbody tr th:only-of-type {\n",
       "        vertical-align: middle;\n",
       "    }\n",
       "\n",
       "    .dataframe tbody tr th {\n",
       "        vertical-align: top;\n",
       "    }\n",
       "\n",
       "    .dataframe thead th {\n",
       "        text-align: right;\n",
       "    }\n",
       "</style>\n",
       "<table border=\"1\" class=\"dataframe\">\n",
       "  <thead>\n",
       "    <tr style=\"text-align: right;\">\n",
       "      <th></th>\n",
       "      <th>Country</th>\n",
       "      <th>last_value</th>\n",
       "      <th>Currency</th>\n",
       "      <th>Code</th>\n",
       "      <th>ppp_todollar</th>\n",
       "      <th>ppp_spain</th>\n",
       "    </tr>\n",
       "  </thead>\n",
       "  <tbody>\n",
       "    <tr>\n",
       "      <th>22</th>\n",
       "      <td>brazil</td>\n",
       "      <td>2.247384</td>\n",
       "      <td>Brazilian Real</td>\n",
       "      <td>BRL</td>\n",
       "      <td>0.45</td>\n",
       "      <td>0.6</td>\n",
       "    </tr>\n",
       "  </tbody>\n",
       "</table>\n",
       "</div>"
      ],
      "text/plain": [
       "   Country  last_value        Currency Code  ppp_todollar  ppp_spain\n",
       "22  brazil    2.247384  Brazilian Real  BRL          0.45        0.6"
      ]
     },
     "execution_count": 32,
     "metadata": {},
     "output_type": "execute_result"
    }
   ],
   "source": [
    "df[df.Country == 'brazil']"
   ]
  },
  {
   "cell_type": "code",
   "execution_count": 36,
   "metadata": {},
   "outputs": [
    {
     "data": {
      "text/plain": [
       "4.9"
      ]
     },
     "execution_count": 36,
     "metadata": {},
     "output_type": "execute_result"
    }
   ],
   "source": [
    "import chameleonpricing as cp \n",
    "cp.price_calculator(10, 'colombia')"
   ]
  },
  {
   "cell_type": "code",
   "execution_count": null,
   "metadata": {},
   "outputs": [],
   "source": []
  }
 ],
 "metadata": {
  "interpreter": {
   "hash": "e134e05457d34029b6460cd73bbf1ed73f339b5b6d98c95be70b69eba114fe95"
  },
  "kernelspec": {
   "display_name": "Python 3.8.5 64-bit ('base': conda)",
   "name": "python3"
  },
  "language_info": {
   "name": "python",
   "version": ""
  },
  "orig_nbformat": 4
 },
 "nbformat": 4,
 "nbformat_minor": 2
}